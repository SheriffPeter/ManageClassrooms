{
 "cells": [
  {
   "cell_type": "code",
   "execution_count": 1,
   "id": "c9490656-3d7a-4672-ac73-3e3e5d77caaa",
   "metadata": {},
   "outputs": [
    {
     "name": "stdout",
     "output_type": "stream",
     "text": [
      "Hello world\n"
     ]
    }
   ],
   "source": [
    "print('Hello world')"
   ]
  },
  {
   "cell_type": "code",
   "execution_count": 2,
   "id": "09869061-3430-405c-89cc-43b97c657eb2",
   "metadata": {},
   "outputs": [
    {
     "name": "stdout",
     "output_type": "stream",
     "text": [
      "3\n"
     ]
    }
   ],
   "source": [
    "print(1 + 2)"
   ]
  },
  {
   "cell_type": "code",
   "execution_count": 3,
   "id": "f7d24585-2562-48de-898e-93cf9ce6f74b",
   "metadata": {},
   "outputs": [
    {
     "name": "stdout",
     "output_type": "stream",
     "text": [
      "<class 'str'>\n"
     ]
    }
   ],
   "source": [
    "print(type('test'))"
   ]
  },
  {
   "cell_type": "code",
   "execution_count": 4,
   "id": "0669a821-6e97-4679-84d1-a3b88445ba8f",
   "metadata": {},
   "outputs": [
    {
     "name": "stdout",
     "output_type": "stream",
     "text": [
      "<class 'int'>\n"
     ]
    }
   ],
   "source": [
    "print(type(1 + 2))"
   ]
  },
  {
   "cell_type": "code",
   "execution_count": 5,
   "id": "98a1859e-4bac-4d26-a0fa-48ef143fe50d",
   "metadata": {},
   "outputs": [
    {
     "name": "stdout",
     "output_type": "stream",
     "text": [
      "test\n",
      "None\n"
     ]
    }
   ],
   "source": [
    "print(print('test'))"
   ]
  },
  {
   "cell_type": "code",
   "execution_count": 6,
   "id": "7bca6918-aa6f-4771-88a2-eef20ad7a140",
   "metadata": {},
   "outputs": [
    {
     "name": "stdout",
     "output_type": "stream",
     "text": [
      "hello\n",
      "world\n"
     ]
    }
   ],
   "source": [
    "print('hello')\n",
    "print('world')"
   ]
  },
  {
   "cell_type": "code",
   "execution_count": 7,
   "id": "48628e96-01a0-45be-81d6-e325f75875b8",
   "metadata": {},
   "outputs": [],
   "source": [
    "my_name = 'Gaëlle'"
   ]
  },
  {
   "cell_type": "code",
   "execution_count": 8,
   "id": "e1516da1-fdf8-454f-a635-d081b5f04d82",
   "metadata": {},
   "outputs": [
    {
     "name": "stdout",
     "output_type": "stream",
     "text": [
      "Gaëlle\n"
     ]
    }
   ],
   "source": [
    "print(my_name)"
   ]
  },
  {
   "cell_type": "code",
   "execution_count": 12,
   "id": "e97a3f14-d2c5-4053-a28f-f75fc4152782",
   "metadata": {},
   "outputs": [
    {
     "name": "stdout",
     "output_type": "stream",
     "text": [
      "Hello Gaëlle\n"
     ]
    }
   ],
   "source": [
    "print('Hello ' + my_name)"
   ]
  },
  {
   "cell_type": "code",
   "execution_count": 13,
   "id": "8dc78845-195b-4acd-8ab2-61843b01bfc8",
   "metadata": {},
   "outputs": [],
   "source": [
    "my_name = 'EuroInformation'"
   ]
  },
  {
   "cell_type": "code",
   "execution_count": 14,
   "id": "9b12439d-48e8-401b-a9f5-b979af51392f",
   "metadata": {},
   "outputs": [
    {
     "name": "stdout",
     "output_type": "stream",
     "text": [
      "EuroInformation\n"
     ]
    }
   ],
   "source": [
    "print(my_name)"
   ]
  },
  {
   "cell_type": "code",
   "execution_count": 17,
   "id": "45c796f4-b8ae-4680-b4ca-d1970ef202a5",
   "metadata": {},
   "outputs": [],
   "source": [
    "my_name = 12e3"
   ]
  },
  {
   "cell_type": "code",
   "execution_count": 18,
   "id": "b8458292-fb2c-41b3-808d-5952ff82dc2d",
   "metadata": {},
   "outputs": [
    {
     "name": "stdout",
     "output_type": "stream",
     "text": [
      "12000.0\n",
      "<class 'float'>\n"
     ]
    }
   ],
   "source": [
    "print(my_name)\n",
    "print(type(my_name))"
   ]
  },
  {
   "cell_type": "code",
   "execution_count": 19,
   "id": "77196026-1bbc-46f6-a455-60d1e27abf9f",
   "metadata": {},
   "outputs": [
    {
     "ename": "TypeError",
     "evalue": "can only concatenate str (not \"int\") to str",
     "output_type": "error",
     "traceback": [
      "\u001b[0;31m---------------------------------------------------------------------------\u001b[0m",
      "\u001b[0;31mTypeError\u001b[0m                                 Traceback (most recent call last)",
      "Input \u001b[0;32mIn [19]\u001b[0m, in \u001b[0;36m<cell line: 1>\u001b[0;34m()\u001b[0m\n\u001b[0;32m----> 1\u001b[0m \u001b[38;5;28mprint\u001b[39m(\u001b[38;5;124;43m'\u001b[39;49m\u001b[38;5;124;43m1\u001b[39;49m\u001b[38;5;124;43m'\u001b[39;49m\u001b[43m \u001b[49m\u001b[38;5;241;43m+\u001b[39;49m\u001b[43m \u001b[49m\u001b[38;5;241;43m2\u001b[39;49m)\n",
      "\u001b[0;31mTypeError\u001b[0m: can only concatenate str (not \"int\") to str"
     ]
    }
   ],
   "source": [
    "print('1' + 2)"
   ]
  },
  {
   "cell_type": "code",
   "execution_count": 21,
   "id": "75926dc0-f15c-480d-8893-6406215a683c",
   "metadata": {},
   "outputs": [
    {
     "name": "stdout",
     "output_type": "stream",
     "text": [
      "12\n",
      "3\n"
     ]
    }
   ],
   "source": [
    "print('1' + str(2))\n",
    "print(int('1') + 2)"
   ]
  },
  {
   "cell_type": "code",
   "execution_count": 22,
   "id": "20621c69-c54e-4452-85e7-049792ed24f1",
   "metadata": {},
   "outputs": [
    {
     "name": "stdout",
     "output_type": "stream",
     "text": [
      "12000.0\n"
     ]
    }
   ],
   "source": [
    "print(my_name)"
   ]
  },
  {
   "cell_type": "code",
   "execution_count": 23,
   "id": "12a82a13-31d5-4555-9573-c77b7e7156fe",
   "metadata": {},
   "outputs": [
    {
     "name": "stdout",
     "output_type": "stream",
     "text": [
      "<class 'float'>\n"
     ]
    }
   ],
   "source": [
    "print(type(my_name))"
   ]
  },
  {
   "cell_type": "code",
   "execution_count": 27,
   "id": "4cd495d0-a031-4173-b7b1-a452b0ef158a",
   "metadata": {},
   "outputs": [
    {
     "name": "stdout",
     "output_type": "stream",
     "text": [
      "Bonjour !\n",
      "On passe à la suite\n"
     ]
    }
   ],
   "source": [
    "my_name = 'Gaëlle'\n",
    "\n",
    "if my_name == 'Gaëlle':\n",
    "    print('Bonjour !')\n",
    "    \n",
    "print('On passe à la suite')"
   ]
  },
  {
   "cell_type": "code",
   "execution_count": 28,
   "id": "cb811a5f-8e43-4ad8-8539-63f36207a715",
   "metadata": {},
   "outputs": [
    {
     "name": "stdout",
     "output_type": "stream",
     "text": [
      "On passe à la suite\n"
     ]
    }
   ],
   "source": [
    "my_name = 'Gaëlle'\n",
    "\n",
    "if my_name != 'Gaëlle':\n",
    "    print('Bonjour !')\n",
    "    \n",
    "print('On passe à la suite')"
   ]
  },
  {
   "cell_type": "code",
   "execution_count": 34,
   "id": "7df00dfe-6446-4116-8914-4f9e0436e140",
   "metadata": {},
   "outputs": [
    {
     "name": "stdout",
     "output_type": "stream",
     "text": [
      "Bonjour !\n",
      "Comment allez-vous ?\n"
     ]
    }
   ],
   "source": [
    "if my_name == 'Gaëlle':\n",
    "    print('Bonjour !')\n",
    "    print('Comment allez-vous ?')\n",
    "    if True:\n",
    "        print('vrai !')"
   ]
  },
  {
   "cell_type": "code",
   "execution_count": 35,
   "id": "b6ab2f53-c8fb-4923-bb3b-fed80c6a754f",
   "metadata": {},
   "outputs": [
    {
     "name": "stdout",
     "output_type": "stream",
     "text": [
      "True\n"
     ]
    }
   ],
   "source": [
    "print(my_name == 'Gaëlle')"
   ]
  },
  {
   "cell_type": "code",
   "execution_count": 36,
   "id": "d5240cab-f087-4106-8901-3358d56b55a3",
   "metadata": {},
   "outputs": [
    {
     "name": "stdout",
     "output_type": "stream",
     "text": [
      "6\n"
     ]
    }
   ],
   "source": [
    "print(len(my_name))"
   ]
  },
  {
   "cell_type": "code",
   "execution_count": 38,
   "id": "c3c75a19-20f6-429e-b564-6be7f1049aff",
   "metadata": {},
   "outputs": [],
   "source": [
    "my_name = ''"
   ]
  },
  {
   "cell_type": "code",
   "execution_count": 40,
   "id": "699b97a4-98b7-4db3-abca-5f916ad3aead",
   "metadata": {},
   "outputs": [
    {
     "name": "stdout",
     "output_type": "stream",
     "text": [
      "Vous n'avez pas de nom.\n"
     ]
    }
   ],
   "source": [
    "if len(my_name) > 0:\n",
    "    print('Bonjour, ' + my_name)\n",
    "else:\n",
    "    print('Vous n\\'avez pas de nom.')"
   ]
  },
  {
   "cell_type": "code",
   "execution_count": 41,
   "id": "d7888cb1-5283-45ce-996e-5e0523c9bcc5",
   "metadata": {},
   "outputs": [
    {
     "name": "stdout",
     "output_type": "stream",
     "text": [
      "True\n"
     ]
    }
   ],
   "source": [
    "print(bool('test'))"
   ]
  },
  {
   "cell_type": "code",
   "execution_count": 42,
   "id": "73c45328-b4d1-4f70-a016-13404c9e19c5",
   "metadata": {},
   "outputs": [
    {
     "name": "stdout",
     "output_type": "stream",
     "text": [
      "True\n"
     ]
    }
   ],
   "source": [
    "print(bool('0'))"
   ]
  },
  {
   "cell_type": "code",
   "execution_count": 43,
   "id": "5d39904a-cd49-4d87-95bf-c7fd2d5dd009",
   "metadata": {},
   "outputs": [
    {
     "name": "stdout",
     "output_type": "stream",
     "text": [
      "False\n",
      "False\n",
      "False\n",
      "False\n"
     ]
    }
   ],
   "source": [
    "print(bool(False))\n",
    "print(bool(None))\n",
    "print(bool(0))\n",
    "print(bool(''))"
   ]
  },
  {
   "cell_type": "code",
   "execution_count": 45,
   "id": "7dba18c6-eb38-483d-80dd-fe86e19bc4f5",
   "metadata": {},
   "outputs": [
    {
     "name": "stdout",
     "output_type": "stream",
     "text": [
      "Vous n'avez pas de nom.\n"
     ]
    }
   ],
   "source": [
    "if my_name:\n",
    "    print('Bonjour, ' + my_name)\n",
    "else:\n",
    "    print('Vous n\\'avez pas de nom.')"
   ]
  },
  {
   "cell_type": "code",
   "execution_count": 46,
   "id": "c0e39513-116a-4a51-9ad1-226d5030581e",
   "metadata": {},
   "outputs": [],
   "source": [
    "my_name = 'Gaëlle'"
   ]
  },
  {
   "cell_type": "code",
   "execution_count": 47,
   "id": "052cbd81-0fd6-4bf4-b0c4-aff65910313c",
   "metadata": {},
   "outputs": [
    {
     "name": "stdout",
     "output_type": "stream",
     "text": [
      "Bonjour, Gaëlle\n"
     ]
    }
   ],
   "source": [
    "if my_name:  # si my_name n’est pas une valeur fausse, donc une chaîne vide\n",
    "    print('Bonjour, ' + my_name)\n",
    "else:\n",
    "    print('Vous n\\'avez pas de nom.')"
   ]
  },
  {
   "cell_type": "code",
   "execution_count": 48,
   "id": "82d3c1ac-fb14-4c9a-8bb1-1b983eab0b80",
   "metadata": {},
   "outputs": [
    {
     "name": "stdout",
     "output_type": "stream",
     "text": [
      "Je m'appelle\n",
      "     Gaëlle\n"
     ]
    }
   ],
   "source": [
    "print(\"\"\"Je m\\'appelle\n",
    "     Gaëlle\"\"\")"
   ]
  },
  {
   "cell_type": "code",
   "execution_count": 52,
   "id": "3e901819-357c-4ae1-b5db-94558d6d4509",
   "metadata": {},
   "outputs": [],
   "source": [
    "my_name = 'Pierre'"
   ]
  },
  {
   "cell_type": "code",
   "execution_count": 53,
   "id": "a4b302dc-a1af-490f-b077-ab4516f6ec39",
   "metadata": {},
   "outputs": [
    {
     "name": "stdout",
     "output_type": "stream",
     "text": [
      "choix 3\n"
     ]
    }
   ],
   "source": [
    "if my_name == 'Gaëlle':\n",
    "    print('choix 1')\n",
    "elif my_name == 'Benoît':\n",
    "    print('choix 2')\n",
    "elif my_name == 'Pierre':\n",
    "    print('choix 3')\n",
    "else:\n",
    "    print('choix par défaut')"
   ]
  },
  {
   "cell_type": "code",
   "execution_count": 55,
   "id": "3c0caeea-873d-4a66-a291-728c76b063e1",
   "metadata": {},
   "outputs": [
    {
     "name": "stdin",
     "output_type": "stream",
     "text": [
      "Entrez votre nom :  test\n"
     ]
    },
    {
     "name": "stdout",
     "output_type": "stream",
     "text": [
      "Bonjour, test\n"
     ]
    }
   ],
   "source": [
    "your_name = input('Entrez votre nom : ')\n",
    "print('Bonjour, ' + your_name)"
   ]
  },
  {
   "cell_type": "code",
   "execution_count": 59,
   "id": "fd64dfc2-ec3d-467e-854e-3f848d8f8203",
   "metadata": {},
   "outputs": [
    {
     "name": "stdin",
     "output_type": "stream",
     "text": [
      "Entrez le mot de passe :  test\n",
      "Entrez le mot de passe :  admin\n",
      "Entrez le mot de passe :  hunter2\n"
     ]
    },
    {
     "name": "stdout",
     "output_type": "stream",
     "text": [
      "Vous pouvez entrer\n"
     ]
    }
   ],
   "source": [
    "correct_password = 'hunter2'\n",
    "guess = ''\n",
    "\n",
    "while guess != correct_password:\n",
    "    guess = input('Entrez le mot de passe : ')\n",
    "    \n",
    "print('Vous pouvez entrer')"
   ]
  },
  {
   "cell_type": "code",
   "execution_count": 60,
   "id": "f2db2874-0d2b-499e-8e96-b81a09370a9a",
   "metadata": {},
   "outputs": [
    {
     "name": "stdout",
     "output_type": "stream",
     "text": [
      "P\n",
      "i\n",
      "e\n",
      "r\n",
      "r\n",
      "e\n"
     ]
    }
   ],
   "source": [
    "for char in my_name:\n",
    "    print(char)"
   ]
  },
  {
   "cell_type": "code",
   "execution_count": 61,
   "id": "cb891fd3-65fd-45e5-a21a-ec9326ef21d5",
   "metadata": {},
   "outputs": [
    {
     "name": "stdout",
     "output_type": "stream",
     "text": [
      "0\n",
      "1\n",
      "2\n",
      "3\n",
      "4\n",
      "5\n",
      "6\n",
      "7\n",
      "8\n",
      "9\n"
     ]
    }
   ],
   "source": [
    "for i in range(10):\n",
    "    print(i)"
   ]
  },
  {
   "cell_type": "code",
   "execution_count": 62,
   "id": "d7167dae-22c1-4b82-b3d3-28b92296028b",
   "metadata": {},
   "outputs": [
    {
     "name": "stdout",
     "output_type": "stream",
     "text": [
      "5\n",
      "6\n",
      "7\n",
      "8\n"
     ]
    }
   ],
   "source": [
    "for i in range(5, 9):\n",
    "    print(i)"
   ]
  },
  {
   "cell_type": "code",
   "execution_count": 63,
   "id": "3589cb84-54c9-475c-a2ff-1d4ada611b57",
   "metadata": {},
   "outputs": [
    {
     "name": "stdout",
     "output_type": "stream",
     "text": [
      "5\n",
      "8\n",
      "11\n",
      "14\n"
     ]
    }
   ],
   "source": [
    "for i in range(5, 15, 3):\n",
    "    print(i)"
   ]
  },
  {
   "cell_type": "code",
   "execution_count": 66,
   "id": "308dd027-eb4c-4bb5-919d-cca65fc71a7c",
   "metadata": {},
   "outputs": [],
   "source": [
    "my_list = ['a', \"b\", 'c']"
   ]
  },
  {
   "cell_type": "code",
   "execution_count": 67,
   "id": "0914516d-07bf-42e4-a1fe-4851e6821f61",
   "metadata": {},
   "outputs": [
    {
     "name": "stdout",
     "output_type": "stream",
     "text": [
      "['a', 'b', 'c']\n",
      "<class 'list'>\n",
      "3\n"
     ]
    }
   ],
   "source": [
    "print(my_list)\n",
    "print(type(my_list))\n",
    "print(len(my_list))"
   ]
  },
  {
   "cell_type": "code",
   "execution_count": 68,
   "id": "60f28153-cd4c-44b8-ad90-b68a40a2d77c",
   "metadata": {},
   "outputs": [
    {
     "name": "stdout",
     "output_type": "stream",
     "text": [
      "a\n",
      "b\n",
      "c\n"
     ]
    }
   ],
   "source": [
    "for i in my_list:\n",
    "    print(i)"
   ]
  },
  {
   "cell_type": "code",
   "execution_count": 69,
   "id": "ffaf5f94-7a3f-45ec-8819-ef05e2179ffb",
   "metadata": {},
   "outputs": [
    {
     "name": "stdout",
     "output_type": "stream",
     "text": [
      "b\n"
     ]
    }
   ],
   "source": [
    "print(my_list[1])"
   ]
  },
  {
   "cell_type": "code",
   "execution_count": 70,
   "id": "b05d283a-b436-454c-9b1e-95a915539440",
   "metadata": {},
   "outputs": [],
   "source": [
    "my_list[0] = 'A'"
   ]
  },
  {
   "cell_type": "code",
   "execution_count": 71,
   "id": "97f47a99-1193-45bd-b6f4-41c252ca6edf",
   "metadata": {},
   "outputs": [
    {
     "name": "stdout",
     "output_type": "stream",
     "text": [
      "['A', 'b', 'c']\n"
     ]
    }
   ],
   "source": [
    "print(my_list)"
   ]
  },
  {
   "cell_type": "code",
   "execution_count": 72,
   "id": "5aed6d8c-de0b-4fc9-9a08-b60124232202",
   "metadata": {},
   "outputs": [],
   "source": [
    "del my_list[0]"
   ]
  },
  {
   "cell_type": "code",
   "execution_count": 73,
   "id": "456b9bc2-5642-4bd6-a71f-6bcf846089e1",
   "metadata": {},
   "outputs": [
    {
     "name": "stdout",
     "output_type": "stream",
     "text": [
      "['b', 'c']\n"
     ]
    }
   ],
   "source": [
    "print(my_list)"
   ]
  },
  {
   "cell_type": "code",
   "execution_count": 74,
   "id": "be9766cb-5bd3-4990-9aac-55e4e96c4675",
   "metadata": {},
   "outputs": [
    {
     "name": "stdout",
     "output_type": "stream",
     "text": [
      "b\n"
     ]
    }
   ],
   "source": [
    "print(my_list[0])"
   ]
  },
  {
   "cell_type": "code",
   "execution_count": 75,
   "id": "a8c2004b-cde7-4d9e-b07a-c80e2d85e9ca",
   "metadata": {},
   "outputs": [],
   "source": [
    "my_list.append('d')"
   ]
  },
  {
   "cell_type": "code",
   "execution_count": 76,
   "id": "39dc6d0e-638d-41d1-a510-d61eb044b9ce",
   "metadata": {},
   "outputs": [
    {
     "name": "stdout",
     "output_type": "stream",
     "text": [
      "['b', 'c', 'd']\n"
     ]
    }
   ],
   "source": [
    "print(my_list)"
   ]
  },
  {
   "cell_type": "code",
   "execution_count": 77,
   "id": "13a2f0ec-ba03-4e93-a05e-3859a5dac512",
   "metadata": {},
   "outputs": [
    {
     "name": "stdout",
     "output_type": "stream",
     "text": [
      "PIERRE\n"
     ]
    }
   ],
   "source": [
    "print(my_name.upper())"
   ]
  },
  {
   "cell_type": "code",
   "execution_count": 78,
   "id": "6205f644-0a70-40fd-be34-516e38648923",
   "metadata": {},
   "outputs": [
    {
     "name": "stdout",
     "output_type": "stream",
     "text": [
      "Pierre\n"
     ]
    }
   ],
   "source": [
    "print(my_name)"
   ]
  },
  {
   "cell_type": "code",
   "execution_count": 79,
   "id": "954a5fe6-b1ff-41a1-923a-4e5ec6752c2e",
   "metadata": {},
   "outputs": [],
   "source": [
    "value = my_list.pop()"
   ]
  },
  {
   "cell_type": "code",
   "execution_count": 80,
   "id": "3466e7e3-d78f-4988-8b46-7383798b5c33",
   "metadata": {},
   "outputs": [
    {
     "name": "stdout",
     "output_type": "stream",
     "text": [
      "d\n",
      "['b', 'c']\n"
     ]
    }
   ],
   "source": [
    "print(value)\n",
    "print(my_list)"
   ]
  },
  {
   "cell_type": "code",
   "execution_count": 81,
   "id": "10510ebd-436b-4361-8f8c-f8955e0da67e",
   "metadata": {},
   "outputs": [],
   "source": [
    "my_list.insert(1, 'a')"
   ]
  },
  {
   "cell_type": "code",
   "execution_count": 82,
   "id": "3005f0ea-424f-468a-aace-d6c4d134cf6c",
   "metadata": {},
   "outputs": [
    {
     "name": "stdout",
     "output_type": "stream",
     "text": [
      "['b', 'a', 'c']\n"
     ]
    }
   ],
   "source": [
    "print(my_list)"
   ]
  },
  {
   "cell_type": "code",
   "execution_count": 83,
   "id": "de10aabc-36a8-473b-a60f-417e644a5ede",
   "metadata": {},
   "outputs": [
    {
     "name": "stdout",
     "output_type": "stream",
     "text": [
      "['a', 'b', 'c']\n"
     ]
    }
   ],
   "source": [
    "print(sorted(my_list))"
   ]
  },
  {
   "cell_type": "code",
   "execution_count": 84,
   "id": "44325fe2-bafa-4078-b164-952e7c737f70",
   "metadata": {},
   "outputs": [
    {
     "name": "stdout",
     "output_type": "stream",
     "text": [
      "['b', 'a', 'c']\n"
     ]
    }
   ],
   "source": [
    "print(my_list)"
   ]
  },
  {
   "cell_type": "code",
   "execution_count": 85,
   "id": "3ab769d9-05b9-4740-83c2-a7d58f1d5be9",
   "metadata": {},
   "outputs": [],
   "source": [
    "my_list.sort()"
   ]
  },
  {
   "cell_type": "code",
   "execution_count": 86,
   "id": "f0509cf1-231a-40a4-af1c-9feff6ac5b2e",
   "metadata": {},
   "outputs": [
    {
     "name": "stdout",
     "output_type": "stream",
     "text": [
      "['a', 'b', 'c']\n"
     ]
    }
   ],
   "source": [
    "print(my_list)"
   ]
  },
  {
   "cell_type": "code",
   "execution_count": 87,
   "id": "a65cdb27-2e19-4db1-9d24-1306349c9526",
   "metadata": {},
   "outputs": [
    {
     "name": "stdout",
     "output_type": "stream",
     "text": [
      "['P', 'e', 'e', 'i', 'r', 'r']\n"
     ]
    }
   ],
   "source": [
    "print(sorted(my_name))"
   ]
  },
  {
   "cell_type": "code",
   "execution_count": 88,
   "id": "660b2f94-070f-4872-96b6-ad869da8318b",
   "metadata": {},
   "outputs": [
    {
     "name": "stdout",
     "output_type": "stream",
     "text": [
      "Help on built-in function count:\n",
      "\n",
      "count(value, /) method of builtins.list instance\n",
      "    Return number of occurrences of value.\n",
      "\n"
     ]
    }
   ],
   "source": [
    "help(my_list.count)"
   ]
  },
  {
   "cell_type": "code",
   "execution_count": 89,
   "id": "99bd26f6-9937-4425-a478-e2a52cd808c8",
   "metadata": {},
   "outputs": [
    {
     "name": "stdout",
     "output_type": "stream",
     "text": [
      "2\n"
     ]
    }
   ],
   "source": [
    "sorted_name = sorted(my_name)\n",
    "print(sorted_name.count('e'))"
   ]
  },
  {
   "cell_type": "code",
   "execution_count": 90,
   "id": "c9bd7c77-0660-43b0-b60d-65e3e6ed287f",
   "metadata": {},
   "outputs": [
    {
     "name": "stdout",
     "output_type": "stream",
     "text": [
      "['__add__', '__class__', '__class_getitem__', '__contains__', '__delattr__', '__delitem__', '__dir__', '__doc__', '__eq__', '__format__', '__ge__', '__getattribute__', '__getitem__', '__gt__', '__hash__', '__iadd__', '__imul__', '__init__', '__init_subclass__', '__iter__', '__le__', '__len__', '__lt__', '__mul__', '__ne__', '__new__', '__reduce__', '__reduce_ex__', '__repr__', '__reversed__', '__rmul__', '__setattr__', '__setitem__', '__sizeof__', '__str__', '__subclasshook__', 'append', 'clear', 'copy', 'count', 'extend', 'index', 'insert', 'pop', 'remove', 'reverse', 'sort']\n"
     ]
    }
   ],
   "source": [
    "print(dir(sorted_name))"
   ]
  },
  {
   "cell_type": "markdown",
   "id": "c84ba1c9-ac67-423e-ad9c-e950a1d3bb3d",
   "metadata": {},
   "source": [
    "[Documentation officielle Python](https://docs.python.org/3/)"
   ]
  },
  {
   "cell_type": "code",
   "execution_count": 92,
   "id": "43238637-5457-4a33-bbc2-db51884508c7",
   "metadata": {},
   "outputs": [
    {
     "name": "stdout",
     "output_type": "stream",
     "text": [
      "0\n",
      "a\n",
      "---\n",
      "1\n",
      "b\n",
      "---\n",
      "2\n",
      "c\n",
      "---\n"
     ]
    }
   ],
   "source": [
    "for i in range(len(my_list)):\n",
    "    print(i)\n",
    "    print(my_list[i])\n",
    "    print('---')"
   ]
  },
  {
   "cell_type": "code",
   "execution_count": 93,
   "id": "e389b69d-7662-4258-9db4-20eb453bfdc0",
   "metadata": {},
   "outputs": [],
   "source": [
    "enum = [\n",
    "    [0, 'b'],\n",
    "    [1, 'c'],\n",
    "    [2, 'd'],\n",
    "]"
   ]
  },
  {
   "cell_type": "code",
   "execution_count": 94,
   "id": "5d18a038-35d7-4d0b-b736-b8c5455e8e1e",
   "metadata": {},
   "outputs": [
    {
     "name": "stdout",
     "output_type": "stream",
     "text": [
      "[0, 'b']\n",
      "[1, 'c']\n",
      "[2, 'd']\n"
     ]
    }
   ],
   "source": [
    "for i in enum:\n",
    "    print(i)"
   ]
  },
  {
   "cell_type": "code",
   "execution_count": 96,
   "id": "b5b6f719-270d-48c1-8d38-638bbe2d9c3d",
   "metadata": {},
   "outputs": [
    {
     "name": "stdout",
     "output_type": "stream",
     "text": [
      "(0, 'a')\n",
      "<class 'tuple'>\n",
      "(1, 'b')\n",
      "<class 'tuple'>\n",
      "(2, 'c')\n",
      "<class 'tuple'>\n"
     ]
    }
   ],
   "source": [
    "for i in enumerate(my_list):\n",
    "    print(i)\n",
    "    print(type(i))"
   ]
  },
  {
   "cell_type": "code",
   "execution_count": 97,
   "id": "383c8540-1ef2-414e-b81c-35e10e3155ed",
   "metadata": {},
   "outputs": [],
   "source": [
    "my_tuple = ('a', 'b', 'c')"
   ]
  },
  {
   "cell_type": "code",
   "execution_count": 98,
   "id": "06455b18-bcd1-4861-bcf8-41976e57bb95",
   "metadata": {},
   "outputs": [
    {
     "name": "stdout",
     "output_type": "stream",
     "text": [
      "('a', 'b', 'c')\n",
      "<class 'tuple'>\n"
     ]
    }
   ],
   "source": [
    "print(my_tuple)\n",
    "print(type(my_tuple))"
   ]
  },
  {
   "cell_type": "code",
   "execution_count": 99,
   "id": "2bb5379a-4e13-4959-a229-45e761095fc9",
   "metadata": {},
   "outputs": [],
   "source": [
    "magenta = (255, 0, 255)"
   ]
  },
  {
   "cell_type": "code",
   "execution_count": 100,
   "id": "c09bb7de-7135-482c-b893-bf6ffbee8628",
   "metadata": {},
   "outputs": [
    {
     "name": "stdout",
     "output_type": "stream",
     "text": [
      "255\n"
     ]
    }
   ],
   "source": [
    "print(magenta[0])"
   ]
  },
  {
   "cell_type": "code",
   "execution_count": 101,
   "id": "50e4653e-1ae5-43bd-b587-4f7550f75c2f",
   "metadata": {},
   "outputs": [
    {
     "ename": "TypeError",
     "evalue": "'tuple' object does not support item assignment",
     "output_type": "error",
     "traceback": [
      "\u001b[0;31m---------------------------------------------------------------------------\u001b[0m",
      "\u001b[0;31mTypeError\u001b[0m                                 Traceback (most recent call last)",
      "Input \u001b[0;32mIn [101]\u001b[0m, in \u001b[0;36m<cell line: 1>\u001b[0;34m()\u001b[0m\n\u001b[0;32m----> 1\u001b[0m \u001b[43mmagenta\u001b[49m\u001b[43m[\u001b[49m\u001b[38;5;241;43m1\u001b[39;49m\u001b[43m]\u001b[49m \u001b[38;5;241m=\u001b[39m \u001b[38;5;241m255\u001b[39m\n",
      "\u001b[0;31mTypeError\u001b[0m: 'tuple' object does not support item assignment"
     ]
    }
   ],
   "source": [
    "magenta[1] = 255"
   ]
  },
  {
   "cell_type": "code",
   "execution_count": 104,
   "id": "ea8e53d0-efc4-486d-85af-c6000d6139bd",
   "metadata": {},
   "outputs": [],
   "source": [
    "red, green, blue = magenta  # unpacking"
   ]
  },
  {
   "cell_type": "code",
   "execution_count": 103,
   "id": "d1e34c65-40f2-441c-9edb-ba6ba7d5c5a5",
   "metadata": {},
   "outputs": [
    {
     "name": "stdout",
     "output_type": "stream",
     "text": [
      "255\n",
      "0\n",
      "255\n"
     ]
    }
   ],
   "source": [
    "print(red)\n",
    "print(green)\n",
    "print(blue)"
   ]
  },
  {
   "cell_type": "code",
   "execution_count": 105,
   "id": "378b594c-d287-4dba-9c88-d7f48aac5895",
   "metadata": {},
   "outputs": [],
   "source": [
    "a = 1\n",
    "b = 2"
   ]
  },
  {
   "cell_type": "code",
   "execution_count": 108,
   "id": "4990cf10-6239-45e2-a1d0-4e79341fbc5c",
   "metadata": {},
   "outputs": [],
   "source": [
    "a, b = b, a  # money money money"
   ]
  },
  {
   "cell_type": "code",
   "execution_count": 109,
   "id": "4a69f2ca-64b5-42a6-b4c4-767def1a051b",
   "metadata": {},
   "outputs": [
    {
     "name": "stdout",
     "output_type": "stream",
     "text": [
      "2\n",
      "1\n"
     ]
    }
   ],
   "source": [
    "print(a)\n",
    "print(b)"
   ]
  },
  {
   "cell_type": "code",
   "execution_count": 110,
   "id": "784724b1-446f-4bd3-98bf-026634b1d971",
   "metadata": {},
   "outputs": [],
   "source": [
    "thing = a, b"
   ]
  },
  {
   "cell_type": "code",
   "execution_count": 112,
   "id": "00393d5f-2771-4426-a369-f164900d4b2c",
   "metadata": {},
   "outputs": [
    {
     "name": "stdout",
     "output_type": "stream",
     "text": [
      "(2, 1)\n",
      "<class 'tuple'>\n"
     ]
    }
   ],
   "source": [
    "print(thing)\n",
    "print(type(thing))"
   ]
  },
  {
   "cell_type": "code",
   "execution_count": 115,
   "id": "3d10a45c-5976-4f17-8126-57dd467c0d89",
   "metadata": {},
   "outputs": [
    {
     "name": "stdout",
     "output_type": "stream",
     "text": [
      "0: a\n",
      "1: b\n",
      "2: c\n"
     ]
    }
   ],
   "source": [
    "for index, value in enumerate(my_list):\n",
    "    print(str(index) + ': ' + str(value))"
   ]
  },
  {
   "cell_type": "code",
   "execution_count": 1,
   "id": "735510ea-f08e-4950-903f-75a68f8c554e",
   "metadata": {},
   "outputs": [],
   "source": [
    "my_dict = {'key': 'value', 'foo': 'bar'}"
   ]
  },
  {
   "cell_type": "code",
   "execution_count": 2,
   "id": "7e5d64f3-f89f-4ec3-a118-16902fbd2af6",
   "metadata": {},
   "outputs": [
    {
     "name": "stdout",
     "output_type": "stream",
     "text": [
      "{'key': 'value', 'foo': 'bar'}\n",
      "<class 'dict'>\n"
     ]
    }
   ],
   "source": [
    "print(my_dict)\n",
    "print(type(my_dict))"
   ]
  },
  {
   "cell_type": "code",
   "execution_count": 3,
   "id": "702a1277-8283-4098-8cc5-ed47bbeb459f",
   "metadata": {},
   "outputs": [
    {
     "name": "stdout",
     "output_type": "stream",
     "text": [
      "2\n"
     ]
    }
   ],
   "source": [
    "print(len(my_dict))"
   ]
  },
  {
   "cell_type": "code",
   "execution_count": 4,
   "id": "8cee5168-72b8-49cc-95e8-a6595d086488",
   "metadata": {},
   "outputs": [
    {
     "name": "stdout",
     "output_type": "stream",
     "text": [
      "bar\n"
     ]
    }
   ],
   "source": [
    "print(my_dict['foo'])"
   ]
  },
  {
   "cell_type": "code",
   "execution_count": 5,
   "id": "d3a2eead-89d0-49ec-a611-b7cd96e13b03",
   "metadata": {},
   "outputs": [],
   "source": [
    "my_dict['foo'] = 'BAR'"
   ]
  },
  {
   "cell_type": "code",
   "execution_count": 6,
   "id": "3c2768f6-4ed0-4c9d-88e3-1a58b38e6e66",
   "metadata": {},
   "outputs": [
    {
     "name": "stdout",
     "output_type": "stream",
     "text": [
      "{'key': 'value', 'foo': 'BAR'}\n"
     ]
    }
   ],
   "source": [
    "print(my_dict)"
   ]
  },
  {
   "cell_type": "code",
   "execution_count": 7,
   "id": "d64dd5eb-2b43-49fe-873c-f1039a4eae96",
   "metadata": {},
   "outputs": [],
   "source": [
    "my_dict['new key'] = 'new value'"
   ]
  },
  {
   "cell_type": "code",
   "execution_count": 8,
   "id": "f61c7363-ffc6-4ceb-9a2d-556018f757b8",
   "metadata": {},
   "outputs": [
    {
     "name": "stdout",
     "output_type": "stream",
     "text": [
      "{'key': 'value', 'foo': 'BAR', 'new key': 'new value'}\n"
     ]
    }
   ],
   "source": [
    "print(my_dict)"
   ]
  },
  {
   "cell_type": "code",
   "execution_count": 9,
   "id": "39b84d14-4be6-417f-bd62-bf895c5b7e17",
   "metadata": {},
   "outputs": [
    {
     "name": "stdout",
     "output_type": "stream",
     "text": [
      "key\n",
      "foo\n",
      "new key\n"
     ]
    }
   ],
   "source": [
    "for i in my_dict:\n",
    "    print(i)"
   ]
  },
  {
   "cell_type": "code",
   "execution_count": 11,
   "id": "b274c5af-330f-4e55-9826-ab233f939d67",
   "metadata": {},
   "outputs": [
    {
     "name": "stdout",
     "output_type": "stream",
     "text": [
      "['G', 'a', 'ë', 'l', 'l', 'e']\n"
     ]
    }
   ],
   "source": [
    "my_name = 'Gaëlle'\n",
    "\n",
    "print(list(my_name))"
   ]
  },
  {
   "cell_type": "code",
   "execution_count": 12,
   "id": "6d05a5ee-36ec-44cc-bfc6-e6efe163b580",
   "metadata": {},
   "outputs": [
    {
     "name": "stdout",
     "output_type": "stream",
     "text": [
      "['key', 'foo', 'new key']\n"
     ]
    }
   ],
   "source": [
    "print(list(my_dict))"
   ]
  },
  {
   "cell_type": "code",
   "execution_count": 13,
   "id": "73ba2465-c596-431a-b4a0-56114deb146d",
   "metadata": {},
   "outputs": [
    {
     "name": "stdout",
     "output_type": "stream",
     "text": [
      "3\n"
     ]
    }
   ],
   "source": [
    "print(len(my_dict))"
   ]
  },
  {
   "cell_type": "code",
   "execution_count": 14,
   "id": "b8147103-17d3-41dc-84ae-1918bee1571c",
   "metadata": {},
   "outputs": [
    {
     "name": "stdout",
     "output_type": "stream",
     "text": [
      "True\n"
     ]
    }
   ],
   "source": [
    "print('a' in my_name) "
   ]
  },
  {
   "cell_type": "code",
   "execution_count": 15,
   "id": "aef08c7f-3ce5-46c3-9fc9-783cc255d3c6",
   "metadata": {},
   "outputs": [
    {
     "name": "stdout",
     "output_type": "stream",
     "text": [
      "True\n"
     ]
    }
   ],
   "source": [
    "print('ll' in my_name)"
   ]
  },
  {
   "cell_type": "code",
   "execution_count": 16,
   "id": "4745f473-8632-4e70-8c18-61a8f3ab4ae8",
   "metadata": {},
   "outputs": [
    {
     "name": "stdout",
     "output_type": "stream",
     "text": [
      "False\n"
     ]
    }
   ],
   "source": [
    "print('g' in my_name)"
   ]
  },
  {
   "cell_type": "code",
   "execution_count": 17,
   "id": "4b16ae30-256d-4f35-af4a-0a94977c2aa3",
   "metadata": {},
   "outputs": [
    {
     "name": "stdout",
     "output_type": "stream",
     "text": [
      "True\n"
     ]
    }
   ],
   "source": [
    "print('foo' in my_dict)"
   ]
  },
  {
   "cell_type": "code",
   "execution_count": 18,
   "id": "ff59acdd-f44f-45c0-b784-97de8f0e6ff3",
   "metadata": {},
   "outputs": [
    {
     "name": "stdout",
     "output_type": "stream",
     "text": [
      "False\n"
     ]
    }
   ],
   "source": [
    "print('bar' in my_dict)"
   ]
  },
  {
   "cell_type": "code",
   "execution_count": 19,
   "id": "6ec7011e-cb45-48ed-9df5-3afc5f32b38f",
   "metadata": {},
   "outputs": [
    {
     "name": "stdout",
     "output_type": "stream",
     "text": [
      "key\n",
      "value\n",
      "foo\n",
      "BAR\n",
      "new key\n",
      "new value\n"
     ]
    }
   ],
   "source": [
    "for k, v in my_dict.items():\n",
    "    print(k)\n",
    "    print(v)"
   ]
  },
  {
   "cell_type": "code",
   "execution_count": 20,
   "id": "9d1b0ef1-ae97-4aa0-913f-41c388ef8518",
   "metadata": {},
   "outputs": [
    {
     "name": "stdout",
     "output_type": "stream",
     "text": [
      "Hello world\n"
     ]
    }
   ],
   "source": [
    "word = 'world'\n",
    "\n",
    "print('Hello %s' % word)"
   ]
  },
  {
   "cell_type": "code",
   "execution_count": 21,
   "id": "d656bf93-d50a-47c7-90b8-0e0c749148ee",
   "metadata": {},
   "outputs": [
    {
     "name": "stdout",
     "output_type": "stream",
     "text": [
      "3/10/2022\n"
     ]
    }
   ],
   "source": [
    "day = 3\n",
    "month = 10\n",
    "year = 2022\n",
    "\n",
    "print('%d/%d/%d' % (day, month, year))"
   ]
  },
  {
   "cell_type": "code",
   "execution_count": 22,
   "id": "e349d529-fbcd-4f90-8135-ee9d3e39efe8",
   "metadata": {},
   "outputs": [
    {
     "name": "stdout",
     "output_type": "stream",
     "text": [
      "3/10/2022\n"
     ]
    }
   ],
   "source": [
    "print('{}/{}/{}'.format(day, month, year))"
   ]
  },
  {
   "cell_type": "code",
   "execution_count": 23,
   "id": "0e722d77-075f-4c5c-8fcc-4c3f286fa3f8",
   "metadata": {},
   "outputs": [
    {
     "name": "stdout",
     "output_type": "stream",
     "text": [
      "10/3/2022\n"
     ]
    }
   ],
   "source": [
    "print('{1}/{0}/{2}'.format(day, month, year))"
   ]
  },
  {
   "cell_type": "code",
   "execution_count": 24,
   "id": "b266b5d1-17b8-41fb-8f86-06b66da30e3f",
   "metadata": {},
   "outputs": [
    {
     "name": "stdout",
     "output_type": "stream",
     "text": [
      "10/3/2022\n"
     ]
    }
   ],
   "source": [
    "print('{m}/{d}/{y}'.format(d=day, m=month, y=year))"
   ]
  },
  {
   "cell_type": "code",
   "execution_count": 25,
   "id": "82b8b671-b6de-4647-b382-b705160a6018",
   "metadata": {},
   "outputs": [
    {
     "name": "stdout",
     "output_type": "stream",
     "text": [
      "['G', 'a', 'e', 'l', 'l', 'ë']\n"
     ]
    }
   ],
   "source": [
    "print(sorted(my_name))"
   ]
  },
  {
   "cell_type": "code",
   "execution_count": 26,
   "id": "a32feffd-040a-472b-874a-f037cb40e4d6",
   "metadata": {},
   "outputs": [
    {
     "name": "stdout",
     "output_type": "stream",
     "text": [
      "['ë', 'l', 'l', 'e', 'a', 'G']\n"
     ]
    }
   ],
   "source": [
    "print(sorted(my_name, reverse=True))"
   ]
  },
  {
   "cell_type": "code",
   "execution_count": 31,
   "id": "f0dbefb3-1166-429e-b19e-301f7b213dd7",
   "metadata": {},
   "outputs": [
    {
     "name": "stdout",
     "output_type": "stream",
     "text": [
      "10/03/2022\n"
     ]
    }
   ],
   "source": [
    "print('{m:0>2}/{d:0>2}/{y}'.format(d=day, m=month, y=year))"
   ]
  },
  {
   "cell_type": "code",
   "execution_count": 34,
   "id": "d2fa9433-a317-4734-906d-b590ded9072c",
   "metadata": {},
   "outputs": [
    {
     "name": "stdout",
     "output_type": "stream",
     "text": [
      "03/10/2022\n"
     ]
    }
   ],
   "source": [
    "print(f'{day:0>2}/{month:0>2}/{year}')  # F-string, >= python3.6"
   ]
  },
  {
   "cell_type": "markdown",
   "id": "e6ff8812-6885-4aff-a551-e40a49cfb258",
   "metadata": {},
   "source": [
    "Référence des possibilités de formatage de chaîne : [PyFormat](https://pyformat.info)"
   ]
  },
  {
   "cell_type": "code",
   "execution_count": 35,
   "id": "8d3024f3-9997-4aaa-b8bb-d429c31ea67f",
   "metadata": {},
   "outputs": [],
   "source": [
    "my_set = {'a', 'b', 'c'}"
   ]
  },
  {
   "cell_type": "code",
   "execution_count": 36,
   "id": "f0b118e0-f9f8-4e4f-91e2-0ecf75d60272",
   "metadata": {},
   "outputs": [
    {
     "name": "stdout",
     "output_type": "stream",
     "text": [
      "{'b', 'c', 'a'}\n",
      "<class 'set'>\n"
     ]
    }
   ],
   "source": [
    "print(my_set)\n",
    "print(type(my_set))"
   ]
  },
  {
   "cell_type": "code",
   "execution_count": 37,
   "id": "382e3001-0313-4a90-9a76-753996ec8a1a",
   "metadata": {},
   "outputs": [],
   "source": [
    "my_set.add('d')"
   ]
  },
  {
   "cell_type": "code",
   "execution_count": 38,
   "id": "16a979d4-8bd7-440b-adc3-53d241d6ae3d",
   "metadata": {},
   "outputs": [
    {
     "name": "stdout",
     "output_type": "stream",
     "text": [
      "{'b', 'c', 'a', 'd'}\n"
     ]
    }
   ],
   "source": [
    "print(my_set)"
   ]
  },
  {
   "cell_type": "code",
   "execution_count": 39,
   "id": "51850d18-74c5-4d76-8664-d63b712db582",
   "metadata": {},
   "outputs": [],
   "source": [
    "my_set.add('a')"
   ]
  },
  {
   "cell_type": "code",
   "execution_count": 40,
   "id": "2e88d755-3229-4e45-8114-4d5026341ca6",
   "metadata": {},
   "outputs": [
    {
     "name": "stdout",
     "output_type": "stream",
     "text": [
      "{'b', 'c', 'a', 'd'}\n"
     ]
    }
   ],
   "source": [
    "print(my_set)"
   ]
  },
  {
   "cell_type": "markdown",
   "id": "6b1313e6-bcf1-426c-929e-63f111027a91",
   "metadata": {},
   "source": [
    "## Fonctions"
   ]
  },
  {
   "cell_type": "code",
   "execution_count": 46,
   "id": "f09ab848-08e8-4f79-8ea2-e7d029e4f064",
   "metadata": {},
   "outputs": [],
   "source": [
    "def my_function(arg):\n",
    "    print(f'appel de my_function({arg})')\n",
    "    return_val = arg + 1\n",
    "    return return_val\n",
    "    print('hello ?')"
   ]
  },
  {
   "cell_type": "code",
   "execution_count": 47,
   "id": "ce11b712-0003-4070-a57f-56fc3e3bb7f2",
   "metadata": {},
   "outputs": [
    {
     "name": "stdout",
     "output_type": "stream",
     "text": [
      "appel de my_function(10)\n"
     ]
    }
   ],
   "source": [
    "result = my_function(10)"
   ]
  },
  {
   "cell_type": "code",
   "execution_count": 48,
   "id": "0dba1a4e-8b71-479c-b6b3-57d5adb0e55c",
   "metadata": {},
   "outputs": [
    {
     "name": "stdout",
     "output_type": "stream",
     "text": [
      "11\n"
     ]
    }
   ],
   "source": [
    "print(result)"
   ]
  },
  {
   "cell_type": "code",
   "execution_count": 49,
   "id": "cfae4eac-4d84-40e1-add9-050eecded344",
   "metadata": {},
   "outputs": [],
   "source": [
    "foo = 'bar'"
   ]
  },
  {
   "cell_type": "code",
   "execution_count": 54,
   "id": "1f7f965f-72c0-43d5-9c5c-edc1974c6e77",
   "metadata": {},
   "outputs": [],
   "source": [
    "def my_function(arg):\n",
    "    print(f'appel de my_function({arg})')\n",
    "    # print(f'foo = {foo}')\n",
    "    return_val = arg + 1\n",
    "    # foo = 'baz'\n",
    "    return return_val"
   ]
  },
  {
   "cell_type": "code",
   "execution_count": 55,
   "id": "f0ca8fee-e86d-43fd-849b-8a87afc751bd",
   "metadata": {},
   "outputs": [
    {
     "name": "stdout",
     "output_type": "stream",
     "text": [
      "appel de my_function(4)\n",
      "5\n"
     ]
    }
   ],
   "source": [
    "print(my_function(4))"
   ]
  },
  {
   "cell_type": "code",
   "execution_count": 56,
   "id": "484ab545-c0ed-4d4b-b62c-64963c65d61d",
   "metadata": {},
   "outputs": [
    {
     "ename": "NameError",
     "evalue": "name 'return_val' is not defined",
     "output_type": "error",
     "traceback": [
      "\u001b[0;31m---------------------------------------------------------------------------\u001b[0m",
      "\u001b[0;31mNameError\u001b[0m                                 Traceback (most recent call last)",
      "Input \u001b[0;32mIn [56]\u001b[0m, in \u001b[0;36m<cell line: 1>\u001b[0;34m()\u001b[0m\n\u001b[0;32m----> 1\u001b[0m \u001b[38;5;28mprint\u001b[39m(\u001b[43mreturn_val\u001b[49m)\n",
      "\u001b[0;31mNameError\u001b[0m: name 'return_val' is not defined"
     ]
    }
   ],
   "source": [
    "print(return_val)"
   ]
  },
  {
   "cell_type": "code",
   "execution_count": 57,
   "id": "ad2b5062-daa7-4fa9-beb6-b47d518b27a8",
   "metadata": {},
   "outputs": [
    {
     "name": "stdout",
     "output_type": "stream",
     "text": [
      "appel de my_function(42)\n",
      "43\n"
     ]
    }
   ],
   "source": [
    "return_val = 'témoin'\n",
    "\n",
    "print(my_function(42))"
   ]
  },
  {
   "cell_type": "code",
   "execution_count": 58,
   "id": "5d175612-4ffd-476c-80db-62c22ef74a21",
   "metadata": {},
   "outputs": [
    {
     "name": "stdout",
     "output_type": "stream",
     "text": [
      "témoin\n"
     ]
    }
   ],
   "source": [
    "print(return_val)"
   ]
  },
  {
   "cell_type": "code",
   "execution_count": 67,
   "id": "012be9ce-16cf-4777-b052-a198dcc7aef8",
   "metadata": {},
   "outputs": [
    {
     "name": "stdout",
     "output_type": "stream",
     "text": [
      "Out: {}\n",
      "get_ipython: <bound method InteractiveShell.get_ipython of <ipykernel.zmqshell.ZMQInteractiveShell object at 0x7fee39fc0610>>\n",
      "exit: <IPython.core.autocall.ZMQExitAutocall object at 0x7fee39fc0cd0>\n",
      "quit: <IPython.core.autocall.ZMQExitAutocall object at 0x7fee39fc0cd0>\n",
      "my_dict: {'key': 'value', 'foo': 'BAR', 'new key': 'new value'}\n",
      "i: new key\n",
      "my_name: Gaëlle\n",
      "k: new key\n",
      "v: new value\n",
      "word: world\n",
      "day: 3\n",
      "month: 10\n",
      "year: 2022\n",
      "my_set: {'b', 'c', 'a', 'd'}\n",
      "my_function: <function my_function at 0x7fee16540ee0>\n",
      "result: 11\n",
      "foo: bar\n",
      "return_val: témoin\n",
      "var_name: _i61\n",
      "var_value: _i61\n"
     ]
    }
   ],
   "source": [
    "cur_locals = locals().items()\n",
    "\n",
    "for var_name, var_value in cur_locals:\n",
    "    if not var_name.startswith('_') and \\\n",
    "            var_name not in ('cur_locals', 'In'):\n",
    "        print(f'{var_name}: {var_value}')"
   ]
  },
  {
   "cell_type": "code",
   "execution_count": 68,
   "id": "0b85e295-c428-4fe2-a5d6-5e7fcb0296ff",
   "metadata": {},
   "outputs": [],
   "source": [
    "def addition(n1, n2):\n",
    "    return n1 + n2"
   ]
  },
  {
   "cell_type": "code",
   "execution_count": 76,
   "id": "c1f90fea-816e-447b-8d99-af128ed566ae",
   "metadata": {},
   "outputs": [
    {
     "name": "stderr",
     "output_type": "stream",
     "text": [
      "Version 1.0.3\n"
     ]
    }
   ],
   "source": [
    "%load_ext nb_mypy"
   ]
  },
  {
   "cell_type": "code",
   "execution_count": 80,
   "id": "76010db6-8809-4881-a37e-33d0281322a8",
   "metadata": {},
   "outputs": [],
   "source": [
    "def addition(n1: int, n2: int) -> int:\n",
    "    \"\"\"\n",
    "    Calcule la somme de deux nombres fournis en argument.\n",
    "    \n",
    "    Comportement détaillé de la fonction, sur plusieurs\n",
    "    paragraphes si nécessaires.\n",
    "    \n",
    "    Arguments:\n",
    "    \n",
    "        - n1: le premier nombre\n",
    "        - n2: le second nombre\n",
    "        \n",
    "    Returns:\n",
    "        la somme de n1 et n2\n",
    "        \n",
    "    Examples:\n",
    "    \n",
    "        >>> addition(1, 2)\n",
    "        3\n",
    "        >>> addition(1000, 24)\n",
    "        1024\n",
    "    \"\"\"\n",
    "    return n1 + n2"
   ]
  },
  {
   "cell_type": "code",
   "execution_count": 78,
   "id": "c4a4534f-8b59-4bdc-a596-c15029442215",
   "metadata": {},
   "outputs": [
    {
     "name": "stdout",
     "output_type": "stream",
     "text": [
      "3\n"
     ]
    }
   ],
   "source": [
    "print(addition(1, 2))"
   ]
  },
  {
   "cell_type": "code",
   "execution_count": 79,
   "id": "3e38cc19-0f76-4fb0-a167-d6025c8b5ffe",
   "metadata": {},
   "outputs": [
    {
     "name": "stderr",
     "output_type": "stream",
     "text": [
      "<cell>1: error: Argument 1 to \"addition\" has incompatible type \"str\"; expected \"int\"\n",
      "<cell>1: error: Argument 2 to \"addition\" has incompatible type \"str\"; expected \"int\"\n"
     ]
    },
    {
     "name": "stdout",
     "output_type": "stream",
     "text": [
      "ab\n",
      "<class 'str'>\n"
     ]
    }
   ],
   "source": [
    "res = addition('a', 'b')\n",
    "print(res)\n",
    "print(type(res))"
   ]
  },
  {
   "cell_type": "code",
   "execution_count": null,
   "id": "0e0846d6-3c38-4aec-8e5f-e46c602ee033",
   "metadata": {},
   "outputs": [
    {
     "name": "stdout",
     "output_type": "stream",
     "text": [
      "Help on function addition in module __main__:\n",
      "\n",
      "addition(n1: int, n2: int) -> int\n",
      "    Documentation de la fonction addition\n",
      "\n"
     ]
    }
   ],
   "source": [
    "help(addition)"
   ]
  },
  {
   "cell_type": "code",
   "execution_count": 85,
   "id": "20bacda0-6ec7-431b-9e91-ea4d88a0da0c",
   "metadata": {},
   "outputs": [],
   "source": [
    "def mult(n1: int, n2: int = 2, debug: bool = False) -> int:\n",
    "    if debug:\n",
    "        print(f'mult({n1}, {n2})')\n",
    "    return n1 * n2"
   ]
  },
  {
   "cell_type": "code",
   "execution_count": 86,
   "id": "47a1e791-2d38-46d4-b22d-3637c78697e5",
   "metadata": {},
   "outputs": [
    {
     "name": "stdout",
     "output_type": "stream",
     "text": [
      "12\n"
     ]
    }
   ],
   "source": [
    "print(mult(3, 4))"
   ]
  },
  {
   "cell_type": "code",
   "execution_count": 87,
   "id": "10c10fb0-67db-4ef2-ae2c-bdcbfa5a92c7",
   "metadata": {},
   "outputs": [
    {
     "name": "stdout",
     "output_type": "stream",
     "text": [
      "6\n"
     ]
    }
   ],
   "source": [
    "print(mult(3))"
   ]
  },
  {
   "cell_type": "code",
   "execution_count": 92,
   "id": "afe249af-da95-4f90-afea-22bcc5371c60",
   "metadata": {},
   "outputs": [
    {
     "name": "stdout",
     "output_type": "stream",
     "text": [
      "mult(3, 4)\n",
      "12\n"
     ]
    }
   ],
   "source": [
    "print(mult(3, 4, debug=True))"
   ]
  },
  {
   "cell_type": "code",
   "execution_count": 91,
   "id": "d1d7221c-cd15-418b-a184-ceae040a4ef4",
   "metadata": {},
   "outputs": [
    {
     "name": "stdout",
     "output_type": "stream",
     "text": [
      "mult(3, 2)\n",
      "6\n"
     ]
    }
   ],
   "source": [
    "print(mult(3, debug=True))"
   ]
  },
  {
   "cell_type": "code",
   "execution_count": 94,
   "id": "33bc4016-c743-48fe-9268-099121120ef1",
   "metadata": {},
   "outputs": [],
   "source": [
    "def div(n1: int, n2: int) -> float:\n",
    "    return n1 / n2"
   ]
  },
  {
   "cell_type": "code",
   "execution_count": 95,
   "id": "cc1e9514-5bfb-44b7-b8fd-a228d5fddfc2",
   "metadata": {},
   "outputs": [
    {
     "name": "stdout",
     "output_type": "stream",
     "text": [
      "0.5\n",
      "2.0\n"
     ]
    }
   ],
   "source": [
    "print(div(1, 2))\n",
    "print(div(2, 1))"
   ]
  },
  {
   "cell_type": "code",
   "execution_count": 96,
   "id": "357b35d8-126f-4333-b77d-262c5e69e528",
   "metadata": {},
   "outputs": [
    {
     "name": "stdout",
     "output_type": "stream",
     "text": [
      "2.0\n"
     ]
    }
   ],
   "source": [
    "print(div(n1=2, n2=1))"
   ]
  },
  {
   "cell_type": "code",
   "execution_count": 97,
   "id": "2c482010-22a7-4ac0-a2de-152e8abfc647",
   "metadata": {},
   "outputs": [
    {
     "name": "stdout",
     "output_type": "stream",
     "text": [
      "0.5\n"
     ]
    }
   ],
   "source": [
    "print(div(n2=2, n1=1))"
   ]
  },
  {
   "cell_type": "code",
   "execution_count": 103,
   "id": "664259cf-8fc5-4fb5-9cb1-5d8064a02f94",
   "metadata": {},
   "outputs": [],
   "source": [
    "def take_as_many_args_as_possible(arg1: str, arg2: str, *the_rest: str):\n",
    "    print(f'arg1={arg1}')\n",
    "    print(f'arg2={arg2}')\n",
    "    print(f'the_rest={the_rest}')"
   ]
  },
  {
   "cell_type": "code",
   "execution_count": 106,
   "id": "8560679d-1142-4723-a26d-434e1a36d720",
   "metadata": {},
   "outputs": [
    {
     "name": "stdout",
     "output_type": "stream",
     "text": [
      "arg1=foo\n",
      "arg2=bar\n",
      "the_rest=('baz', '123')\n"
     ]
    }
   ],
   "source": [
    "take_as_many_args_as_possible('foo', 'bar', 'baz', '123')"
   ]
  },
  {
   "cell_type": "code",
   "execution_count": 108,
   "id": "a0ae0594-f8a6-4fb6-a36e-e2ecf2b0a136",
   "metadata": {},
   "outputs": [
    {
     "name": "stdout",
     "output_type": "stream",
     "text": [
      "arg1=a\n",
      "arg2=b\n",
      "the_rest=()\n"
     ]
    }
   ],
   "source": [
    "take_as_many_args_as_possible('a', 'b')"
   ]
  },
  {
   "cell_type": "code",
   "execution_count": 109,
   "id": "8a585506-c583-4164-9e38-3403b6f2d139",
   "metadata": {},
   "outputs": [],
   "source": [
    "def mult(n1: int, n2: int = 2, *, debug: bool = False) -> int:\n",
    "    if debug:\n",
    "        print(f'mult({n1}, {n2})')\n",
    "    return n1 * n2"
   ]
  },
  {
   "cell_type": "code",
   "execution_count": 111,
   "id": "19e6fb34-2682-40f6-a4b6-1e32bf8b244f",
   "metadata": {},
   "outputs": [
    {
     "name": "stdout",
     "output_type": "stream",
     "text": [
      "mult(1, 2)\n",
      "2\n"
     ]
    }
   ],
   "source": [
    "print(mult(1, 2, debug=True))"
   ]
  },
  {
   "cell_type": "code",
   "execution_count": 112,
   "id": "8b93ce88-429d-474c-a1b5-19de7ff36bdb",
   "metadata": {},
   "outputs": [],
   "source": [
    "range_args = [5, 25]"
   ]
  },
  {
   "cell_type": "code",
   "execution_count": 114,
   "id": "6b0df01f-4241-4fee-a5b9-8772d17ceebc",
   "metadata": {},
   "outputs": [
    {
     "name": "stdout",
     "output_type": "stream",
     "text": [
      "5\n",
      "6\n",
      "7\n",
      "8\n",
      "9\n",
      "10\n",
      "11\n",
      "12\n",
      "13\n",
      "14\n",
      "15\n",
      "16\n",
      "17\n",
      "18\n",
      "19\n",
      "20\n",
      "21\n",
      "22\n",
      "23\n",
      "24\n"
     ]
    }
   ],
   "source": [
    "for i in range(*range_args):\n",
    "    print(i)"
   ]
  },
  {
   "cell_type": "code",
   "execution_count": 115,
   "id": "8e0c8a76-537d-4c4c-a38d-1fdb08d58d74",
   "metadata": {},
   "outputs": [],
   "source": [
    "def print_things(**things):\n",
    "    print(things)"
   ]
  },
  {
   "cell_type": "code",
   "execution_count": 118,
   "id": "7077d989-e335-49d9-9ea9-69d238f0eb5d",
   "metadata": {},
   "outputs": [
    {
     "name": "stdout",
     "output_type": "stream",
     "text": [
      "{'foo': 'bar'}\n"
     ]
    }
   ],
   "source": [
    "print_things(foo='bar')"
   ]
  },
  {
   "cell_type": "code",
   "execution_count": 119,
   "id": "b5fc0ca4-3598-4bb5-bbee-486def91a28c",
   "metadata": {},
   "outputs": [
    {
     "name": "stderr",
     "output_type": "stream",
     "text": [
      "<cell>1: error: Name \"my_dict\" is not defined\n"
     ]
    },
    {
     "name": "stdout",
     "output_type": "stream",
     "text": [
      "{'key': 'value', 'foo': 'BAR', 'new key': 'new value'}\n"
     ]
    }
   ],
   "source": [
    "print_things(**my_dict)"
   ]
  },
  {
   "cell_type": "code",
   "execution_count": 122,
   "id": "22a0b5a6-497e-48c8-aa00-50b97b5157e2",
   "metadata": {},
   "outputs": [
    {
     "name": "stdout",
     "output_type": "stream",
     "text": [
      "15\n"
     ]
    }
   ],
   "source": [
    "kwargs = {'n1': 5, 'n2': 10}\n",
    "\n",
    "print(addition(**kwargs))"
   ]
  },
  {
   "cell_type": "code",
   "execution_count": 123,
   "id": "b646b020-a8d1-4188-8db8-3c286b5d5cf9",
   "metadata": {},
   "outputs": [],
   "source": [
    "def passe_plat(*args, **kwargs):\n",
    "    print(f'on appelle une autre fonction')\n",
    "    return autre_fonction(*args, **kwargs)"
   ]
  }
 ],
 "metadata": {
  "kernelspec": {
   "display_name": "Python 3 (ipykernel)",
   "language": "python",
   "name": "python3"
  },
  "language_info": {
   "codemirror_mode": {
    "name": "ipython",
    "version": 3
   },
   "file_extension": ".py",
   "mimetype": "text/x-python",
   "name": "python",
   "nbconvert_exporter": "python",
   "pygments_lexer": "ipython3",
   "version": "3.10.4"
  }
 },
 "nbformat": 4,
 "nbformat_minor": 5
}
