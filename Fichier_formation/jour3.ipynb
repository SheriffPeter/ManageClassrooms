{
 "cells": [
  {
   "cell_type": "code",
   "execution_count": 1,
   "id": "a7143d51-151a-481c-b088-665ad894eee9",
   "metadata": {},
   "outputs": [],
   "source": [
    "class MyClass:\n",
    "    pass"
   ]
  },
  {
   "cell_type": "code",
   "execution_count": 2,
   "id": "3c942145-beeb-4584-851c-6df0de2e1059",
   "metadata": {},
   "outputs": [
    {
     "name": "stdout",
     "output_type": "stream",
     "text": [
      "<class 'type'>\n"
     ]
    }
   ],
   "source": [
    "print(type(MyClass))"
   ]
  },
  {
   "cell_type": "code",
   "execution_count": 3,
   "id": "95ca968e-8480-411a-b947-39f4d1f6daac",
   "metadata": {},
   "outputs": [
    {
     "name": "stdout",
     "output_type": "stream",
     "text": [
      "<class 'type'>\n"
     ]
    }
   ],
   "source": [
    "print(type)"
   ]
  },
  {
   "cell_type": "code",
   "execution_count": 4,
   "id": "2c99b513-b6ad-4074-8485-0e25770d7430",
   "metadata": {},
   "outputs": [],
   "source": [
    "MySecondClass = type('MySecondClass', (), {'attr': 'valeur'})"
   ]
  },
  {
   "cell_type": "code",
   "execution_count": 5,
   "id": "8fca5c10-6fb4-4b5f-86fd-53477de192c7",
   "metadata": {},
   "outputs": [
    {
     "name": "stdout",
     "output_type": "stream",
     "text": [
      "<class '__main__.MySecondClass'>\n"
     ]
    }
   ],
   "source": [
    "print(MySecondClass)"
   ]
  },
  {
   "cell_type": "code",
   "execution_count": 6,
   "id": "b1b58467-5953-46e6-a021-86ab9db22f0b",
   "metadata": {},
   "outputs": [],
   "source": [
    "my_obj = MySecondClass()"
   ]
  },
  {
   "cell_type": "code",
   "execution_count": 7,
   "id": "0fa357f3-42fd-4ed8-b7e0-a606a9255ff1",
   "metadata": {},
   "outputs": [
    {
     "name": "stdout",
     "output_type": "stream",
     "text": [
      "valeur\n"
     ]
    }
   ],
   "source": [
    "print(my_obj.attr)"
   ]
  },
  {
   "cell_type": "code",
   "execution_count": 8,
   "id": "eacc7c30-a09b-48e6-b762-86e00ed8ec7e",
   "metadata": {},
   "outputs": [
    {
     "name": "stdout",
     "output_type": "stream",
     "text": [
      "<class 'type'>\n"
     ]
    }
   ],
   "source": [
    "print(type(type))"
   ]
  },
  {
   "cell_type": "code",
   "execution_count": 9,
   "id": "039997d9-25bd-4471-bf2c-54bea757ac49",
   "metadata": {},
   "outputs": [
    {
     "name": "stdout",
     "output_type": "stream",
     "text": [
      "9.299999999999999\n"
     ]
    }
   ],
   "source": [
    "print(1.1 + 8.2)"
   ]
  },
  {
   "cell_type": "code",
   "execution_count": 10,
   "id": "de428abf-2b48-4f59-bd10-0e56518958f0",
   "metadata": {},
   "outputs": [
    {
     "name": "stdout",
     "output_type": "stream",
     "text": [
      "9.3\n"
     ]
    }
   ],
   "source": [
    "print(round(1.1 + 8.2, 3))"
   ]
  },
  {
   "cell_type": "code",
   "execution_count": 12,
   "id": "dec9d426-b16b-4f17-973c-98848a625ac6",
   "metadata": {},
   "outputs": [],
   "source": [
    "from decimal import Decimal as D"
   ]
  },
  {
   "cell_type": "code",
   "execution_count": 13,
   "id": "74b62eb3-b193-456c-bdab-32b63db8fe55",
   "metadata": {},
   "outputs": [
    {
     "name": "stdout",
     "output_type": "stream",
     "text": [
      "9.3\n"
     ]
    }
   ],
   "source": [
    "print(D('1.1') + D('8.2'))"
   ]
  },
  {
   "cell_type": "code",
   "execution_count": 14,
   "id": "2b4aa28a-fe57-4128-bb26-4ebb92ed0f07",
   "metadata": {},
   "outputs": [],
   "source": [
    "l = ['a', 'b', 'c']"
   ]
  },
  {
   "cell_type": "code",
   "execution_count": 16,
   "id": "148bb2d0-c316-487b-a540-cf4c5d7e0a77",
   "metadata": {},
   "outputs": [
    {
     "name": "stdout",
     "output_type": "stream",
     "text": [
      "['b', 'c']\n"
     ]
    }
   ],
   "source": [
    "l.remove('a')\n",
    "print(l)"
   ]
  },
  {
   "cell_type": "code",
   "execution_count": 17,
   "id": "812dc44f-79a2-4e28-a60b-8005ac820733",
   "metadata": {},
   "outputs": [],
   "source": [
    "r = list(range(10))"
   ]
  },
  {
   "cell_type": "code",
   "execution_count": 19,
   "id": "dccb81ce-875b-4c9d-a14d-31c1de17ea2d",
   "metadata": {},
   "outputs": [],
   "source": [
    "first, second, *last = r"
   ]
  },
  {
   "cell_type": "code",
   "execution_count": 20,
   "id": "f44d7a9a-4675-4b51-96a1-96c02aec8cd4",
   "metadata": {},
   "outputs": [
    {
     "name": "stdout",
     "output_type": "stream",
     "text": [
      "0\n",
      "1\n",
      "[2, 3, 4, 5, 6, 7, 8, 9]\n"
     ]
    }
   ],
   "source": [
    "print(first)\n",
    "print(second)\n",
    "print(last)"
   ]
  },
  {
   "cell_type": "code",
   "execution_count": 21,
   "id": "cab0fab7-9e5a-4dca-88a0-842c7ba6d864",
   "metadata": {},
   "outputs": [],
   "source": [
    "from textwrap import dedent"
   ]
  },
  {
   "cell_type": "code",
   "execution_count": 22,
   "id": "84208a1c-3b96-44be-8714-5b56cc216161",
   "metadata": {},
   "outputs": [],
   "source": [
    "txt = \"\"\"\n",
    "    hello\n",
    "    world\n",
    "\"\"\""
   ]
  },
  {
   "cell_type": "code",
   "execution_count": 23,
   "id": "1f99de05-6670-44e5-98b3-1b3c504f1445",
   "metadata": {},
   "outputs": [
    {
     "name": "stdout",
     "output_type": "stream",
     "text": [
      "\n",
      "    hello\n",
      "    world\n",
      "\n"
     ]
    }
   ],
   "source": [
    "print(txt)"
   ]
  },
  {
   "cell_type": "code",
   "execution_count": 27,
   "id": "6f475e72-85eb-498f-ac1e-1380018f2cd8",
   "metadata": {},
   "outputs": [
    {
     "name": "stdout",
     "output_type": "stream",
     "text": [
      "hello\n",
      "world\n"
     ]
    }
   ],
   "source": [
    "print(dedent(txt).strip())"
   ]
  },
  {
   "cell_type": "code",
   "execution_count": 37,
   "id": "1f87cb5e-a92a-4eac-aa8e-3d6efac658a8",
   "metadata": {},
   "outputs": [],
   "source": [
    "class MyClass:\n",
    "    val: int\n",
    "    \n",
    "    def __init__(self, val: int):\n",
    "        self.val = val\n",
    "        \n",
    "    def __eq__(self, other: 'MyClass') -> bool:\n",
    "        return self.val == other.val\n",
    "    \n",
    "    def __hash__(self) -> int:\n",
    "        return hash(('MyClass', self.val))\n",
    "    \n",
    "    \n",
    "class MySecondClass(MyClass):\n",
    "    \n",
    "    pass\n",
    "\n",
    "\n",
    "class MyThirdClass(MyClass):\n",
    "    \n",
    "    pass"
   ]
  },
  {
   "cell_type": "code",
   "execution_count": 38,
   "id": "9dc87de2-4e12-4f9b-badb-0789af79bd7e",
   "metadata": {},
   "outputs": [],
   "source": [
    "obj1 = MyClass('a')\n",
    "\n",
    "obj2 = MyClass('a')"
   ]
  },
  {
   "cell_type": "code",
   "execution_count": 39,
   "id": "c41dd86e-f2f6-4325-8d2f-b6cf722e809d",
   "metadata": {},
   "outputs": [
    {
     "name": "stdout",
     "output_type": "stream",
     "text": [
      "-3270384999607830001\n",
      "-3270384999607830001\n"
     ]
    }
   ],
   "source": [
    "print(hash(obj1))\n",
    "print(hash(obj2))"
   ]
  },
  {
   "cell_type": "code",
   "execution_count": 42,
   "id": "67de2051-88a0-4589-a2e4-c7225e046697",
   "metadata": {},
   "outputs": [],
   "source": [
    "d = {obj1: 'test'}"
   ]
  },
  {
   "cell_type": "code",
   "execution_count": 43,
   "id": "9bbd2f9a-67c1-445e-a3b5-3dc154d32858",
   "metadata": {},
   "outputs": [
    {
     "name": "stdout",
     "output_type": "stream",
     "text": [
      "test\n"
     ]
    }
   ],
   "source": [
    "print(d[obj2])"
   ]
  },
  {
   "cell_type": "code",
   "execution_count": 45,
   "id": "9ad4dff0-8534-4228-b3a5-6fd57309be50",
   "metadata": {},
   "outputs": [],
   "source": [
    "import random\n",
    "n = random.randint(0, 20)"
   ]
  },
  {
   "cell_type": "code",
   "execution_count": 46,
   "id": "76a4c11b-8078-4342-9699-ac8601b4bec2",
   "metadata": {},
   "outputs": [
    {
     "name": "stdout",
     "output_type": "stream",
     "text": [
      "True\n"
     ]
    }
   ],
   "source": [
    "print(n >= 0 and n <= 20)"
   ]
  },
  {
   "cell_type": "code",
   "execution_count": 48,
   "id": "3f673336-aeb0-4456-bf63-9db3a44e853e",
   "metadata": {},
   "outputs": [
    {
     "name": "stdout",
     "output_type": "stream",
     "text": [
      "False\n"
     ]
    }
   ],
   "source": [
    "print(not (0 <= n <= 20))"
   ]
  },
  {
   "cell_type": "code",
   "execution_count": 51,
   "id": "1bd2d596-51df-47b4-b4c0-ad71ecd9c050",
   "metadata": {},
   "outputs": [
    {
     "name": "stdout",
     "output_type": "stream",
     "text": [
      "(1, 'a')\n",
      "(2, 'b')\n",
      "(3, 'c')\n"
     ]
    }
   ],
   "source": [
    "for i in enumerate(['a', 'b', 'c'], start=1):\n",
    "    print(i)"
   ]
  }
 ],
 "metadata": {
  "kernelspec": {
   "display_name": "Python 3 (ipykernel)",
   "language": "python",
   "name": "python3"
  },
  "language_info": {
   "codemirror_mode": {
    "name": "ipython",
    "version": 3
   },
   "file_extension": ".py",
   "mimetype": "text/x-python",
   "name": "python",
   "nbconvert_exporter": "python",
   "pygments_lexer": "ipython3",
   "version": "3.10.4"
  }
 },
 "nbformat": 4,
 "nbformat_minor": 5
}
