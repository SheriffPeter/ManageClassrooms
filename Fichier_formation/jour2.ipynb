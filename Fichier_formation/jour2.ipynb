{
 "cells": [
  {
   "cell_type": "code",
   "execution_count": 2,
   "id": "1bf7a945-00d6-4572-852e-a844f84ad942",
   "metadata": {},
   "outputs": [
    {
     "name": "stderr",
     "output_type": "stream",
     "text": [
      "Version 1.0.3\n"
     ]
    }
   ],
   "source": [
    "%load_ext nb_mypy"
   ]
  },
  {
   "cell_type": "code",
   "execution_count": 7,
   "id": "ae7b30ab-2dc4-4576-8195-0df35604b101",
   "metadata": {},
   "outputs": [],
   "source": [
    "l: list[str|int] = ['a', 'b', 'c']"
   ]
  },
  {
   "cell_type": "code",
   "execution_count": 8,
   "id": "e9b41750-e017-4e6b-9c88-3a44c607d271",
   "metadata": {},
   "outputs": [],
   "source": [
    "l.append(4)"
   ]
  },
  {
   "cell_type": "code",
   "execution_count": 10,
   "id": "a65e302e-3edb-4897-9675-a41a3921778c",
   "metadata": {},
   "outputs": [],
   "source": [
    "magenta: tuple[int, int, int] = (255, 0, 255)"
   ]
  },
  {
   "cell_type": "code",
   "execution_count": 12,
   "id": "42dba198-4c62-4cbc-b135-fb3c2c87a26a",
   "metadata": {},
   "outputs": [],
   "source": [
    "values_type = dict[str, int]\n",
    "\n",
    "values: values_type = {\n",
    "    'foo': 1,\n",
    "    'bar': 42\n",
    "}"
   ]
  },
  {
   "cell_type": "code",
   "execution_count": 14,
   "id": "bd9e49fb-3dda-4046-a3e9-3ce82b7fcdbb",
   "metadata": {},
   "outputs": [],
   "source": [
    "name = 'test'"
   ]
  },
  {
   "cell_type": "code",
   "execution_count": 15,
   "id": "b806c746-2c1c-414e-a8dc-df0b6aa14c45",
   "metadata": {},
   "outputs": [],
   "source": [
    "name = 12"
   ]
  },
  {
   "cell_type": "code",
   "execution_count": 16,
   "id": "45f95dc6-7396-4ba9-94cd-8fb33442d589",
   "metadata": {},
   "outputs": [],
   "source": [
    "a = 'Σ'"
   ]
  },
  {
   "cell_type": "code",
   "execution_count": 18,
   "id": "3e8756b0-bf11-4d58-a27a-d9da1545cb2b",
   "metadata": {},
   "outputs": [
    {
     "name": "stdout",
     "output_type": "stream",
     "text": [
      "True\n",
      "True\n"
     ]
    }
   ],
   "source": [
    "print(a.isalpha())\n",
    "print(a.isupper())"
   ]
  },
  {
   "cell_type": "code",
   "execution_count": 19,
   "id": "91414977-c9a2-43c8-ab79-5c553124755a",
   "metadata": {},
   "outputs": [
    {
     "name": "stdout",
     "output_type": "stream",
     "text": [
      "σ\n"
     ]
    }
   ],
   "source": [
    "print(a.lower())"
   ]
  },
  {
   "cell_type": "code",
   "execution_count": 20,
   "id": "746b3c79-a275-40c7-bf39-9e676f403ebe",
   "metadata": {},
   "outputs": [
    {
     "name": "stdout",
     "output_type": "stream",
     "text": [
      "Π\n"
     ]
    }
   ],
   "source": [
    "print('π'.upper())"
   ]
  },
  {
   "cell_type": "code",
   "execution_count": 21,
   "id": "a342e72a-42f9-4b81-a7d8-517f4a3fe177",
   "metadata": {},
   "outputs": [
    {
     "name": "stdout",
     "output_type": "stream",
     "text": [
      "True\n"
     ]
    }
   ],
   "source": [
    "print('π'.isidentifier())"
   ]
  },
  {
   "cell_type": "code",
   "execution_count": 22,
   "id": "a365abd8-2c5b-4b40-834a-207361279af1",
   "metadata": {},
   "outputs": [],
   "source": [
    "π = 3.14"
   ]
  },
  {
   "cell_type": "code",
   "execution_count": 28,
   "id": "bcf78579-969c-48f2-bc6c-861402eaf947",
   "metadata": {},
   "outputs": [
    {
     "name": "stdout",
     "output_type": "stream",
     "text": [
      "True\n"
     ]
    }
   ],
   "source": [
    "def is_correct(arg: str) -> bool:\n",
    "    return True\n",
    "\n",
    "\n",
    "if ok := is_correct('test'):\n",
    "    print(ok)"
   ]
  },
  {
   "cell_type": "code",
   "execution_count": null,
   "id": "5e549b36-1e27-4ba5-9d0e-cd9dd650eceb",
   "metadata": {},
   "outputs": [],
   "source": [
    "while line := get_next_line():\n",
    "    do_something(line)"
   ]
  },
  {
   "cell_type": "code",
   "execution_count": 29,
   "id": "4d67b188-87e6-4b28-a4f0-eedac7832568",
   "metadata": {},
   "outputs": [
    {
     "name": "stdout",
     "output_type": "stream",
     "text": [
      "960\n"
     ]
    }
   ],
   "source": [
    "print(ord('π'))"
   ]
  },
  {
   "cell_type": "code",
   "execution_count": 30,
   "id": "684f4499-5ce6-4767-8699-b064ae79303e",
   "metadata": {},
   "outputs": [
    {
     "name": "stdout",
     "output_type": "stream",
     "text": [
      "π\n"
     ]
    }
   ],
   "source": [
    "print(chr(960))"
   ]
  },
  {
   "cell_type": "code",
   "execution_count": 34,
   "id": "5fb78950-9a05-435e-b9c8-72d64b236796",
   "metadata": {},
   "outputs": [],
   "source": [
    "s  = ''\n",
    "cond = ('i' or 'I')\n",
    "if s == cond:\n",
    "    print('vrai')"
   ]
  },
  {
   "cell_type": "code",
   "execution_count": 35,
   "id": "e2e6b6d1-7d0c-4d9e-9440-f59659d46b7c",
   "metadata": {},
   "outputs": [
    {
     "name": "stdout",
     "output_type": "stream",
     "text": [
      "i\n"
     ]
    }
   ],
   "source": [
    "print(cond)"
   ]
  },
  {
   "cell_type": "code",
   "execution_count": 36,
   "id": "8da45683-12e0-402d-8438-1bf62c687d6e",
   "metadata": {},
   "outputs": [
    {
     "name": "stdout",
     "output_type": "stream",
     "text": [
      "a\n"
     ]
    }
   ],
   "source": [
    "print('a' or 'b')"
   ]
  },
  {
   "cell_type": "code",
   "execution_count": 37,
   "id": "4331d8c9-02fc-4751-b105-7aaa869632ce",
   "metadata": {},
   "outputs": [
    {
     "name": "stdout",
     "output_type": "stream",
     "text": [
      "5\n"
     ]
    }
   ],
   "source": [
    "print(0 or 5)"
   ]
  },
  {
   "cell_type": "code",
   "execution_count": 38,
   "id": "f072949a-cc32-4031-b405-5752bf92afe1",
   "metadata": {},
   "outputs": [
    {
     "name": "stdout",
     "output_type": "stream",
     "text": [
      "True\n"
     ]
    }
   ],
   "source": [
    "print(True or False)"
   ]
  },
  {
   "cell_type": "code",
   "execution_count": 39,
   "id": "bb731ee6-feb3-46c7-bda5-74284273120d",
   "metadata": {},
   "outputs": [
    {
     "name": "stdout",
     "output_type": "stream",
     "text": [
      "1\n"
     ]
    }
   ],
   "source": [
    "print(1 or 0)"
   ]
  },
  {
   "cell_type": "code",
   "execution_count": 40,
   "id": "d58864cf-ac39-4192-ab33-98c03baef9c2",
   "metadata": {},
   "outputs": [
    {
     "name": "stdout",
     "output_type": "stream",
     "text": [
      "1\n"
     ]
    }
   ],
   "source": [
    "print(False or 1)"
   ]
  },
  {
   "cell_type": "code",
   "execution_count": 41,
   "id": "098323fd-3ab5-480c-a483-ba3672546f35",
   "metadata": {},
   "outputs": [],
   "source": [
    "if s == 'i' or s == 'I':\n",
    "    print('vrai')"
   ]
  },
  {
   "cell_type": "code",
   "execution_count": 42,
   "id": "a83c4f19-0521-4f59-b251-1d3d4650288a",
   "metadata": {},
   "outputs": [],
   "source": [
    "if s in ('i', 'I'):\n",
    "    print('vrai')"
   ]
  },
  {
   "cell_type": "code",
   "execution_count": null,
   "id": "2245ae67-d2a6-4a7b-af4c-dae16e5ca7e1",
   "metadata": {},
   "outputs": [],
   "source": [
    "s_lower = s.lower()\n",
    "if s_lower == 'i':\n",
    "    ...\n",
    "elif s_lower == 'a':\n",
    "    ..."
   ]
  },
  {
   "cell_type": "code",
   "execution_count": 43,
   "id": "a2e012af-27ad-46da-93bd-e9a490a92bb7",
   "metadata": {},
   "outputs": [],
   "source": [
    "d = {'foo': 'bar'}"
   ]
  },
  {
   "cell_type": "code",
   "execution_count": 44,
   "id": "e8a25e9d-ed62-4ba6-b4b1-188780393f3d",
   "metadata": {},
   "outputs": [
    {
     "name": "stdout",
     "output_type": "stream",
     "text": [
      "bar\n"
     ]
    }
   ],
   "source": [
    "print(d['foo'])"
   ]
  },
  {
   "cell_type": "code",
   "execution_count": 45,
   "id": "adf07727-c905-462f-a341-2e558621def8",
   "metadata": {},
   "outputs": [
    {
     "ename": "KeyError",
     "evalue": "'test'",
     "output_type": "error",
     "traceback": [
      "\u001b[0;31m---------------------------------------------------------------------------\u001b[0m",
      "\u001b[0;31mKeyError\u001b[0m                                  Traceback (most recent call last)",
      "Input \u001b[0;32mIn [45]\u001b[0m, in \u001b[0;36m<cell line: 1>\u001b[0;34m()\u001b[0m\n\u001b[0;32m----> 1\u001b[0m \u001b[38;5;28mprint\u001b[39m(\u001b[43md\u001b[49m\u001b[43m[\u001b[49m\u001b[38;5;124;43m'\u001b[39;49m\u001b[38;5;124;43mtest\u001b[39;49m\u001b[38;5;124;43m'\u001b[39;49m\u001b[43m]\u001b[49m)\n",
      "\u001b[0;31mKeyError\u001b[0m: 'test'"
     ]
    }
   ],
   "source": [
    "print(d['test'])"
   ]
  },
  {
   "cell_type": "code",
   "execution_count": 46,
   "id": "a9487c23-a7fa-4fcc-9139-3264c6aa943e",
   "metadata": {},
   "outputs": [
    {
     "name": "stdout",
     "output_type": "stream",
     "text": [
      "bar\n"
     ]
    }
   ],
   "source": [
    "print(d.get('foo'))"
   ]
  },
  {
   "cell_type": "code",
   "execution_count": 47,
   "id": "eb48cfe8-2ead-4789-9b6f-758a2a648b1b",
   "metadata": {},
   "outputs": [
    {
     "name": "stdout",
     "output_type": "stream",
     "text": [
      "None\n"
     ]
    }
   ],
   "source": [
    "print(d.get('test'))"
   ]
  },
  {
   "cell_type": "code",
   "execution_count": 48,
   "id": "122f506c-d1c7-4b70-9be3-74ac666f49b9",
   "metadata": {},
   "outputs": [
    {
     "name": "stdout",
     "output_type": "stream",
     "text": [
      "valeur par défaut\n"
     ]
    }
   ],
   "source": [
    "print(d.get('test', 'valeur par défaut'))"
   ]
  },
  {
   "cell_type": "code",
   "execution_count": 49,
   "id": "d32bd40b-21c2-48bc-8fa9-e9fae79b129f",
   "metadata": {},
   "outputs": [],
   "source": [
    "def recursion():\n",
    "    return recursion()"
   ]
  },
  {
   "cell_type": "code",
   "execution_count": 50,
   "id": "1e7cb838-3ed8-4dcd-b3cc-54a5f7938eee",
   "metadata": {},
   "outputs": [],
   "source": [
    "def a():\n",
    "    return b()\n",
    "\n",
    "def b():\n",
    "    return None"
   ]
  },
  {
   "cell_type": "code",
   "execution_count": 51,
   "id": "507c9c4d-9930-4fd6-85c3-a08a4b128229",
   "metadata": {},
   "outputs": [],
   "source": [
    "from collections import defaultdict"
   ]
  },
  {
   "cell_type": "code",
   "execution_count": 57,
   "id": "ea4cfa4b-1ad9-4a96-9001-afc0c5fac266",
   "metadata": {},
   "outputs": [
    {
     "name": "stderr",
     "output_type": "stream",
     "text": [
      "<cell>1: error: Need type annotation for \"dd\"\n"
     ]
    }
   ],
   "source": [
    "dd = defaultdict(lambda: 'nope')"
   ]
  },
  {
   "cell_type": "code",
   "execution_count": 58,
   "id": "6d137b6b-eb1e-4674-bbd0-15d653154e2b",
   "metadata": {},
   "outputs": [],
   "source": [
    "dd['foo'] = 'bar'"
   ]
  },
  {
   "cell_type": "code",
   "execution_count": 59,
   "id": "660d1f8d-78fb-43ac-9230-1bc18f59f966",
   "metadata": {},
   "outputs": [
    {
     "name": "stdout",
     "output_type": "stream",
     "text": [
      "defaultdict(<function <lambda> at 0x7f2ad2fd89d0>, {'foo': 'bar'})\n"
     ]
    }
   ],
   "source": [
    "print(dd)"
   ]
  },
  {
   "cell_type": "code",
   "execution_count": 60,
   "id": "67f03d96-7f82-4fac-a12d-c41bbb46ed02",
   "metadata": {},
   "outputs": [
    {
     "name": "stdout",
     "output_type": "stream",
     "text": [
      "nope\n"
     ]
    }
   ],
   "source": [
    "print(dd['test'])"
   ]
  },
  {
   "cell_type": "code",
   "execution_count": 61,
   "id": "ffe355c0-83d3-4286-8a7d-5504005269fb",
   "metadata": {},
   "outputs": [],
   "source": [
    "def addition(n1: int, n2: int) -> int:\n",
    "    return n1 + n2"
   ]
  },
  {
   "cell_type": "code",
   "execution_count": 62,
   "id": "c2473103-a69f-44a2-9f30-a975df0d2f30",
   "metadata": {},
   "outputs": [
    {
     "name": "stdout",
     "output_type": "stream",
     "text": [
      "Help on function addition in module __main__:\n",
      "\n",
      "addition(n1: int, n2: int) -> int\n",
      "\n"
     ]
    }
   ],
   "source": [
    "help(addition)"
   ]
  },
  {
   "cell_type": "code",
   "execution_count": 63,
   "id": "f977d1ec-cda1-417d-91d6-9f454f888921",
   "metadata": {},
   "outputs": [],
   "source": [
    "addition = 'test'"
   ]
  },
  {
   "cell_type": "code",
   "execution_count": 97,
   "id": "b8db4af1-697d-446b-86b9-6532a283adcb",
   "metadata": {},
   "outputs": [],
   "source": [
    "names = ['Benoît', 'Pierre', 'Ivy', 'Sébastien', 'Sophie', 'Val', 'Patrice', 'Loïc']"
   ]
  },
  {
   "cell_type": "code",
   "execution_count": 98,
   "id": "ab1fe91d-e25e-4121-9182-0936e3fdcc63",
   "metadata": {},
   "outputs": [
    {
     "name": "stdout",
     "output_type": "stream",
     "text": [
      "Val\n"
     ]
    }
   ],
   "source": [
    "print(max(names))"
   ]
  },
  {
   "cell_type": "code",
   "execution_count": 99,
   "id": "4a2787f7-8a90-4f6c-948c-c1e99d5e18e7",
   "metadata": {},
   "outputs": [
    {
     "name": "stdout",
     "output_type": "stream",
     "text": [
      "Help on built-in function max in module builtins:\n",
      "\n",
      "max(...)\n",
      "    max(iterable, *[, default=obj, key=func]) -> value\n",
      "    max(arg1, arg2, *args, *[, key=func]) -> value\n",
      "    \n",
      "    With a single iterable argument, return its biggest item. The\n",
      "    default keyword-only argument specifies an object to return if\n",
      "    the provided iterable is empty.\n",
      "    With two or more arguments, return the largest argument.\n",
      "\n"
     ]
    }
   ],
   "source": [
    "help(max)"
   ]
  },
  {
   "cell_type": "code",
   "execution_count": 100,
   "id": "bdd36c13-8abf-4514-b5f9-8c3b8fa5d939",
   "metadata": {},
   "outputs": [
    {
     "name": "stdout",
     "output_type": "stream",
     "text": [
      "Sébastien\n"
     ]
    }
   ],
   "source": [
    "print(max(names, key=len))"
   ]
  },
  {
   "cell_type": "code",
   "execution_count": 101,
   "id": "172e07d9-a620-4a32-873d-462be3214035",
   "metadata": {},
   "outputs": [],
   "source": [
    "def my_callback(item: str) -> int:\n",
    "    print(f'appel de my_callback(\"{item}\")')\n",
    "    return len(item)"
   ]
  },
  {
   "cell_type": "code",
   "execution_count": 102,
   "id": "a2b7cbab-661a-4160-b903-cdfab8cbbec5",
   "metadata": {},
   "outputs": [
    {
     "name": "stdout",
     "output_type": "stream",
     "text": [
      "appel de my_callback(\"Benoît\")\n",
      "appel de my_callback(\"Pierre\")\n",
      "appel de my_callback(\"Ivy\")\n",
      "appel de my_callback(\"Sébastien\")\n",
      "appel de my_callback(\"Sophie\")\n",
      "appel de my_callback(\"Val\")\n",
      "appel de my_callback(\"Patrice\")\n",
      "appel de my_callback(\"Loïc\")\n"
     ]
    }
   ],
   "source": [
    "max_val = max(names, key=my_callback)"
   ]
  },
  {
   "cell_type": "code",
   "execution_count": 103,
   "id": "cc07546e-9e29-44d2-b53f-d9493c44ad39",
   "metadata": {},
   "outputs": [
    {
     "name": "stdout",
     "output_type": "stream",
     "text": [
      "Sébastien\n"
     ]
    }
   ],
   "source": [
    "print(max_val)"
   ]
  },
  {
   "cell_type": "code",
   "execution_count": 104,
   "id": "54e63960-6135-4cb9-aa71-561ba4d331ca",
   "metadata": {},
   "outputs": [],
   "source": [
    "truc = my_callback"
   ]
  },
  {
   "cell_type": "code",
   "execution_count": 105,
   "id": "3573d839-8578-4275-b406-ef78cde50f17",
   "metadata": {},
   "outputs": [
    {
     "name": "stdout",
     "output_type": "stream",
     "text": [
      "<function my_callback at 0x7f2ad0d7c820>\n"
     ]
    }
   ],
   "source": [
    "print(truc)"
   ]
  },
  {
   "cell_type": "code",
   "execution_count": 106,
   "id": "58237f78-6047-463d-b8d6-e748b9a5d4b1",
   "metadata": {},
   "outputs": [
    {
     "name": "stdout",
     "output_type": "stream",
     "text": [
      "appel de my_callback(\"hello\")\n",
      "5\n"
     ]
    }
   ],
   "source": [
    "print(truc('hello'))"
   ]
  },
  {
   "cell_type": "code",
   "execution_count": 107,
   "id": "083cc485-d8b2-4b42-ac43-83c2478c2c1a",
   "metadata": {},
   "outputs": [
    {
     "name": "stderr",
     "output_type": "stream",
     "text": [
      "<cell>11: error: Incompatible return value type (got \"Optional[str]\", expected \"str\")\n"
     ]
    }
   ],
   "source": [
    "def my_max(items: list[str], key) -> str:\n",
    "    record = 0\n",
    "\n",
    "    longest = None\n",
    "\n",
    "    for sentence in items:\n",
    "        current_score = key(sentence)\n",
    "        if current_score > record:\n",
    "            record = current_score\n",
    "            longest = sentence\n",
    "    return longest"
   ]
  },
  {
   "cell_type": "code",
   "execution_count": 8,
   "id": "702487db-8944-432c-b0ed-0785fa27c140",
   "metadata": {},
   "outputs": [
    {
     "name": "stdout",
     "output_type": "stream",
     "text": [
      "Ivy\n"
     ]
    }
   ],
   "source": [
    "def get_last_char(s: str) -> str:\n",
    "    if len(s):\n",
    "        return s[-1]\n",
    "    return ''\n",
    "\n",
    "\n",
    "print(max(names, key=get_last_char))"
   ]
  },
  {
   "cell_type": "code",
   "execution_count": 109,
   "id": "ebd5022a-7cd6-47de-9c49-f03a3b146e84",
   "metadata": {},
   "outputs": [
    {
     "name": "stdout",
     "output_type": "stream",
     "text": [
      "Sébastien\n"
     ]
    }
   ],
   "source": [
    "print(my_max(names, key=len))"
   ]
  },
  {
   "cell_type": "code",
   "execution_count": 111,
   "id": "b5843811-d4d9-4d2f-a7b9-187e33f2e578",
   "metadata": {},
   "outputs": [
    {
     "ename": "ValueError",
     "evalue": "max() arg is an empty sequence",
     "output_type": "error",
     "traceback": [
      "\u001b[0;31m---------------------------------------------------------------------------\u001b[0m",
      "\u001b[0;31mValueError\u001b[0m                                Traceback (most recent call last)",
      "Input \u001b[0;32mIn [111]\u001b[0m, in \u001b[0;36m<cell line: 1>\u001b[0;34m()\u001b[0m\n\u001b[0;32m----> 1\u001b[0m \u001b[38;5;28mprint\u001b[39m(\u001b[38;5;28;43mmax\u001b[39;49m\u001b[43m(\u001b[49m\u001b[43m[\u001b[49m\u001b[43m]\u001b[49m\u001b[43m)\u001b[49m)\n",
      "\u001b[0;31mValueError\u001b[0m: max() arg is an empty sequence"
     ]
    }
   ],
   "source": [
    "print(max([]))"
   ]
  },
  {
   "cell_type": "code",
   "execution_count": 114,
   "id": "3ae43aa2-7cfa-43e6-a49a-49af2535c8f7",
   "metadata": {},
   "outputs": [
    {
     "name": "stdout",
     "output_type": "stream",
     "text": [
      "-0.8390715290764524\n",
      "1.5707963267948966\n"
     ]
    }
   ],
   "source": [
    "import math\n",
    "\n",
    "print(math.cos(10))\n",
    "print(math.radians(90))"
   ]
  },
  {
   "cell_type": "code",
   "execution_count": 115,
   "id": "8648eb2a-41a2-4ef7-b84d-276246e8a8ed",
   "metadata": {},
   "outputs": [],
   "source": [
    "del math"
   ]
  },
  {
   "cell_type": "code",
   "execution_count": 116,
   "id": "0f5d4f85-be0f-4ec7-94c7-0728231b74d4",
   "metadata": {},
   "outputs": [
    {
     "ename": "NameError",
     "evalue": "name 'math' is not defined",
     "output_type": "error",
     "traceback": [
      "\u001b[0;31m---------------------------------------------------------------------------\u001b[0m",
      "\u001b[0;31mNameError\u001b[0m                                 Traceback (most recent call last)",
      "Input \u001b[0;32mIn [116]\u001b[0m, in \u001b[0;36m<cell line: 1>\u001b[0;34m()\u001b[0m\n\u001b[0;32m----> 1\u001b[0m \u001b[38;5;28mprint\u001b[39m(\u001b[43mmath\u001b[49m)\n",
      "\u001b[0;31mNameError\u001b[0m: name 'math' is not defined"
     ]
    }
   ],
   "source": [
    "print(math)"
   ]
  },
  {
   "cell_type": "code",
   "execution_count": 117,
   "id": "1e5e3500-6c93-4d2a-a8a0-cd78ab078aa3",
   "metadata": {},
   "outputs": [
    {
     "name": "stdout",
     "output_type": "stream",
     "text": [
      "-0.9999987317275395\n"
     ]
    }
   ],
   "source": [
    "from math import cos\n",
    "\n",
    "print(cos(3.14))"
   ]
  },
  {
   "cell_type": "code",
   "execution_count": 118,
   "id": "dd43fea2-5f87-47bd-9129-d8b7eed37678",
   "metadata": {},
   "outputs": [
    {
     "name": "stderr",
     "output_type": "stream",
     "text": [
      "<cell>1: error: Incompatible types in assignment (expression has type \"None\", variable has type \"str\")\n"
     ]
    }
   ],
   "source": [
    "s: str = None"
   ]
  },
  {
   "cell_type": "code",
   "execution_count": 119,
   "id": "429c79c0-9d5e-4629-88c0-c780fb54a4d6",
   "metadata": {},
   "outputs": [],
   "source": [
    "import typing"
   ]
  },
  {
   "cell_type": "code",
   "execution_count": 120,
   "id": "bde1bfa1-d2b8-4291-9e51-7cbefb4dda9f",
   "metadata": {},
   "outputs": [],
   "source": [
    "s: typing.Optional[str] = None"
   ]
  },
  {
   "cell_type": "code",
   "execution_count": 121,
   "id": "e8499cf1-6f5c-49ba-bcad-d76c77779576",
   "metadata": {},
   "outputs": [],
   "source": [
    "s = 'test'"
   ]
  },
  {
   "cell_type": "code",
   "execution_count": 122,
   "id": "21b3c955-5686-4667-81b1-30b41e2191e7",
   "metadata": {},
   "outputs": [
    {
     "name": "stderr",
     "output_type": "stream",
     "text": [
      "<cell>1: error: Incompatible types in assignment (expression has type \"int\", variable has type \"Optional[str]\")\n"
     ]
    }
   ],
   "source": [
    "s = 123"
   ]
  },
  {
   "cell_type": "code",
   "execution_count": 124,
   "id": "e70441b0-a8f4-4493-9b2c-064cdf089c14",
   "metadata": {},
   "outputs": [],
   "source": [
    "from os import mkdir"
   ]
  },
  {
   "cell_type": "code",
   "execution_count": 127,
   "id": "c25e8f4e-6a93-433b-ae16-e0ea9d2125f6",
   "metadata": {},
   "outputs": [
    {
     "name": "stderr",
     "output_type": "stream",
     "text": [
      "<cell>1: error: \"mkdir\" does not return a value\n"
     ]
    },
    {
     "name": "stdout",
     "output_type": "stream",
     "text": [
      "None\n"
     ]
    }
   ],
   "source": [
    "print(mkdir('tmp'))"
   ]
  },
  {
   "cell_type": "code",
   "execution_count": 128,
   "id": "42b71448-d2bc-4799-8f50-415a6de3dee2",
   "metadata": {},
   "outputs": [
    {
     "name": "stderr",
     "output_type": "stream",
     "text": [
      "<cell>1: error: \"mkdir\" does not return a value\n"
     ]
    },
    {
     "ename": "FileExistsError",
     "evalue": "[Errno 17] File exists: 'tmp'",
     "output_type": "error",
     "traceback": [
      "\u001b[0;31m---------------------------------------------------------------------------\u001b[0m",
      "\u001b[0;31mFileExistsError\u001b[0m                           Traceback (most recent call last)",
      "Input \u001b[0;32mIn [128]\u001b[0m, in \u001b[0;36m<cell line: 1>\u001b[0;34m()\u001b[0m\n\u001b[0;32m----> 1\u001b[0m \u001b[38;5;28mprint\u001b[39m(\u001b[43mmkdir\u001b[49m\u001b[43m(\u001b[49m\u001b[38;5;124;43m'\u001b[39;49m\u001b[38;5;124;43mtmp\u001b[39;49m\u001b[38;5;124;43m'\u001b[39;49m\u001b[43m)\u001b[49m)\n",
      "\u001b[0;31mFileExistsError\u001b[0m: [Errno 17] File exists: 'tmp'"
     ]
    }
   ],
   "source": [
    "print(mkdir('tmp'))"
   ]
  },
  {
   "cell_type": "code",
   "execution_count": 3,
   "id": "21132b17-11a5-4fe9-bd71-cdfd8c5154da",
   "metadata": {},
   "outputs": [],
   "source": [
    "names = ['Benoît', 'Pierre', 'Ivy', 'Sébastien', 'Sophie', 'Val', 'Patrice', 'Loïc']"
   ]
  },
  {
   "cell_type": "code",
   "execution_count": 4,
   "id": "8d8dacf0-78b4-436c-a2a9-d2473cdb4c81",
   "metadata": {},
   "outputs": [],
   "source": [
    "from typing import Iterable, Callable, Any, Optional, TypeVar\n",
    "\n",
    "\n",
    "T = TypeVar('T')\n",
    "\n",
    "\n",
    "def returns(x: T) -> T:\n",
    "    return x\n",
    "\n",
    "\n",
    "def my_max(items: Iterable[T], key: Callable[[T], Any] = returns)\\\n",
    "        -> Optional[T]:\n",
    "    record = None\n",
    "\n",
    "    longest = None\n",
    "\n",
    "    for item in items:\n",
    "        current_score = key(item)\n",
    "        if record is None or current_score > record:\n",
    "            record = current_score\n",
    "            longest = item\n",
    "    return longest"
   ]
  },
  {
   "cell_type": "code",
   "execution_count": 5,
   "id": "ef0032db-7af1-4271-bd56-3c88330f28b1",
   "metadata": {},
   "outputs": [
    {
     "name": "stdout",
     "output_type": "stream",
     "text": [
      "Sébastien\n"
     ]
    }
   ],
   "source": [
    "print(my_max(names, key=len))"
   ]
  },
  {
   "cell_type": "code",
   "execution_count": 9,
   "id": "d3786879-e911-47e8-a7c9-d5a6a570d89d",
   "metadata": {},
   "outputs": [
    {
     "name": "stdout",
     "output_type": "stream",
     "text": [
      "Ivy\n"
     ]
    }
   ],
   "source": [
    "print(my_max(names, key=get_last_char))"
   ]
  },
  {
   "cell_type": "code",
   "execution_count": 10,
   "id": "3b2b3df7-8fe3-40f1-9303-fd8e1196e5bd",
   "metadata": {},
   "outputs": [],
   "source": [
    "from random import shuffle"
   ]
  },
  {
   "cell_type": "code",
   "execution_count": 11,
   "id": "2c61b3a4-3e65-4d90-8573-ae78acb6c992",
   "metadata": {},
   "outputs": [],
   "source": [
    "numbers = range(20)"
   ]
  },
  {
   "cell_type": "code",
   "execution_count": 12,
   "id": "da7c60f2-7f97-4061-8c3c-b322f722c3a8",
   "metadata": {},
   "outputs": [
    {
     "name": "stdout",
     "output_type": "stream",
     "text": [
      "range(0, 20)\n"
     ]
    }
   ],
   "source": [
    "print(numbers)"
   ]
  },
  {
   "cell_type": "code",
   "execution_count": 13,
   "id": "4b91525e-cec7-4240-92e8-1a5be1e42d89",
   "metadata": {},
   "outputs": [],
   "source": [
    "numbers = list(numbers)"
   ]
  },
  {
   "cell_type": "code",
   "execution_count": 14,
   "id": "2d3075f6-0cb6-43b8-bb1f-d59ff86ec4f8",
   "metadata": {},
   "outputs": [],
   "source": [
    "shuffle(numbers)"
   ]
  },
  {
   "cell_type": "code",
   "execution_count": 15,
   "id": "d6a04760-a4e3-4f8c-8ecb-a9f4fb5b5512",
   "metadata": {},
   "outputs": [
    {
     "name": "stdout",
     "output_type": "stream",
     "text": [
      "[15, 1, 4, 5, 7, 19, 6, 9, 13, 12, 8, 0, 2, 3, 11, 17, 14, 18, 16, 10]\n"
     ]
    }
   ],
   "source": [
    "print(numbers)"
   ]
  },
  {
   "cell_type": "code",
   "execution_count": 16,
   "id": "bb6fac1d-f3a3-42d3-96c3-61143e679fda",
   "metadata": {},
   "outputs": [
    {
     "name": "stdout",
     "output_type": "stream",
     "text": [
      "19\n"
     ]
    }
   ],
   "source": [
    "print(max(numbers))"
   ]
  },
  {
   "cell_type": "code",
   "execution_count": 17,
   "id": "5707e7ba-245d-4e64-b9ec-bdd1e94de41a",
   "metadata": {},
   "outputs": [
    {
     "name": "stdout",
     "output_type": "stream",
     "text": [
      "19\n"
     ]
    }
   ],
   "source": [
    "print(my_max(numbers))"
   ]
  },
  {
   "cell_type": "code",
   "execution_count": 18,
   "id": "48ae1e27-2cbb-4c91-9fa6-6fe03faa7c99",
   "metadata": {},
   "outputs": [
    {
     "name": "stdout",
     "output_type": "stream",
     "text": [
      "Sébastien\n"
     ]
    }
   ],
   "source": [
    "print(max(names, key=len))"
   ]
  },
  {
   "cell_type": "code",
   "execution_count": 19,
   "id": "cba65093-7132-4cb3-860c-27f6f4e9c435",
   "metadata": {},
   "outputs": [
    {
     "name": "stdout",
     "output_type": "stream",
     "text": [
      "(0, 'Benoît')\n"
     ]
    }
   ],
   "source": [
    "print(max(enumerate(names), key=len))"
   ]
  },
  {
   "cell_type": "code",
   "execution_count": 20,
   "id": "8e15808b-d5e4-4229-af78-50d948d6d2ea",
   "metadata": {},
   "outputs": [],
   "source": [
    "def get_size_of_item_1(item: tuple[int, str]) -> int:\n",
    "    return len(item[1])"
   ]
  },
  {
   "cell_type": "code",
   "execution_count": 21,
   "id": "8b3c3f3b-0cfd-4018-89b5-347357bb8210",
   "metadata": {},
   "outputs": [
    {
     "name": "stdout",
     "output_type": "stream",
     "text": [
      "(3, 'Sébastien')\n"
     ]
    }
   ],
   "source": [
    "print(max(enumerate(names), key=get_size_of_item_1))"
   ]
  },
  {
   "cell_type": "code",
   "execution_count": 22,
   "id": "e96e7ee1-c771-4832-9cc1-273eed3f8122",
   "metadata": {},
   "outputs": [
    {
     "name": "stdout",
     "output_type": "stream",
     "text": [
      "<function <lambda> at 0x7fb2d3c2feb0>\n"
     ]
    }
   ],
   "source": [
    "print(lambda i: i + 1)"
   ]
  },
  {
   "cell_type": "code",
   "execution_count": 23,
   "id": "5e909f74-4154-4697-a472-0696b5bd9e8a",
   "metadata": {},
   "outputs": [
    {
     "name": "stdout",
     "output_type": "stream",
     "text": [
      "(3, 'Sébastien')\n"
     ]
    }
   ],
   "source": [
    "print(max(enumerate(names), key=lambda t: len(t[1])))"
   ]
  },
  {
   "cell_type": "code",
   "execution_count": 26,
   "id": "25b1b125-9d54-4c07-9837-788065fe5066",
   "metadata": {},
   "outputs": [
    {
     "name": "stdout",
     "output_type": "stream",
     "text": [
      "deux\n"
     ]
    }
   ],
   "source": [
    "print(max('un', 'deux', 'trois', 'quatre', 'cinq', key=lambda s: s[-1]))"
   ]
  },
  {
   "cell_type": "code",
   "execution_count": 28,
   "id": "5f5b61e8-5e47-4891-bd99-06cd111afebe",
   "metadata": {},
   "outputs": [],
   "source": [
    "longest_index, longest = max(enumerate(names), key=lambda t: len(t[1]))"
   ]
  },
  {
   "cell_type": "code",
   "execution_count": 30,
   "id": "29e5c7a1-a7a8-4210-b792-ce3570ca930c",
   "metadata": {},
   "outputs": [],
   "source": [
    "from typing import Iterable, Callable, Any, Optional, TypeVar\n",
    "\n",
    "\n",
    "T = TypeVar('T')\n",
    "\n",
    "\n",
    "def my_max(items: Iterable[T], key: Callable[[T], Any] = lambda i: i)\\\n",
    "        -> Optional[T]:\n",
    "    record = None\n",
    "\n",
    "    longest = None\n",
    "\n",
    "    for item in items:\n",
    "        current_score = key(item)\n",
    "        if record is None or current_score > record:\n",
    "            record = current_score\n",
    "            longest = item\n",
    "    return longest"
   ]
  },
  {
   "cell_type": "code",
   "execution_count": 29,
   "id": "0ffafdd5-9f73-4be6-9c55-ac7c9a917429",
   "metadata": {},
   "outputs": [
    {
     "name": "stdout",
     "output_type": "stream",
     "text": [
      "6\n",
      "6\n",
      "3\n",
      "9\n",
      "6\n",
      "3\n",
      "7\n",
      "4\n"
     ]
    }
   ],
   "source": [
    "for i in map(len, names):\n",
    "    print(i)"
   ]
  },
  {
   "cell_type": "code",
   "execution_count": 31,
   "id": "f6b141df-22c0-44c9-8cac-b05f86fc559f",
   "metadata": {},
   "outputs": [
    {
     "name": "stdout",
     "output_type": "stream",
     "text": [
      "BENOÎT\n",
      "PIERRE\n",
      "IVY\n",
      "SÉBASTIEN\n",
      "SOPHIE\n",
      "VAL\n",
      "PATRICE\n",
      "LOÏC\n"
     ]
    }
   ],
   "source": [
    "for i in map(lambda s: s.upper(), names):\n",
    "    print(i)"
   ]
  },
  {
   "cell_type": "code",
   "execution_count": 33,
   "id": "e630d45b-5c38-4ede-9f09-fadf4770727f",
   "metadata": {},
   "outputs": [
    {
     "name": "stdout",
     "output_type": "stream",
     "text": [
      "BENOÎT\n",
      "PIERRE\n",
      "SOPHIE\n",
      "LOÏC\n"
     ]
    }
   ],
   "source": [
    "for i in map(str.upper, filter(lambda s: (len(s) % 2) == 0, names)):\n",
    "    print(i)"
   ]
  },
  {
   "cell_type": "code",
   "execution_count": 35,
   "id": "d6f79cf6-7788-4ff8-9147-e560d4d90c91",
   "metadata": {},
   "outputs": [],
   "source": [
    "def verbose_upper(s: str) -> str:\n",
    "    print(f'appel de verbose_upper(\"{s}\")')\n",
    "    return s.upper()\n",
    "\n",
    "\n",
    "m = map(verbose_upper, names)"
   ]
  },
  {
   "cell_type": "code",
   "execution_count": 36,
   "id": "e0ac4d0b-ccc2-4e06-9869-f36b7528f8b4",
   "metadata": {},
   "outputs": [
    {
     "name": "stdout",
     "output_type": "stream",
     "text": [
      "<map object at 0x7fb2d3cac130>\n"
     ]
    }
   ],
   "source": [
    "print(m)"
   ]
  },
  {
   "cell_type": "code",
   "execution_count": 37,
   "id": "c51e89d6-4e19-4662-81ed-ca6668edb9ff",
   "metadata": {},
   "outputs": [
    {
     "name": "stdout",
     "output_type": "stream",
     "text": [
      "appel de verbose_upper(\"Benoît\")\n",
      "BENOÎT\n",
      "appel de verbose_upper(\"Pierre\")\n",
      "PIERRE\n",
      "appel de verbose_upper(\"Ivy\")\n",
      "IVY\n",
      "appel de verbose_upper(\"Sébastien\")\n",
      "SÉBASTIEN\n",
      "appel de verbose_upper(\"Sophie\")\n",
      "SOPHIE\n",
      "appel de verbose_upper(\"Val\")\n",
      "VAL\n",
      "appel de verbose_upper(\"Patrice\")\n",
      "PATRICE\n",
      "appel de verbose_upper(\"Loïc\")\n",
      "LOÏC\n"
     ]
    }
   ],
   "source": [
    "for i in m:\n",
    "    print(i)"
   ]
  },
  {
   "cell_type": "code",
   "execution_count": 38,
   "id": "0c5e94e8-2b18-45a8-921a-346a08ff3f66",
   "metadata": {},
   "outputs": [],
   "source": [
    "for i in m:\n",
    "    print(i)"
   ]
  },
  {
   "cell_type": "code",
   "execution_count": 39,
   "id": "1ce71275-2594-4c8f-a081-655ffa68d26e",
   "metadata": {},
   "outputs": [
    {
     "name": "stdout",
     "output_type": "stream",
     "text": [
      "<map object at 0x7fb2d3caff10>\n",
      "appel de verbose_upper(\"Benoît\")\n",
      "appel de verbose_upper(\"Pierre\")\n",
      "appel de verbose_upper(\"Ivy\")\n",
      "appel de verbose_upper(\"Sébastien\")\n",
      "appel de verbose_upper(\"Sophie\")\n",
      "appel de verbose_upper(\"Val\")\n",
      "appel de verbose_upper(\"Patrice\")\n",
      "appel de verbose_upper(\"Loïc\")\n",
      "['BENOÎT', 'PIERRE', 'IVY', 'SÉBASTIEN', 'SOPHIE', 'VAL', 'PATRICE', 'LOÏC']\n"
     ]
    }
   ],
   "source": [
    "m = map(verbose_upper, names)\n",
    "print(m)\n",
    "print(list(m))"
   ]
  },
  {
   "cell_type": "code",
   "execution_count": 42,
   "id": "c3fa8483-19aa-43e0-bf4a-e4ade2561b79",
   "metadata": {},
   "outputs": [],
   "source": [
    "r = range(10)"
   ]
  },
  {
   "cell_type": "code",
   "execution_count": 44,
   "id": "02be57f9-9354-455e-b1b2-4cb2e493cec4",
   "metadata": {},
   "outputs": [
    {
     "name": "stdout",
     "output_type": "stream",
     "text": [
      "[0, 1, 2, 3, 4, 5, 6, 7, 8, 9]\n"
     ]
    }
   ],
   "source": [
    "print(sorted(r))"
   ]
  },
  {
   "cell_type": "markdown",
   "id": "73b73326-4dde-4531-adf3-a650f1253965",
   "metadata": {},
   "source": [
    "# Programmation objet"
   ]
  },
  {
   "cell_type": "code",
   "execution_count": 63,
   "id": "dc8db4ff-e527-4a5f-816c-cb6bb628941f",
   "metadata": {},
   "outputs": [],
   "source": [
    "class Voiture:\n",
    "    marque: str = 'Renault'\n",
    "    modele: str = 'Clio'\n",
    "    _id: int = 42"
   ]
  },
  {
   "cell_type": "code",
   "execution_count": 64,
   "id": "46e12bbe-5a34-474d-a8ed-3bfb24586020",
   "metadata": {},
   "outputs": [
    {
     "name": "stdout",
     "output_type": "stream",
     "text": [
      "<class 'str'>\n"
     ]
    }
   ],
   "source": [
    "print(str)"
   ]
  },
  {
   "cell_type": "code",
   "execution_count": 65,
   "id": "453c8229-6c2b-4580-b18d-6b28ad525a8b",
   "metadata": {},
   "outputs": [],
   "source": [
    "ma_clio = Voiture()"
   ]
  },
  {
   "cell_type": "code",
   "execution_count": 66,
   "id": "43c50dd6-8155-4ffb-93b8-b7ace881c217",
   "metadata": {},
   "outputs": [
    {
     "name": "stdout",
     "output_type": "stream",
     "text": [
      "<__main__.Voiture object at 0x7fb2cadfc3d0>\n"
     ]
    }
   ],
   "source": [
    "print(ma_clio)"
   ]
  },
  {
   "cell_type": "code",
   "execution_count": 67,
   "id": "f1210d00-4894-431d-8f8e-ad767e536239",
   "metadata": {},
   "outputs": [
    {
     "name": "stdout",
     "output_type": "stream",
     "text": [
      "Renault\n"
     ]
    }
   ],
   "source": [
    "print(ma_clio.marque)"
   ]
  },
  {
   "cell_type": "code",
   "execution_count": 68,
   "id": "03ea81cd-728b-4bf5-8da7-8a7d72d76ad3",
   "metadata": {},
   "outputs": [
    {
     "name": "stdout",
     "output_type": "stream",
     "text": [
      "42\n"
     ]
    }
   ],
   "source": [
    "print(ma_clio._id)"
   ]
  },
  {
   "cell_type": "code",
   "execution_count": 69,
   "id": "db2a749b-a2c2-4f10-a47e-e71710cf2cf0",
   "metadata": {},
   "outputs": [],
   "source": [
    "ma_clio.modele = 'Mégane'"
   ]
  },
  {
   "cell_type": "code",
   "execution_count": 70,
   "id": "5bf1f5f6-b1d6-45ae-944b-b059aa4cfeb3",
   "metadata": {},
   "outputs": [
    {
     "name": "stdout",
     "output_type": "stream",
     "text": [
      "Mégane\n"
     ]
    }
   ],
   "source": [
    "print(ma_clio.modele)"
   ]
  },
  {
   "cell_type": "code",
   "execution_count": 71,
   "id": "068ca9ca-64c3-4275-af2b-322b15e65808",
   "metadata": {},
   "outputs": [
    {
     "name": "stderr",
     "output_type": "stream",
     "text": [
      "<cell>1: error: \"Voiture\" has no attribute \"immatriculation\"\n"
     ]
    }
   ],
   "source": [
    "ma_clio.immatriculation = '123abc45'"
   ]
  },
  {
   "cell_type": "code",
   "execution_count": 72,
   "id": "55b9d4f5-5c47-4a5b-96e6-8b589c73e199",
   "metadata": {},
   "outputs": [
    {
     "name": "stderr",
     "output_type": "stream",
     "text": [
      "<cell>1: error: \"Voiture\" has no attribute \"immatriculation\"\n"
     ]
    },
    {
     "name": "stdout",
     "output_type": "stream",
     "text": [
      "123abc45\n"
     ]
    }
   ],
   "source": [
    "print(ma_clio.immatriculation)"
   ]
  },
  {
   "cell_type": "code",
   "execution_count": 74,
   "id": "39f24d03-6cb0-40d4-a009-14649caaadb4",
   "metadata": {},
   "outputs": [],
   "source": [
    "ma_208 = Voiture()\n",
    "ma_208.marque = 'Peugeot'\n",
    "ma_208.modele = '208'"
   ]
  },
  {
   "cell_type": "code",
   "execution_count": 75,
   "id": "a8f2bfe0-3ca2-4819-90ba-f7902c39b807",
   "metadata": {},
   "outputs": [
    {
     "name": "stderr",
     "output_type": "stream",
     "text": [
      "<cell>1: error: \"Voiture\" has no attribute \"immatriculation\"\n"
     ]
    },
    {
     "ename": "AttributeError",
     "evalue": "'Voiture' object has no attribute 'immatriculation'",
     "output_type": "error",
     "traceback": [
      "\u001b[0;31m---------------------------------------------------------------------------\u001b[0m",
      "\u001b[0;31mAttributeError\u001b[0m                            Traceback (most recent call last)",
      "Input \u001b[0;32mIn [75]\u001b[0m, in \u001b[0;36m<cell line: 1>\u001b[0;34m()\u001b[0m\n\u001b[0;32m----> 1\u001b[0m \u001b[38;5;28mprint\u001b[39m(\u001b[43mma_208\u001b[49m\u001b[38;5;241;43m.\u001b[39;49m\u001b[43mimmatriculation\u001b[49m)\n",
      "\u001b[0;31mAttributeError\u001b[0m: 'Voiture' object has no attribute 'immatriculation'"
     ]
    }
   ],
   "source": [
    "print(ma_208.immatriculation)"
   ]
  },
  {
   "cell_type": "code",
   "execution_count": 91,
   "id": "ca8210af-9532-495a-ac82-bb2060c04691",
   "metadata": {},
   "outputs": [],
   "source": [
    "class Voiture:\n",
    "    marque: str = 'Renault'\n",
    "    modele: str = 'Clio'\n",
    "    vitesse: int = 0\n",
    "    _id: int = 42\n",
    "    \n",
    "    def klaxonner(self) -> str:\n",
    "        print(self)\n",
    "        return 'Tuuuut!'\n",
    "    \n",
    "    def accelerer(self):\n",
    "        self.vitesse += 1"
   ]
  },
  {
   "cell_type": "code",
   "execution_count": 92,
   "id": "442d5ddf-115b-423e-86d2-712b7c9dbd45",
   "metadata": {},
   "outputs": [],
   "source": [
    "ma_clio = Voiture()"
   ]
  },
  {
   "cell_type": "code",
   "execution_count": 93,
   "id": "ab9e8cdb-19f4-47eb-94c7-e1151f3c52b6",
   "metadata": {},
   "outputs": [
    {
     "name": "stdout",
     "output_type": "stream",
     "text": [
      "<__main__.Voiture object at 0x7fb2c8d17910>\n",
      "Tuuuut!\n"
     ]
    }
   ],
   "source": [
    "print(ma_clio.klaxonner())"
   ]
  },
  {
   "cell_type": "code",
   "execution_count": 94,
   "id": "bbcce21d-af4f-425c-885d-46db854465a0",
   "metadata": {},
   "outputs": [
    {
     "name": "stdout",
     "output_type": "stream",
     "text": [
      "<__main__.Voiture object at 0x7fb2c8d17910>\n"
     ]
    }
   ],
   "source": [
    "print(ma_clio)"
   ]
  },
  {
   "cell_type": "code",
   "execution_count": 95,
   "id": "8895319b-942f-4b35-b5a7-484a2e126ed5",
   "metadata": {},
   "outputs": [],
   "source": [
    "ma_208 = Voiture()\n",
    "ma_208.marque = 'Peugeot'\n",
    "ma_208.modele = '208'"
   ]
  },
  {
   "cell_type": "code",
   "execution_count": 96,
   "id": "4d267789-38db-49dc-b303-20d94428067f",
   "metadata": {},
   "outputs": [
    {
     "name": "stdout",
     "output_type": "stream",
     "text": [
      "<__main__.Voiture object at 0x7fb2b23261d0>\n"
     ]
    }
   ],
   "source": [
    "print(ma_208)"
   ]
  },
  {
   "cell_type": "code",
   "execution_count": 97,
   "id": "c45818d4-b718-4feb-bbd9-518f2818d354",
   "metadata": {},
   "outputs": [
    {
     "name": "stdout",
     "output_type": "stream",
     "text": [
      "<__main__.Voiture object at 0x7fb2c8d17910>\n",
      "Tuuuut!\n"
     ]
    }
   ],
   "source": [
    "print(ma_clio.klaxonner())"
   ]
  },
  {
   "cell_type": "code",
   "execution_count": 98,
   "id": "492e659e-6e57-4c4b-83f8-6d7a3afc165f",
   "metadata": {},
   "outputs": [
    {
     "name": "stdout",
     "output_type": "stream",
     "text": [
      "<__main__.Voiture object at 0x7fb2b23261d0>\n",
      "Tuuuut!\n"
     ]
    }
   ],
   "source": [
    "print(ma_208.klaxonner())"
   ]
  },
  {
   "cell_type": "code",
   "execution_count": 100,
   "id": "de91f59f-f108-4406-8c9c-b6d4785ad724",
   "metadata": {},
   "outputs": [
    {
     "name": "stdout",
     "output_type": "stream",
     "text": [
      "0\n",
      "1\n"
     ]
    }
   ],
   "source": [
    "print(ma_clio.vitesse)\n",
    "\n",
    "ma_clio.accelerer()\n",
    "\n",
    "print(ma_clio.vitesse)"
   ]
  },
  {
   "cell_type": "code",
   "execution_count": 101,
   "id": "1a4b3e7e-ac94-4332-804d-ab8a7681047a",
   "metadata": {},
   "outputs": [
    {
     "name": "stdout",
     "output_type": "stream",
     "text": [
      "<bound method Voiture.accelerer of <__main__.Voiture object at 0x7fb2c8d17910>>\n"
     ]
    }
   ],
   "source": [
    "print(ma_clio.accelerer)"
   ]
  },
  {
   "cell_type": "code",
   "execution_count": 105,
   "id": "84390da0-c4a8-4acd-b9ae-335b6916954e",
   "metadata": {},
   "outputs": [],
   "source": [
    "class Voiture:\n",
    "    marque: str\n",
    "    modele: str\n",
    "    vitesse: int\n",
    "    \n",
    "    def __init__(self, marque: str, modele: str):\n",
    "        self.marque = marque\n",
    "        self.modele = modele\n",
    "        self.vitesse = 0\n",
    "    \n",
    "    def klaxonner(self) -> str:\n",
    "        print(self)\n",
    "        return 'Tuuuut!'\n",
    "    \n",
    "    def accelerer(self):\n",
    "        self.vitesse += 1"
   ]
  },
  {
   "cell_type": "code",
   "execution_count": 106,
   "id": "8029da7d-6a08-47fa-a9e8-d6fa92e06def",
   "metadata": {},
   "outputs": [],
   "source": [
    "ma_clio = Voiture('Renault', 'Clio')"
   ]
  },
  {
   "cell_type": "code",
   "execution_count": 107,
   "id": "a5510194-52d0-4711-81b2-cd6e0247b247",
   "metadata": {},
   "outputs": [
    {
     "name": "stdout",
     "output_type": "stream",
     "text": [
      "Clio\n"
     ]
    }
   ],
   "source": [
    "print(ma_clio.modele)"
   ]
  },
  {
   "cell_type": "code",
   "execution_count": 108,
   "id": "15608c12-0ee7-48f8-b13e-b50aa83548ba",
   "metadata": {},
   "outputs": [
    {
     "name": "stdout",
     "output_type": "stream",
     "text": [
      "['__annotations__', '__class__', '__delattr__', '__dict__', '__dir__', '__doc__', '__eq__', '__format__', '__ge__', '__getattribute__', '__gt__', '__hash__', '__init__', '__init_subclass__', '__le__', '__lt__', '__module__', '__ne__', '__new__', '__reduce__', '__reduce_ex__', '__repr__', '__setattr__', '__sizeof__', '__str__', '__subclasshook__', '__weakref__', 'accelerer', 'klaxonner', 'marque', 'modele', 'vitesse']\n"
     ]
    }
   ],
   "source": [
    "print(dir(ma_clio))"
   ]
  },
  {
   "cell_type": "code",
   "execution_count": 109,
   "id": "75b6b41e-8200-48d3-a82f-7492749fcf42",
   "metadata": {},
   "outputs": [
    {
     "name": "stdout",
     "output_type": "stream",
     "text": [
      "<__main__.Voiture object at 0x7fb2b9fcfc40>\n"
     ]
    }
   ],
   "source": [
    "print(ma_clio)"
   ]
  },
  {
   "cell_type": "code",
   "execution_count": 110,
   "id": "dcbfce44-3d72-4022-96f6-9acc975c5cb6",
   "metadata": {},
   "outputs": [],
   "source": [
    "s_clio = str(ma_clio)"
   ]
  },
  {
   "cell_type": "code",
   "execution_count": 113,
   "id": "291ba5c0-f7ed-43a2-9dd0-21f63d8e2df4",
   "metadata": {},
   "outputs": [
    {
     "name": "stdout",
     "output_type": "stream",
     "text": [
      "'<__main__.Voiture object at 0x7fb2b9fcfc40>'\n"
     ]
    }
   ],
   "source": [
    "print(repr(s_clio))"
   ]
  },
  {
   "cell_type": "code",
   "execution_count": 114,
   "id": "7d8552fb-2856-418d-b7a8-f997b58feddc",
   "metadata": {},
   "outputs": [
    {
     "name": "stdout",
     "output_type": "stream",
     "text": [
      "test\n",
      "'test'\n"
     ]
    }
   ],
   "source": [
    "s = 'test'\n",
    "print(s)\n",
    "print(repr(s))"
   ]
  },
  {
   "cell_type": "code",
   "execution_count": 115,
   "id": "327efe20-9d3c-4bfb-941a-18554735bebc",
   "metadata": {},
   "outputs": [
    {
     "name": "stdout",
     "output_type": "stream",
     "text": [
      "'<__main__.Voiture object at 0x7fb2b9fcfc40>'\n"
     ]
    }
   ],
   "source": [
    "print(repr(ma_clio.__str__()))"
   ]
  },
  {
   "cell_type": "code",
   "execution_count": 124,
   "id": "96efee0b-5caf-4ffd-9516-6c3555e0a15f",
   "metadata": {},
   "outputs": [],
   "source": [
    "class Voiture:\n",
    "    marque: str\n",
    "    modele: str\n",
    "    vitesse: int\n",
    "    \n",
    "    def __init__(self, marque: str, modele: str):\n",
    "        self.marque = marque\n",
    "        self.modele = modele\n",
    "        self.vitesse = 0\n",
    "        \n",
    "    def __str__(self) -> str:\n",
    "        return f'Voiture {self.marque} {self.modele}'\n",
    "    \n",
    "    def __int__(self) -> int:\n",
    "        return 42\n",
    "    \n",
    "    def __bool__(self) -> bool:\n",
    "        return self.vitesse != 0\n",
    "    \n",
    "    def klaxonner(self) -> str:\n",
    "        print(self)\n",
    "        return 'Tuuuut!'\n",
    "    \n",
    "    def accelerer(self):\n",
    "        self.vitesse += 1"
   ]
  },
  {
   "cell_type": "code",
   "execution_count": 125,
   "id": "5abf36b8-1158-4040-92a2-ff176923b4af",
   "metadata": {},
   "outputs": [],
   "source": [
    "ma_clio = Voiture('Renault', 'Clio')"
   ]
  },
  {
   "cell_type": "code",
   "execution_count": 126,
   "id": "64b7fa14-d4b7-46f8-afbf-54ec944b9bab",
   "metadata": {},
   "outputs": [
    {
     "name": "stdout",
     "output_type": "stream",
     "text": [
      "Voiture Renault Clio\n"
     ]
    }
   ],
   "source": [
    "print(ma_clio)  # str(ma_clio)  -->  ma_clio.__str__()"
   ]
  },
  {
   "cell_type": "code",
   "execution_count": 127,
   "id": "ada04ab2-b046-4bc6-b5ca-8790e21c324c",
   "metadata": {},
   "outputs": [
    {
     "name": "stdout",
     "output_type": "stream",
     "text": [
      "42\n"
     ]
    }
   ],
   "source": [
    "print(int(ma_clio))"
   ]
  },
  {
   "cell_type": "code",
   "execution_count": 128,
   "id": "13907b0c-e3b7-4972-9165-b3f97d92e3ff",
   "metadata": {},
   "outputs": [
    {
     "name": "stdout",
     "output_type": "stream",
     "text": [
      "Voiture Renault Clio est à l'arrêt\n"
     ]
    }
   ],
   "source": [
    "if ma_clio:\n",
    "    print(f'{ma_clio} roule')\n",
    "else:\n",
    "    print(f'{ma_clio} est à l\\'arrêt')"
   ]
  },
  {
   "cell_type": "code",
   "execution_count": 129,
   "id": "9fb96c8c-51bf-4cc5-8991-b9444daee0ab",
   "metadata": {},
   "outputs": [],
   "source": [
    "ma_clio.accelerer()"
   ]
  },
  {
   "cell_type": "code",
   "execution_count": 130,
   "id": "e532b129-db29-49b5-93e1-49bc2cf3167c",
   "metadata": {},
   "outputs": [
    {
     "name": "stdout",
     "output_type": "stream",
     "text": [
      "Voiture Renault Clio roule\n"
     ]
    }
   ],
   "source": [
    "if ma_clio:\n",
    "    print(f'{ma_clio} roule')\n",
    "else:\n",
    "    print(f'{ma_clio} est à l\\'arrêt')"
   ]
  },
  {
   "cell_type": "code",
   "execution_count": 131,
   "id": "a098d572-a16e-4c59-b178-bea15e16c55a",
   "metadata": {},
   "outputs": [],
   "source": [
    "ma_206 = Voiture('Peugeot', '206')"
   ]
  },
  {
   "cell_type": "code",
   "execution_count": 132,
   "id": "4d696549-2d9c-4dc2-b345-26494d8a75a4",
   "metadata": {},
   "outputs": [
    {
     "name": "stderr",
     "output_type": "stream",
     "text": [
      "<cell>1: error: Unsupported left operand type for + (\"Voiture\")\n"
     ]
    },
    {
     "ename": "TypeError",
     "evalue": "unsupported operand type(s) for +: 'Voiture' and 'Voiture'",
     "output_type": "error",
     "traceback": [
      "\u001b[0;31m---------------------------------------------------------------------------\u001b[0m",
      "\u001b[0;31mTypeError\u001b[0m                                 Traceback (most recent call last)",
      "Input \u001b[0;32mIn [132]\u001b[0m, in \u001b[0;36m<cell line: 1>\u001b[0;34m()\u001b[0m\n\u001b[0;32m----> 1\u001b[0m \u001b[38;5;28mprint\u001b[39m(\u001b[43mma_clio\u001b[49m\u001b[43m \u001b[49m\u001b[38;5;241;43m+\u001b[39;49m\u001b[43m \u001b[49m\u001b[43mma_206\u001b[49m)\n",
      "\u001b[0;31mTypeError\u001b[0m: unsupported operand type(s) for +: 'Voiture' and 'Voiture'"
     ]
    }
   ],
   "source": [
    "print(ma_clio + ma_206)"
   ]
  },
  {
   "cell_type": "code",
   "execution_count": 185,
   "id": "b894187d-5a2d-462e-b73d-c96d5681226e",
   "metadata": {},
   "outputs": [
    {
     "name": "stderr",
     "output_type": "stream",
     "text": [
      "<cell>44: error: Argument 1 of \"__eq__\" is incompatible with supertype \"object\"; supertype defines the argument type as \"object\"\n",
      "<cell>44: note: This violates the Liskov substitution principle\n",
      "<cell>44: note: See https://mypy.readthedocs.io/en/stable/common_issues.html#incompatible-overrides\n",
      "<cell>44: note: It is recommended for \"__eq__\" to work with arbitrary objects, for example:\n",
      "<cell>44: note:     def __eq__(self, other: object) -> bool:\n",
      "<cell>44: note:         if not isinstance(other, Voiture):\n",
      "<cell>44: note:             return NotImplemented\n",
      "<cell>44: note:         return <logic to compare two Voiture instances>\n",
      "<cell>47: error: Argument 1 of \"__ne__\" is incompatible with supertype \"object\"; supertype defines the argument type as \"object\"\n",
      "<cell>47: note: This violates the Liskov substitution principle\n",
      "<cell>47: note: See https://mypy.readthedocs.io/en/stable/common_issues.html#incompatible-overrides\n"
     ]
    }
   ],
   "source": [
    "# del Voiture\n",
    "\n",
    "\n",
    "class Voiture:\n",
    "    marque: str\n",
    "    modele: str\n",
    "    vitesse: int\n",
    "    \n",
    "    def __init__(self, marque: str, modele: str):\n",
    "        self.marque = marque\n",
    "        self.modele = modele\n",
    "        self.vitesse = 0\n",
    "        \n",
    "    def __str__(self) -> str:\n",
    "        return f'Voiture {self.marque} {self.modele}'\n",
    "    \n",
    "    def __repr__(self) -> str:\n",
    "        return f'<{type(self).__name__} object: {self}>'\n",
    "    \n",
    "    def __int__(self) -> int:\n",
    "        return 42\n",
    "    \n",
    "    def __bool__(self) -> bool:\n",
    "        return self.vitesse != 0\n",
    "    \n",
    "    def __add__(self, other: 'Voiture|int') -> int:\n",
    "        if isinstance(other, Voiture):\n",
    "            return self.vitesse + other.vitesse\n",
    "        else:\n",
    "            return -1\n",
    "        \n",
    "    def __gt__(self, other: 'Voiture') -> bool:\n",
    "        return self.vitesse > other.vitesse\n",
    "        \n",
    "    def __lt__(self, other: 'Voiture') -> bool:\n",
    "        return self.vitesse < other.vitesse\n",
    "        \n",
    "    def __ge__(self, other: 'Voiture') -> bool:\n",
    "        return self.vitesse >= other.vitesse\n",
    "        \n",
    "    def __le__(self, other: 'Voiture') -> bool:\n",
    "        return self.vitesse <= other.vitesse\n",
    "        \n",
    "    def __eq__(self, other: 'Voiture') -> bool:\n",
    "        return self.vitesse == other.vitesse\n",
    "        \n",
    "    def __ne__(self, other: 'Voiture') -> bool:\n",
    "        return self.vitesse != other.vitesse\n",
    "    \n",
    "    def klaxonner(self) -> str:\n",
    "        print(self)\n",
    "        return 'Tuuuut!'\n",
    "    \n",
    "    def accelerer(self):\n",
    "        self.vitesse += 1"
   ]
  },
  {
   "cell_type": "code",
   "execution_count": 186,
   "id": "00b0849f-d6b7-4b45-a05a-81de55b279c9",
   "metadata": {},
   "outputs": [],
   "source": [
    "ma_clio = Voiture('Renault', 'Clio')\n",
    "ma_clio.accelerer()"
   ]
  },
  {
   "cell_type": "code",
   "execution_count": 187,
   "id": "4020c287-1f36-4851-ad66-cbd295df6823",
   "metadata": {},
   "outputs": [],
   "source": [
    "ma_206 = Voiture('Peugeot', '206')\n",
    "for _ in range(10):\n",
    "    ma_206.accelerer()"
   ]
  },
  {
   "cell_type": "code",
   "execution_count": 188,
   "id": "238d912d-067f-469f-b836-55670b2952e6",
   "metadata": {},
   "outputs": [
    {
     "name": "stdout",
     "output_type": "stream",
     "text": [
      "11\n"
     ]
    }
   ],
   "source": [
    "print(ma_clio + ma_206)  # ma_clio.__add__(ma_206)"
   ]
  },
  {
   "cell_type": "code",
   "execution_count": 189,
   "id": "c0758c36-a156-489f-94ce-7bad77515ed0",
   "metadata": {},
   "outputs": [
    {
     "name": "stdout",
     "output_type": "stream",
     "text": [
      "-1\n"
     ]
    }
   ],
   "source": [
    "print(ma_clio + 'test')"
   ]
  },
  {
   "cell_type": "code",
   "execution_count": 190,
   "id": "db94c77f-f50a-417b-bfc8-363fc57581e2",
   "metadata": {},
   "outputs": [
    {
     "name": "stdout",
     "output_type": "stream",
     "text": [
      "False\n"
     ]
    }
   ],
   "source": [
    "print(ma_clio > ma_206)"
   ]
  },
  {
   "cell_type": "code",
   "execution_count": 191,
   "id": "c9dbfbd0-8d9e-48b1-a2b0-103575042631",
   "metadata": {},
   "outputs": [
    {
     "name": "stdout",
     "output_type": "stream",
     "text": [
      "[<Voiture object: Voiture Peugeot 206>, <Voiture object: Voiture Renault Clio>]\n"
     ]
    }
   ],
   "source": [
    "print(sorted([ma_clio, ma_206], reverse=True))"
   ]
  },
  {
   "cell_type": "code",
   "execution_count": 192,
   "id": "629778eb-945d-4169-8563-9a1c78bf8f21",
   "metadata": {},
   "outputs": [],
   "source": [
    "\n",
    "# class list:\n",
    "def __str__(self) -> str:\n",
    "    content = ''\n",
    "    for i in self:\n",
    "        content += repr(i) + ', '\n",
    "    return f'[{content}]'"
   ]
  },
  {
   "cell_type": "code",
   "execution_count": 193,
   "id": "e56322d0-7b75-40c5-8f1a-d1977e92b903",
   "metadata": {},
   "outputs": [],
   "source": [
    "l = ['a', 'b', 'c']"
   ]
  },
  {
   "cell_type": "code",
   "execution_count": 194,
   "id": "53771e58-5d87-40c9-bee1-d5701d48a1e8",
   "metadata": {},
   "outputs": [
    {
     "data": {
      "text/plain": [
       "\"['a', 'b', 'c', ]\""
      ]
     },
     "execution_count": 194,
     "metadata": {},
     "output_type": "execute_result"
    }
   ],
   "source": [
    "__str__(l)"
   ]
  },
  {
   "cell_type": "code",
   "execution_count": 195,
   "id": "f9a2111a-daee-4e7f-b946-52ce8845d017",
   "metadata": {},
   "outputs": [
    {
     "ename": "AttributeError",
     "evalue": "'Voiture' object has no attribute 'bla'",
     "output_type": "error",
     "traceback": [
      "\u001b[0;31m---------------------------------------------------------------------------\u001b[0m",
      "\u001b[0;31mAttributeError\u001b[0m                            Traceback (most recent call last)",
      "Input \u001b[0;32mIn [195]\u001b[0m, in \u001b[0;36m<cell line: 1>\u001b[0;34m()\u001b[0m\n\u001b[0;32m----> 1\u001b[0m \u001b[38;5;28mprint\u001b[39m(\u001b[43mma_clio\u001b[49m\u001b[38;5;241;43m.\u001b[39;49m\u001b[43mbla\u001b[49m)\n",
      "\u001b[0;31mAttributeError\u001b[0m: 'Voiture' object has no attribute 'bla'"
     ]
    }
   ],
   "source": [
    "print(ma_clio.bla)"
   ]
  },
  {
   "cell_type": "code",
   "execution_count": 196,
   "id": "411079b0-e4d3-4a0e-83a8-704203e5787a",
   "metadata": {},
   "outputs": [
    {
     "ename": "TypeError",
     "evalue": "'Voiture' object is not callable",
     "output_type": "error",
     "traceback": [
      "\u001b[0;31m---------------------------------------------------------------------------\u001b[0m",
      "\u001b[0;31mTypeError\u001b[0m                                 Traceback (most recent call last)",
      "Input \u001b[0;32mIn [196]\u001b[0m, in \u001b[0;36m<cell line: 1>\u001b[0;34m()\u001b[0m\n\u001b[0;32m----> 1\u001b[0m \u001b[38;5;28mprint\u001b[39m(\u001b[43mma_clio\u001b[49m\u001b[43m(\u001b[49m\u001b[43m)\u001b[49m)\n",
      "\u001b[0;31mTypeError\u001b[0m: 'Voiture' object is not callable"
     ]
    }
   ],
   "source": [
    "print(ma_clio())"
   ]
  },
  {
   "cell_type": "code",
   "execution_count": 197,
   "id": "1f2e2f0b-d153-4bf9-b17c-adeda4bb65cf",
   "metadata": {},
   "outputs": [
    {
     "ename": "TypeError",
     "evalue": "'Voiture' object is not iterable",
     "output_type": "error",
     "traceback": [
      "\u001b[0;31m---------------------------------------------------------------------------\u001b[0m",
      "\u001b[0;31mTypeError\u001b[0m                                 Traceback (most recent call last)",
      "Input \u001b[0;32mIn [197]\u001b[0m, in \u001b[0;36m<cell line: 1>\u001b[0;34m()\u001b[0m\n\u001b[0;32m----> 1\u001b[0m \u001b[38;5;28;01mfor\u001b[39;00m bidule \u001b[38;5;129;01min\u001b[39;00m ma_clio:\n\u001b[1;32m      2\u001b[0m     \u001b[38;5;28mprint\u001b[39m(bidule)\n",
      "\u001b[0;31mTypeError\u001b[0m: 'Voiture' object is not iterable"
     ]
    }
   ],
   "source": [
    "for bidule in ma_clio:\n",
    "    print(bidule)"
   ]
  },
  {
   "cell_type": "code",
   "execution_count": 198,
   "id": "eaa101f4-b0a7-41d7-8f5f-11c4c32c7c0f",
   "metadata": {},
   "outputs": [
    {
     "name": "stdout",
     "output_type": "stream",
     "text": [
      "False\n"
     ]
    }
   ],
   "source": [
    "print(callable(ma_clio))"
   ]
  },
  {
   "cell_type": "code",
   "execution_count": 199,
   "id": "cc9af5f4-5fd9-4894-9775-9ed35b8a7c45",
   "metadata": {},
   "outputs": [],
   "source": [
    "class MyClass:\n",
    "    \n",
    "    def __call__(self, arg) -> int:\n",
    "        print(f'call to {self}({arg})')\n",
    "        return 1"
   ]
  },
  {
   "cell_type": "code",
   "execution_count": 200,
   "id": "4c07b9b3-b941-432b-a518-8ac58d25ee7e",
   "metadata": {},
   "outputs": [],
   "source": [
    "my_obj = MyClass()"
   ]
  },
  {
   "cell_type": "code",
   "execution_count": 201,
   "id": "f4170735-367a-42ab-845d-ae7e62e31428",
   "metadata": {},
   "outputs": [
    {
     "name": "stdout",
     "output_type": "stream",
     "text": [
      "True\n"
     ]
    }
   ],
   "source": [
    "print(callable(my_obj))"
   ]
  },
  {
   "cell_type": "code",
   "execution_count": 203,
   "id": "4f86975b-cf53-400c-b5ef-7f54fb693b0c",
   "metadata": {},
   "outputs": [
    {
     "name": "stdout",
     "output_type": "stream",
     "text": [
      "call to <__main__.MyClass object at 0x7fb2b397a290>(test)\n",
      "1\n"
     ]
    }
   ],
   "source": [
    "print(my_obj('test'))"
   ]
  }
 ],
 "metadata": {
  "kernelspec": {
   "display_name": "Python 3 (ipykernel)",
   "language": "python",
   "name": "python3"
  },
  "language_info": {
   "codemirror_mode": {
    "name": "ipython",
    "version": 3
   },
   "file_extension": ".py",
   "mimetype": "text/x-python",
   "name": "python",
   "nbconvert_exporter": "python",
   "pygments_lexer": "ipython3",
   "version": "3.10.4"
  }
 },
 "nbformat": 4,
 "nbformat_minor": 5
}
