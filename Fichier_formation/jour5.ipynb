{
 "cells": [
  {
   "cell_type": "code",
   "execution_count": 5,
   "id": "50403c91-9722-4fd9-9299-90fb96aadf1e",
   "metadata": {},
   "outputs": [],
   "source": [
    "class MyContextManager:\n",
    "    \n",
    "    def __enter__(self):\n",
    "        print('  * entrée dans le context manager')\n",
    "        return 'test'\n",
    "        \n",
    "    def __exit__(self, exc_type=None, exc_value=None, tb=None):\n",
    "        print('  * sortie du context manager')\n",
    "        print(f'  * exc_type = {exc_type}')\n",
    "        print(f'  * exc_value = {exc_value}')\n",
    "        print(f'  * tb = {tb}')"
   ]
  },
  {
   "cell_type": "code",
   "execution_count": 8,
   "id": "4c8d1a12-2e1b-4432-93fd-91df4268e69d",
   "metadata": {},
   "outputs": [
    {
     "name": "stdout",
     "output_type": "stream",
     "text": [
      "avant contexte\n",
      "context manager = <__main__.MyContextManager object at 0x7f1a485ff250>\n",
      "  * entrée dans le context manager\n",
      "dans le context manager\n",
      "value = test\n",
      "  * sortie du context manager\n",
      "  * exc_type = None\n",
      "  * exc_value = None\n",
      "  * tb = None\n",
      "après le context manager\n"
     ]
    }
   ],
   "source": [
    "print('avant contexte')\n",
    "\n",
    "cm = MyContextManager()\n",
    "\n",
    "print(f'context manager = {cm}')\n",
    "\n",
    "with cm as value:  # cm.__enter__()\n",
    "    print('dans le context manager')\n",
    "    print(f'value = {value}')\n",
    "# cm.__exit()\n",
    "print('après le context manager')"
   ]
  },
  {
   "cell_type": "code",
   "execution_count": 9,
   "id": "05d796d0-d6e6-4a72-871b-31569d6da2ca",
   "metadata": {},
   "outputs": [
    {
     "name": "stdout",
     "output_type": "stream",
     "text": [
      "avant contexte\n",
      "context manager = <__main__.MyContextManager object at 0x7f1a485ffc40>\n",
      "  * entrée dans le context manager\n",
      "dans le context manager\n",
      "  * sortie du context manager\n",
      "  * exc_type = <class 'Exception'>\n",
      "  * exc_value = Boom!\n",
      "  * tb = <traceback object at 0x7f1a48638340>\n"
     ]
    },
    {
     "ename": "Exception",
     "evalue": "Boom!",
     "output_type": "error",
     "traceback": [
      "\u001b[0;31m---------------------------------------------------------------------------\u001b[0m",
      "\u001b[0;31mException\u001b[0m                                 Traceback (most recent call last)",
      "Input \u001b[0;32mIn [9]\u001b[0m, in \u001b[0;36m<cell line: 7>\u001b[0;34m()\u001b[0m\n\u001b[1;32m      7\u001b[0m \u001b[38;5;28;01mwith\u001b[39;00m cm:\n\u001b[1;32m      8\u001b[0m     \u001b[38;5;28mprint\u001b[39m(\u001b[38;5;124m'\u001b[39m\u001b[38;5;124mdans le context manager\u001b[39m\u001b[38;5;124m'\u001b[39m)\n\u001b[0;32m----> 9\u001b[0m     \u001b[38;5;28;01mraise\u001b[39;00m \u001b[38;5;167;01mException\u001b[39;00m(\u001b[38;5;124m'\u001b[39m\u001b[38;5;124mBoom!\u001b[39m\u001b[38;5;124m'\u001b[39m)\n\u001b[1;32m     11\u001b[0m \u001b[38;5;28mprint\u001b[39m(\u001b[38;5;124m'\u001b[39m\u001b[38;5;124maprès le context manager\u001b[39m\u001b[38;5;124m'\u001b[39m)\n",
      "\u001b[0;31mException\u001b[0m: Boom!"
     ]
    }
   ],
   "source": [
    "print('avant contexte')\n",
    "\n",
    "cm = MyContextManager()\n",
    "\n",
    "print(f'context manager = {cm}')\n",
    "\n",
    "with cm:\n",
    "    print('dans le context manager')\n",
    "    raise Exception('Boom!')\n",
    "    \n",
    "print('après le context manager')"
   ]
  },
  {
   "cell_type": "code",
   "execution_count": 10,
   "id": "fe15751d-58c4-489d-8163-88b5874e77b0",
   "metadata": {},
   "outputs": [],
   "source": [
    "from datetime import datetime\n",
    "import locale"
   ]
  },
  {
   "cell_type": "code",
   "execution_count": 11,
   "id": "c7adddf5-0d59-41b8-8af4-70a4d48acdef",
   "metadata": {},
   "outputs": [],
   "source": [
    "now = datetime.now()"
   ]
  },
  {
   "cell_type": "code",
   "execution_count": 12,
   "id": "08e8dacf-a672-48dd-abec-ca5c775a1546",
   "metadata": {},
   "outputs": [
    {
     "name": "stdout",
     "output_type": "stream",
     "text": [
      "2022-10-07 10:11:48.458625\n"
     ]
    }
   ],
   "source": [
    "print(now)"
   ]
  },
  {
   "cell_type": "code",
   "execution_count": 14,
   "id": "27709eb5-f1ab-4484-bbab-255d3558b59a",
   "metadata": {},
   "outputs": [
    {
     "name": "stdout",
     "output_type": "stream",
     "text": [
      "07/10/2022\n"
     ]
    }
   ],
   "source": [
    "print(now.strftime('%d/%m/%Y'))"
   ]
  },
  {
   "cell_type": "code",
   "execution_count": 18,
   "id": "53020a9a-bce6-4e9f-b11f-f57f0fbaa3bf",
   "metadata": {},
   "outputs": [
    {
     "name": "stdout",
     "output_type": "stream",
     "text": [
      "Friday, October 07th 2022\n"
     ]
    }
   ],
   "source": [
    "print(now.strftime('%A, %B %dth %Y'))"
   ]
  },
  {
   "cell_type": "code",
   "execution_count": 19,
   "id": "e8e6a98c-609d-4c02-85ba-847706f8d871",
   "metadata": {},
   "outputs": [
    {
     "data": {
      "text/plain": [
       "'fr_FR.UTF-8'"
      ]
     },
     "execution_count": 19,
     "metadata": {},
     "output_type": "execute_result"
    }
   ],
   "source": [
    "locale.setlocale(locale.LC_TIME, 'fr_FR.UTF-8')"
   ]
  },
  {
   "cell_type": "code",
   "execution_count": 21,
   "id": "27f4aa0a-bf3f-446f-8372-a6d6573348d8",
   "metadata": {},
   "outputs": [
    {
     "name": "stdout",
     "output_type": "stream",
     "text": [
      "vendredi 07 octobre 2022\n"
     ]
    }
   ],
   "source": [
    "print(now.strftime('%A %d %B %Y'))"
   ]
  },
  {
   "cell_type": "code",
   "execution_count": 22,
   "id": "b922e55a-41aa-4e7c-a52d-079319b1150e",
   "metadata": {},
   "outputs": [
    {
     "data": {
      "text/plain": [
       "'en_US.UTF-8'"
      ]
     },
     "execution_count": 22,
     "metadata": {},
     "output_type": "execute_result"
    }
   ],
   "source": [
    "locale.setlocale(locale.LC_TIME, 'en_US.UTF-8')"
   ]
  },
  {
   "cell_type": "code",
   "execution_count": 25,
   "id": "b18d0c03-4eb8-454b-9824-4d25a4841d2b",
   "metadata": {},
   "outputs": [],
   "source": [
    "from typing import Optional\n",
    "\n",
    "class ChangeLocale:\n",
    "    \n",
    "    old_locale: Optional[str]\n",
    "    new_locale: str\n",
    "    \n",
    "    def __init__(self, new_locale: str):\n",
    "        self.new_locale = new_locale\n",
    "        self.old_locale = None\n",
    "    \n",
    "    def __enter__(self):\n",
    "        self.old_locale = locale.getlocale(locale.LC_TIME)\n",
    "        locale.setlocale(locale.LC_TIME, self.new_locale)\n",
    "    \n",
    "    def __exit__(self, exc_type=None, exc_value=None, tb=None):\n",
    "        locale.setlocale(locale.LC_TIME, self.old_locale)"
   ]
  },
  {
   "cell_type": "code",
   "execution_count": 27,
   "id": "308acda3-d37e-4ef0-baf9-3b9a1d7c5899",
   "metadata": {},
   "outputs": [
    {
     "name": "stdout",
     "output_type": "stream",
     "text": [
      "Friday\n",
      "vendredi\n"
     ]
    },
    {
     "ename": "Exception",
     "evalue": "test",
     "output_type": "error",
     "traceback": [
      "\u001b[0;31m---------------------------------------------------------------------------\u001b[0m",
      "\u001b[0;31mException\u001b[0m                                 Traceback (most recent call last)",
      "Input \u001b[0;32mIn [27]\u001b[0m, in \u001b[0;36m<cell line: 3>\u001b[0;34m()\u001b[0m\n\u001b[1;32m      3\u001b[0m \u001b[38;5;28;01mwith\u001b[39;00m ChangeLocale(\u001b[38;5;124m'\u001b[39m\u001b[38;5;124mfr_FR.UTF-8\u001b[39m\u001b[38;5;124m'\u001b[39m):\n\u001b[1;32m      4\u001b[0m     \u001b[38;5;28mprint\u001b[39m(now\u001b[38;5;241m.\u001b[39mstrftime(\u001b[38;5;124m'\u001b[39m\u001b[38;5;124m%\u001b[39m\u001b[38;5;124mA\u001b[39m\u001b[38;5;124m'\u001b[39m))\n\u001b[0;32m----> 5\u001b[0m     \u001b[38;5;28;01mraise\u001b[39;00m \u001b[38;5;167;01mException\u001b[39;00m(\u001b[38;5;124m'\u001b[39m\u001b[38;5;124mtest\u001b[39m\u001b[38;5;124m'\u001b[39m)\n\u001b[1;32m      7\u001b[0m \u001b[38;5;28mprint\u001b[39m(now\u001b[38;5;241m.\u001b[39mstrftime(\u001b[38;5;124m'\u001b[39m\u001b[38;5;124m%\u001b[39m\u001b[38;5;124mA\u001b[39m\u001b[38;5;124m'\u001b[39m))\n",
      "\u001b[0;31mException\u001b[0m: test"
     ]
    }
   ],
   "source": [
    "print(now.strftime('%A'))\n",
    "\n",
    "with ChangeLocale('fr_FR.UTF-8'):\n",
    "    print(now.strftime('%A'))\n",
    "    raise Exception('test')\n",
    "    \n",
    "print(now.strftime('%A'))"
   ]
  },
  {
   "cell_type": "code",
   "execution_count": 28,
   "id": "a2f00a2f-0785-4337-9491-95d699a70373",
   "metadata": {},
   "outputs": [
    {
     "name": "stdout",
     "output_type": "stream",
     "text": [
      "Friday\n"
     ]
    }
   ],
   "source": [
    "print(now.strftime('%A'))"
   ]
  },
  {
   "cell_type": "code",
   "execution_count": 29,
   "id": "d26f0b5a-bf67-42fc-93d7-028f2b695da6",
   "metadata": {},
   "outputs": [
    {
     "name": "stdout",
     "output_type": "stream",
     "text": [
      "test\n"
     ]
    }
   ],
   "source": [
    "val = None\n",
    "\n",
    "print(val or 'test')"
   ]
  },
  {
   "cell_type": "code",
   "execution_count": 30,
   "id": "3187d32c-6edc-4a2e-bdf0-c9392c1c3a31",
   "metadata": {},
   "outputs": [
    {
     "name": "stdout",
     "output_type": "stream",
     "text": [
      "yes\n"
     ]
    }
   ],
   "source": [
    "val = 'yes'\n",
    "\n",
    "print(val or 'None')"
   ]
  },
  {
   "cell_type": "code",
   "execution_count": 31,
   "id": "460288a6-e98d-414b-a4e0-c52056a2a9df",
   "metadata": {},
   "outputs": [],
   "source": [
    "d = {'a': 1, 'b': None, 'c': True}"
   ]
  },
  {
   "cell_type": "code",
   "execution_count": 33,
   "id": "aa08c2f6-9a28-4582-8fc8-1b3d5b9f8e81",
   "metadata": {},
   "outputs": [
    {
     "name": "stdout",
     "output_type": "stream",
     "text": [
      "{'a': 1, 'c': True}\n"
     ]
    }
   ],
   "source": [
    "d2 = dict(filter(lambda i: i[1], d.items()))\n",
    "\n",
    "print(d2)"
   ]
  },
  {
   "cell_type": "code",
   "execution_count": 36,
   "id": "f958729c-931f-46b3-89a4-4ca351ea1b29",
   "metadata": {},
   "outputs": [
    {
     "name": "stdout",
     "output_type": "stream",
     "text": [
      "{'a': 1, 'b': '', 'c': True}\n"
     ]
    }
   ],
   "source": [
    "d3 = dict(map(lambda i: i if i[1] is not None else (i[0], ''),\n",
    "              d.items()))\n",
    "\n",
    "print(d3)"
   ]
  },
  {
   "cell_type": "code",
   "execution_count": 37,
   "id": "7b90f678-cc53-4210-a9b5-fff176e53461",
   "metadata": {},
   "outputs": [
    {
     "name": "stdout",
     "output_type": "stream",
     "text": [
      "{'a': 1, 'b': '', 'c': True}\n"
     ]
    }
   ],
   "source": [
    "d3 = {k: v if v is not None else '' for k, v in d.items()}\n",
    "\n",
    "print(d3)"
   ]
  },
  {
   "cell_type": "code",
   "execution_count": 38,
   "id": "c8b7b57f-1f03-4cd1-b1ca-1f0de1e4408e",
   "metadata": {},
   "outputs": [
    {
     "name": "stdout",
     "output_type": "stream",
     "text": [
      "Help on built-in function any in module builtins:\n",
      "\n",
      "any(iterable, /)\n",
      "    Return True if bool(x) is True for any x in the iterable.\n",
      "    \n",
      "    If the iterable is empty, return False.\n",
      "\n"
     ]
    }
   ],
   "source": [
    "help(any)"
   ]
  },
  {
   "cell_type": "code",
   "execution_count": 39,
   "id": "5a50bfc4-a15a-49bf-9506-7e8ddbc38815",
   "metadata": {},
   "outputs": [
    {
     "name": "stdout",
     "output_type": "stream",
     "text": [
      "Help on built-in function all in module builtins:\n",
      "\n",
      "all(iterable, /)\n",
      "    Return True if bool(x) is True for all values x in the iterable.\n",
      "    \n",
      "    If the iterable is empty, return True.\n",
      "\n"
     ]
    }
   ],
   "source": [
    "help(all)"
   ]
  },
  {
   "cell_type": "code",
   "execution_count": 40,
   "id": "90ed2af4-4b57-4be4-8550-6dbc5c2a6d68",
   "metadata": {},
   "outputs": [],
   "source": [
    "import os"
   ]
  },
  {
   "cell_type": "code",
   "execution_count": 41,
   "id": "5e9d2bc8-f15a-4727-8124-6430b637713c",
   "metadata": {},
   "outputs": [
    {
     "name": "stdout",
     "output_type": "stream",
     "text": [
      "['jour4.ipynb', 'modelisation.png', 'jour5.ipynb', 'gestion_notes_v0.1.zip', 'jour1.ipynb', 'modelisation.dia', 'jour2.ipynb', 'jour3.ipynb', '.ipynb_checkpoints', '.mypy_cache']\n"
     ]
    }
   ],
   "source": [
    "print(os.listdir())"
   ]
  },
  {
   "cell_type": "code",
   "execution_count": 42,
   "id": "fc2e982e-a874-4f81-934a-4b7b9369c069",
   "metadata": {},
   "outputs": [
    {
     "name": "stdout",
     "output_type": "stream",
     "text": [
      "False\n"
     ]
    }
   ],
   "source": [
    "print(os.path.isdir('jour2.ipynb'))"
   ]
  },
  {
   "cell_type": "code",
   "execution_count": 43,
   "id": "b254dc49-4d9e-465b-a22a-0f451a4dec25",
   "metadata": {},
   "outputs": [],
   "source": [
    "from pathlib import Path"
   ]
  },
  {
   "cell_type": "code",
   "execution_count": 44,
   "id": "4685d2e2-3a7d-4053-98c1-c07db78abace",
   "metadata": {},
   "outputs": [],
   "source": [
    "p = Path()"
   ]
  },
  {
   "cell_type": "code",
   "execution_count": 46,
   "id": "7ca71f88-59c5-4367-9bac-6a9f01cc8a23",
   "metadata": {},
   "outputs": [
    {
     "name": "stdout",
     "output_type": "stream",
     "text": [
      ".\n",
      "/home/prof/sessions/ec6\n"
     ]
    }
   ],
   "source": [
    "print(p)\n",
    "print(p.absolute())"
   ]
  },
  {
   "cell_type": "code",
   "execution_count": 47,
   "id": "1aa3166b-7552-4b0d-bfe4-cdad9dd3ddba",
   "metadata": {},
   "outputs": [
    {
     "name": "stdout",
     "output_type": "stream",
     "text": [
      "/home/prof/sessions/ec6\n"
     ]
    }
   ],
   "source": [
    "print(os.getcwd())"
   ]
  },
  {
   "cell_type": "code",
   "execution_count": 49,
   "id": "6e2a9ed3-42ae-462a-8b77-46762afaca40",
   "metadata": {},
   "outputs": [
    {
     "name": "stdout",
     "output_type": "stream",
     "text": [
      "False\n",
      "False\n"
     ]
    }
   ],
   "source": [
    "print(os.path.exists('data'))\n",
    "print(os.path.exists(os.path.join(os.getcwd(), 'data')))"
   ]
  },
  {
   "cell_type": "code",
   "execution_count": 50,
   "id": "a7a2c1a1-bffb-4a61-a720-3f1a64b54465",
   "metadata": {},
   "outputs": [
    {
     "name": "stdout",
     "output_type": "stream",
     "text": [
      "/home/prof/sessions/ec6/data\n"
     ]
    }
   ],
   "source": [
    "print(os.path.join(os.getcwd(), 'data'))"
   ]
  },
  {
   "cell_type": "code",
   "execution_count": 51,
   "id": "6406429a-2716-40d1-849d-9d6635e6d3ce",
   "metadata": {},
   "outputs": [],
   "source": [
    "p2 = p / 'data'"
   ]
  },
  {
   "cell_type": "code",
   "execution_count": 53,
   "id": "d42024c0-717d-4c12-bef9-ad201f442bd5",
   "metadata": {},
   "outputs": [
    {
     "name": "stdout",
     "output_type": "stream",
     "text": [
      "data\n",
      "/home/prof/sessions/ec6/data\n"
     ]
    }
   ],
   "source": [
    "print(p2)\n",
    "print(p2.absolute())"
   ]
  },
  {
   "cell_type": "code",
   "execution_count": 54,
   "id": "815e05f2-d09d-496e-94e4-fff7a2620cb3",
   "metadata": {},
   "outputs": [
    {
     "name": "stdout",
     "output_type": "stream",
     "text": [
      "False\n"
     ]
    }
   ],
   "source": [
    "print(p2.exists())"
   ]
  },
  {
   "cell_type": "code",
   "execution_count": 55,
   "id": "6bbb3378-4e16-4b69-8ec1-3a8f397fa4c8",
   "metadata": {},
   "outputs": [],
   "source": [
    "p2.mkdir()"
   ]
  },
  {
   "cell_type": "code",
   "execution_count": 58,
   "id": "a31bacea-4005-40a3-b5e0-14d68dbb38b8",
   "metadata": {},
   "outputs": [
    {
     "name": "stdout",
     "output_type": "stream",
     "text": [
      "True\n",
      "True\n"
     ]
    }
   ],
   "source": [
    "print(p2.exists())\n",
    "print(p2.is_dir())"
   ]
  },
  {
   "cell_type": "code",
   "execution_count": 60,
   "id": "585377c5-54cb-4655-92e4-23a3931add31",
   "metadata": {},
   "outputs": [
    {
     "name": "stdout",
     "output_type": "stream",
     "text": [
      "<_io.TextIOWrapper name='/home/prof/sessions/ec6/data/fichier.txt' mode='w' encoding='UTF-8'>\n"
     ]
    }
   ],
   "source": [
    "file = open(os.path.join(os.getcwd(), 'data', 'fichier.txt'), mode='w')\n",
    "\n",
    "print(file)\n",
    "\n",
    "file.write('Hello\\nworld')\n",
    "file.write('!')\n",
    "file.close()"
   ]
  },
  {
   "cell_type": "code",
   "execution_count": 63,
   "id": "1c4b20f0-ae80-4547-9f62-423cf92b3089",
   "metadata": {},
   "outputs": [
    {
     "name": "stdout",
     "output_type": "stream",
     "text": [
      "<Hello\n",
      ">\n",
      "<world!>\n"
     ]
    }
   ],
   "source": [
    "file = open(os.path.join(os.getcwd(), 'data', 'fichier.txt'))\n",
    "\n",
    "for line in file:\n",
    "    print(f'<{line}>')\n",
    "\n",
    "file.close()"
   ]
  },
  {
   "cell_type": "code",
   "execution_count": 64,
   "id": "fa8df8f6-472f-46f1-86d1-0991a481b497",
   "metadata": {},
   "outputs": [
    {
     "name": "stdout",
     "output_type": "stream",
     "text": [
      "Hello\n",
      "world!\n"
     ]
    }
   ],
   "source": [
    "file = open(os.path.join(os.getcwd(), 'data', 'fichier.txt'))\n",
    "\n",
    "print(file.read())\n",
    "\n",
    "file.close()"
   ]
  },
  {
   "cell_type": "code",
   "execution_count": 66,
   "id": "159a81c8-f289-4789-8f99-1b70a02b1d3c",
   "metadata": {},
   "outputs": [
    {
     "name": "stdout",
     "output_type": "stream",
     "text": [
      "Hel\n",
      "lo\n",
      "\n",
      "wor\n",
      "ld!\n"
     ]
    }
   ],
   "source": [
    "file = open(os.path.join(os.getcwd(), 'data', 'fichier.txt'))\n",
    "\n",
    "while data := file.read(3):\n",
    "    print(data)\n",
    "\n",
    "file.close()"
   ]
  },
  {
   "cell_type": "code",
   "execution_count": 68,
   "id": "c1e353b1-881b-4d8a-bd47-d22458c23f8d",
   "metadata": {},
   "outputs": [
    {
     "name": "stdout",
     "output_type": "stream",
     "text": [
      "Hello\n",
      "world!\n",
      "False\n",
      "True\n"
     ]
    }
   ],
   "source": [
    "with open(os.path.join(os.getcwd(), 'data', 'fichier.txt')) as fd:\n",
    "    for line in fd:\n",
    "        print(line.strip())\n",
    "    print(fd.closed)\n",
    "print(fd.closed)"
   ]
  },
  {
   "cell_type": "code",
   "execution_count": 71,
   "id": "58cdf3c4-7dd4-46e0-a4c6-2133adb79c64",
   "metadata": {},
   "outputs": [
    {
     "name": "stdout",
     "output_type": "stream",
     "text": [
      "Hello\n",
      "world!\n"
     ]
    }
   ],
   "source": [
    "with (p2 / 'fichier.txt').open() as fd:\n",
    "    print(fd.read())"
   ]
  },
  {
   "cell_type": "code",
   "execution_count": 72,
   "id": "f7d37e60-2cae-4e9d-a67a-d7160a76b0bc",
   "metadata": {},
   "outputs": [],
   "source": [
    "d = {\n",
    "    'foo': 'bar',\n",
    "    'items': ['first',\n",
    "              'second',\n",
    "              'third'],\n",
    "    'options': {\n",
    "        'debug': True\n",
    "     }\n",
    "}"
   ]
  },
  {
   "cell_type": "code",
   "execution_count": 73,
   "id": "47d216d6-74c5-4da2-be41-b558b969c3d2",
   "metadata": {},
   "outputs": [],
   "source": [
    "import json"
   ]
  },
  {
   "cell_type": "code",
   "execution_count": 74,
   "id": "396195f5-0645-4be8-9511-2b9cc24e08f8",
   "metadata": {},
   "outputs": [],
   "source": [
    "data = json.dumps(d)"
   ]
  },
  {
   "cell_type": "code",
   "execution_count": 75,
   "id": "2e14d86d-bb63-4ffa-8a94-b0fea433b745",
   "metadata": {},
   "outputs": [
    {
     "name": "stdout",
     "output_type": "stream",
     "text": [
      "'{\"foo\": \"bar\", \"items\": [\"first\", \"second\", \"third\"], \"options\": {\"debug\": true}}'\n"
     ]
    }
   ],
   "source": [
    "print(repr(data))"
   ]
  },
  {
   "cell_type": "code",
   "execution_count": 77,
   "id": "a9d6cb3c-64e4-4793-91a3-b26e4e5c5d8a",
   "metadata": {},
   "outputs": [],
   "source": [
    "jupyter_data = '{\"name\": \"data\", \"path\": \"prof/data\", \"last_modified\": \"2022-10-07T11:34:54.156209Z\", \"created\": \"2022-10-07T11:34:54.156209Z\", \"content\": [{\"name\": \"fichier.txt\", \"path\": \"prof/data/fichier.txt\", \"last_modified\": \"2022-10-07T11:35:31.193202Z\", \"created\": \"2022-10-07T11:35:31.193202Z\", \"content\": null, \"format\": null, \"mimetype\": \"text/plain\", \"size\": 12, \"writable\": true, \"type\": \"file\"}], \"format\": \"json\", \"mimetype\": null, \"size\": null, \"writable\": true, \"type\": \"directory\"}'"
   ]
  },
  {
   "cell_type": "code",
   "execution_count": 79,
   "id": "cad8b5c4-607e-4d76-a5ce-fcab04711aff",
   "metadata": {},
   "outputs": [
    {
     "name": "stdout",
     "output_type": "stream",
     "text": [
      "{'name': 'data', 'path': 'prof/data', 'last_modified': '2022-10-07T11:34:54.156209Z', 'created': '2022-10-07T11:34:54.156209Z', 'content': [{'name': 'fichier.txt', 'path': 'prof/data/fichier.txt', 'last_modified': '2022-10-07T11:35:31.193202Z', 'created': '2022-10-07T11:35:31.193202Z', 'content': None, 'format': None, 'mimetype': 'text/plain', 'size': 12, 'writable': True, 'type': 'file'}], 'format': 'json', 'mimetype': None, 'size': None, 'writable': True, 'type': 'directory'}\n",
      "prof/data\n"
     ]
    }
   ],
   "source": [
    "jupyter_dict = json.loads(jupyter_data)\n",
    "print(jupyter_dict)\n",
    "print(jupyter_dict['path'])"
   ]
  },
  {
   "cell_type": "code",
   "execution_count": 80,
   "id": "8e49d28d-fb91-4a81-85a4-be4f888a441a",
   "metadata": {},
   "outputs": [],
   "source": [
    "import csv"
   ]
  },
  {
   "cell_type": "code",
   "execution_count": 83,
   "id": "4ae41ab4-9eb4-493b-b987-62169ed4adaf",
   "metadata": {},
   "outputs": [],
   "source": [
    "with (p2 / 'data.csv').open('w') as fd:\n",
    "    writer = csv.writer(fd)\n",
    "    writer.writerow(['foo', 'bar', 'baz'])\n",
    "    writer.writerow([1, 2, 3])\n",
    "    writer.writerow([','])\n"
   ]
  },
  {
   "cell_type": "code",
   "execution_count": 84,
   "id": "a3edb285-c286-41aa-8700-87441878800e",
   "metadata": {},
   "outputs": [
    {
     "name": "stdout",
     "output_type": "stream",
     "text": [
      "foo,bar,baz\n",
      "1,2,3\n",
      "\",\"\n",
      "\n"
     ]
    }
   ],
   "source": [
    "with (p2 / 'data.csv').open() as fd:\n",
    "    print(fd.read())"
   ]
  },
  {
   "cell_type": "code",
   "execution_count": 85,
   "id": "2009b15a-a54f-44b6-89db-98c1aed9fc37",
   "metadata": {},
   "outputs": [
    {
     "name": "stdout",
     "output_type": "stream",
     "text": [
      "['foo', 'bar', 'baz']\n",
      "['1', '2', '3']\n",
      "[',']\n"
     ]
    }
   ],
   "source": [
    "with (p2 / 'data.csv').open() as fd:\n",
    "    reader = csv.reader(fd)\n",
    "    for line in reader:\n",
    "        print(line)"
   ]
  },
  {
   "cell_type": "code",
   "execution_count": 86,
   "id": "262ca9da-c50c-455d-879c-6c4357496640",
   "metadata": {},
   "outputs": [
    {
     "name": "stdout",
     "output_type": "stream",
     "text": [
      "['foo,bar,baz']\n",
      "['1,2,3']\n",
      "[',']\n"
     ]
    }
   ],
   "source": [
    "with (p2 / 'data.csv').open() as fd:\n",
    "    reader = csv.reader(fd, delimiter=';')\n",
    "    for line in reader:\n",
    "        print(line)"
   ]
  },
  {
   "cell_type": "code",
   "execution_count": 96,
   "id": "1c9979fb-3729-44ce-bf7d-f5adeec45386",
   "metadata": {},
   "outputs": [],
   "source": [
    "with (p2 / 'data2.csv').open('w') as fd:\n",
    "    writer = csv.writer(fd, delimiter='|')\n",
    "    writer.writerow(['foo', 'bar', 'baz'])\n",
    "    writer.writerow([1, 2, 3])\n",
    "    writer.writerow([','])\n"
   ]
  },
  {
   "cell_type": "code",
   "execution_count": 97,
   "id": "1d3fe72a-fe94-4f5e-82f5-c695188a60ab",
   "metadata": {},
   "outputs": [
    {
     "name": "stdout",
     "output_type": "stream",
     "text": [
      "['foo', 'bar', 'baz']\n",
      "['1', '2', '3']\n",
      "[',']\n"
     ]
    }
   ],
   "source": [
    "with (p2 / 'data2.csv').open() as fd:\n",
    "    reader = csv.reader(fd, delimiter='|')\n",
    "    for line in reader:\n",
    "        print(line)"
   ]
  },
  {
   "cell_type": "code",
   "execution_count": 102,
   "id": "92058069-f994-451b-86ca-99fad6ee2a75",
   "metadata": {},
   "outputs": [
    {
     "name": "stdout",
     "output_type": "stream",
     "text": [
      "['foo', 'bar', 'baz']\n",
      "['1', '2', '3']\n",
      "[',']\n"
     ]
    }
   ],
   "source": [
    "with (p2 / 'data2.csv').open() as fd:\n",
    "    sniffer = csv.Sniffer()\n",
    "    dialect = sniffer.sniff(fd.read(10))\n",
    "    # print(dialect.__dict__)\n",
    "    fd.seek(0)\n",
    "    reader = csv.reader(fd, dialect=dialect)\n",
    "    for line in reader:\n",
    "        print(line)"
   ]
  },
  {
   "cell_type": "code",
   "execution_count": 104,
   "id": "2ada2e59-5ba8-40eb-b158-6d95267742f0",
   "metadata": {},
   "outputs": [
    {
     "name": "stdout",
     "output_type": "stream",
     "text": [
      "{'foo': '1', 'bar': '2', 'baz': '3'}\n",
      "{'foo': ',', 'bar': None, 'baz': None}\n"
     ]
    }
   ],
   "source": [
    "with (p2 / 'data.csv').open() as fd:\n",
    "    reader = csv.DictReader(fd)\n",
    "    for line in reader:\n",
    "        print(line)"
   ]
  },
  {
   "cell_type": "code",
   "execution_count": 112,
   "id": "e0ca1b95-2817-427b-a141-6291ba87df94",
   "metadata": {},
   "outputs": [],
   "source": [
    "d = [{'foo': 'bar', 'key': 'value'}, {'foo': 'baz', 'key': 'truc', 'other': 'nope'}]"
   ]
  },
  {
   "cell_type": "code",
   "execution_count": null,
   "id": "ae7ec38d-45f2-4e6e-953c-4198f9c6d8ff",
   "metadata": {},
   "outputs": [],
   "source": [
    "with (p2 / 'data3.csv').open('w') as fd:\n",
    "    writer = csv.DictWriter(fd, ('key', 'foo'))\n",
    "    writer.writeheader()\n",
    "    for line in d:\n",
    "        line = {k: v for k, v in line.items() if k in writer.fieldnames}\n",
    "        writer.writerow(line)"
   ]
  }
 ],
 "metadata": {
  "kernelspec": {
   "display_name": "Python 3 (ipykernel)",
   "language": "python",
   "name": "python3"
  },
  "language_info": {
   "codemirror_mode": {
    "name": "ipython",
    "version": 3
   },
   "file_extension": ".py",
   "mimetype": "text/x-python",
   "name": "python",
   "nbconvert_exporter": "python",
   "pygments_lexer": "ipython3",
   "version": "3.10.4"
  }
 },
 "nbformat": 4,
 "nbformat_minor": 5
}
