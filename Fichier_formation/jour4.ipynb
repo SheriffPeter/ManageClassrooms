{
 "cells": [
  {
   "cell_type": "code",
   "execution_count": 1,
   "id": "b86c4efd-21ac-411f-9ff0-de60c6cb6112",
   "metadata": {},
   "outputs": [],
   "source": [
    "def del_var(var):\n",
    "    del var"
   ]
  },
  {
   "cell_type": "code",
   "execution_count": 2,
   "id": "58509d9c-3491-47d5-a556-41f399d82402",
   "metadata": {},
   "outputs": [],
   "source": [
    "v = 'test'"
   ]
  },
  {
   "cell_type": "code",
   "execution_count": 3,
   "id": "0b3929ed-afa3-40b3-a617-c619446a0fda",
   "metadata": {},
   "outputs": [],
   "source": [
    "del_var(v)"
   ]
  },
  {
   "cell_type": "code",
   "execution_count": 4,
   "id": "7d131844-29fe-4c08-8ff8-6074cc7b745d",
   "metadata": {},
   "outputs": [
    {
     "name": "stdout",
     "output_type": "stream",
     "text": [
      "test\n"
     ]
    }
   ],
   "source": [
    "print(v)"
   ]
  },
  {
   "cell_type": "code",
   "execution_count": 5,
   "id": "057369f3-4dad-4f45-942f-d6e942b83047",
   "metadata": {},
   "outputs": [],
   "source": [
    "items = ['foo', 'bar', 'baz']"
   ]
  },
  {
   "cell_type": "code",
   "execution_count": 6,
   "id": "a8effdd8-bee6-48e2-9d3b-4c8afc323a32",
   "metadata": {},
   "outputs": [
    {
     "ename": "AttributeError",
     "evalue": "'list' object has no attribute 'join'",
     "output_type": "error",
     "traceback": [
      "\u001b[0;31m---------------------------------------------------------------------------\u001b[0m",
      "\u001b[0;31mAttributeError\u001b[0m                            Traceback (most recent call last)",
      "Input \u001b[0;32mIn [6]\u001b[0m, in \u001b[0;36m<cell line: 1>\u001b[0;34m()\u001b[0m\n\u001b[0;32m----> 1\u001b[0m \u001b[38;5;28mprint\u001b[39m(\u001b[43mitems\u001b[49m\u001b[38;5;241;43m.\u001b[39;49m\u001b[43mjoin\u001b[49m(\u001b[38;5;124m'\u001b[39m\u001b[38;5;124m \u001b[39m\u001b[38;5;124m'\u001b[39m))\n",
      "\u001b[0;31mAttributeError\u001b[0m: 'list' object has no attribute 'join'"
     ]
    }
   ],
   "source": [
    "print(items.join(' '))"
   ]
  },
  {
   "cell_type": "code",
   "execution_count": 8,
   "id": "9b6a65ba-cebc-4e0f-b617-cb778b24b8c7",
   "metadata": {},
   "outputs": [
    {
     "name": "stdout",
     "output_type": "stream",
     "text": [
      "foo, bar, baz\n"
     ]
    }
   ],
   "source": [
    "print(', '.join(items))"
   ]
  },
  {
   "cell_type": "code",
   "execution_count": 9,
   "id": "8adb2d30-4784-4a5e-b2e5-7ee8d6815426",
   "metadata": {},
   "outputs": [],
   "source": [
    "values = [12, 4, 99, 10]"
   ]
  },
  {
   "cell_type": "code",
   "execution_count": 12,
   "id": "cf38e9ff-097a-4c54-b3e8-ea84d8fe3ea9",
   "metadata": {},
   "outputs": [
    {
     "name": "stdout",
     "output_type": "stream",
     "text": [
      "(12, 'foo', 0)\n",
      "(4, 'bar', 1)\n",
      "(99, 'baz', 2)\n"
     ]
    }
   ],
   "source": [
    "for thing in zip(values, items, range(999)):\n",
    "    print(thing)"
   ]
  },
  {
   "cell_type": "code",
   "execution_count": 13,
   "id": "5044d91c-ff66-4712-93d0-39009ebb01aa",
   "metadata": {},
   "outputs": [
    {
     "name": "stdout",
     "output_type": "stream",
     "text": [
      "1: foo\n",
      "2: bar\n",
      "3: baz\n"
     ]
    }
   ],
   "source": [
    "for index, value in zip(range(1, 999), items):\n",
    "    print(f'{index}: {value}')"
   ]
  },
  {
   "cell_type": "code",
   "execution_count": 14,
   "id": "4832ca6e-56b4-4673-8c42-640cb273a76e",
   "metadata": {},
   "outputs": [],
   "source": [
    "import itertools"
   ]
  },
  {
   "cell_type": "code",
   "execution_count": 15,
   "id": "675e9c7d-a593-4152-ad9b-3b74fe82234d",
   "metadata": {},
   "outputs": [
    {
     "name": "stdout",
     "output_type": "stream",
     "text": [
      "0\n",
      "1\n",
      "2\n",
      "3\n",
      "4\n",
      "5\n",
      "6\n",
      "7\n",
      "8\n",
      "9\n",
      "10\n",
      "11\n",
      "12\n",
      "13\n",
      "14\n",
      "15\n",
      "16\n",
      "17\n",
      "18\n",
      "19\n",
      "20\n",
      "21\n"
     ]
    }
   ],
   "source": [
    "for i in itertools.count():\n",
    "    print(i)\n",
    "    if i > 20:\n",
    "        break"
   ]
  },
  {
   "cell_type": "code",
   "execution_count": 18,
   "id": "3fb219f5-3144-4536-9168-6c6084e4044a",
   "metadata": {},
   "outputs": [
    {
     "name": "stdout",
     "output_type": "stream",
     "text": [
      "0 = pair (aaaaaa)\n",
      "1 = impair (aaaaaa)\n",
      "2 = pair (aaaaaa)\n",
      "3 = impair (aaaaaa)\n",
      "4 = pair (aaaaaa)\n",
      "5 = impair (aaaaaa)\n",
      "6 = pair (aaaaaa)\n",
      "7 = impair (aaaaaa)\n",
      "8 = pair (aaaaaa)\n",
      "9 = impair (aaaaaa)\n",
      "10 = pair (aaaaaa)\n",
      "11 = impair (aaaaaa)\n",
      "12 = pair (aaaaaa)\n",
      "13 = impair (aaaaaa)\n",
      "14 = pair (aaaaaa)\n",
      "15 = impair (aaaaaa)\n",
      "16 = pair (aaaaaa)\n",
      "17 = impair (aaaaaa)\n",
      "18 = pair (aaaaaa)\n",
      "19 = impair (aaaaaa)\n",
      "20 = pair (aaaaaa)\n",
      "21 = impair (aaaaaa)\n"
     ]
    }
   ],
   "source": [
    "for i, v, r in zip(itertools.count(), itertools.cycle(['pair', 'impair']), itertools.repeat('aaaaaa')):\n",
    "    print(f'{i} = {v} ({r})')\n",
    "    if i > 20:\n",
    "        break"
   ]
  },
  {
   "cell_type": "code",
   "execution_count": 20,
   "id": "c4353dfe-4ba6-4fbc-8eb3-a30a1471092e",
   "metadata": {},
   "outputs": [
    {
     "name": "stdout",
     "output_type": "stream",
     "text": [
      "['FOO', 'BAR', 'BAZ']\n"
     ]
    }
   ],
   "source": [
    "items2 = []\n",
    "\n",
    "for i in items:\n",
    "    items2.append(i.upper())\n",
    "    \n",
    "print(items2)"
   ]
  },
  {
   "cell_type": "code",
   "execution_count": 22,
   "id": "1254e59e-8843-4923-b711-ac661948da1f",
   "metadata": {},
   "outputs": [
    {
     "name": "stdout",
     "output_type": "stream",
     "text": [
      "['FOO', 'BAR', 'BAZ']\n"
     ]
    }
   ],
   "source": [
    "items2 = list(map(str.upper, items))\n",
    "\n",
    "print(items2)"
   ]
  },
  {
   "cell_type": "code",
   "execution_count": 24,
   "id": "3ee45955-db37-494d-929f-586e93a60b3f",
   "metadata": {},
   "outputs": [],
   "source": [
    "class MyClass:\n",
    "    \n",
    "    def my_method(self):\n",
    "        print(self)"
   ]
  },
  {
   "cell_type": "code",
   "execution_count": 25,
   "id": "b1383c6f-7fe4-4a82-b66f-d8fc58975647",
   "metadata": {},
   "outputs": [
    {
     "name": "stdout",
     "output_type": "stream",
     "text": [
      "<function MyClass.my_method at 0x7f002528e950>\n"
     ]
    }
   ],
   "source": [
    "print(MyClass.my_method)"
   ]
  },
  {
   "cell_type": "code",
   "execution_count": 26,
   "id": "68faf0d2-8733-427f-a5b5-bedeab346400",
   "metadata": {},
   "outputs": [
    {
     "ename": "TypeError",
     "evalue": "MyClass.my_method() missing 1 required positional argument: 'self'",
     "output_type": "error",
     "traceback": [
      "\u001b[0;31m---------------------------------------------------------------------------\u001b[0m",
      "\u001b[0;31mTypeError\u001b[0m                                 Traceback (most recent call last)",
      "Input \u001b[0;32mIn [26]\u001b[0m, in \u001b[0;36m<cell line: 1>\u001b[0;34m()\u001b[0m\n\u001b[0;32m----> 1\u001b[0m \u001b[43mMyClass\u001b[49m\u001b[38;5;241;43m.\u001b[39;49m\u001b[43mmy_method\u001b[49m\u001b[43m(\u001b[49m\u001b[43m)\u001b[49m\n",
      "\u001b[0;31mTypeError\u001b[0m: MyClass.my_method() missing 1 required positional argument: 'self'"
     ]
    }
   ],
   "source": [
    "MyClass.my_method()"
   ]
  },
  {
   "cell_type": "code",
   "execution_count": 27,
   "id": "4ed4bf42-443a-4569-95bd-c327b4391bc1",
   "metadata": {},
   "outputs": [],
   "source": [
    "obj = MyClass()"
   ]
  },
  {
   "cell_type": "code",
   "execution_count": 28,
   "id": "24e40668-65b2-424c-917d-5540e8d533ae",
   "metadata": {},
   "outputs": [
    {
     "name": "stdout",
     "output_type": "stream",
     "text": [
      "<bound method MyClass.my_method of <__main__.MyClass object at 0x7f0025b79e70>>\n"
     ]
    }
   ],
   "source": [
    "print(obj.my_method)"
   ]
  },
  {
   "cell_type": "code",
   "execution_count": 31,
   "id": "cb07fe8d-172d-4d46-851b-a50d0e85c925",
   "metadata": {},
   "outputs": [
    {
     "name": "stdout",
     "output_type": "stream",
     "text": [
      "<__main__.MyClass object at 0x7f0025b79e70>\n"
     ]
    }
   ],
   "source": [
    "obj.my_method()"
   ]
  },
  {
   "cell_type": "code",
   "execution_count": 32,
   "id": "0cd5d4b2-d1e2-426d-83cd-48225fecbb87",
   "metadata": {},
   "outputs": [
    {
     "name": "stdout",
     "output_type": "stream",
     "text": [
      "<__main__.MyClass object at 0x7f0025b79e70>\n"
     ]
    }
   ],
   "source": [
    "MyClass.my_method(obj)"
   ]
  },
  {
   "cell_type": "code",
   "execution_count": 36,
   "id": "541c6022-1daf-405f-85b3-5d45e46752c9",
   "metadata": {},
   "outputs": [
    {
     "name": "stdout",
     "output_type": "stream",
     "text": [
      "['FOO', 'BAR', 'BAZ']\n"
     ]
    }
   ],
   "source": [
    "items2 = [s.upper() for s in items]  # liste en intention\n",
    "\n",
    "print(items2)"
   ]
  },
  {
   "cell_type": "code",
   "execution_count": 37,
   "id": "8a91ef7e-af53-4d03-8440-da673735ec75",
   "metadata": {},
   "outputs": [
    {
     "name": "stdout",
     "output_type": "stream",
     "text": [
      "['BAR', 'BAZ']\n"
     ]
    }
   ],
   "source": [
    "print([s.upper() for s in items if s.startswith('b')])"
   ]
  },
  {
   "cell_type": "code",
   "execution_count": null,
   "id": "371c37c6-7761-41ea-b795-07807677f17e",
   "metadata": {},
   "outputs": [],
   "source": [
    "[first, second[0], second[1] for first, second in enumerate(x)]"
   ]
  },
  {
   "cell_type": "code",
   "execution_count": 60,
   "id": "12fd7a00-4545-47ff-8f04-0ae8986f4a4c",
   "metadata": {},
   "outputs": [],
   "source": [
    "items = [\n",
    "    ('foo', 'bar'),\n",
    "    ('key', 'value'),\n",
    "]\n",
    "\n",
    "enum = list(enumerate(items))"
   ]
  },
  {
   "cell_type": "code",
   "execution_count": 61,
   "id": "9444735d-0a87-438b-94a9-a1edfdb515f1",
   "metadata": {},
   "outputs": [
    {
     "name": "stdout",
     "output_type": "stream",
     "text": [
      "[(0, ('foo', 'bar')), (1, ('key', 'value'))]\n"
     ]
    }
   ],
   "source": [
    "print(enum)"
   ]
  },
  {
   "cell_type": "code",
   "execution_count": 40,
   "id": "f195c3ef-705e-467d-88f0-1fc552d20711",
   "metadata": {},
   "outputs": [],
   "source": [
    "from itertools import chain"
   ]
  },
  {
   "cell_type": "code",
   "execution_count": 42,
   "id": "97e9d79c-f8ff-4738-af4b-a7ce291922ce",
   "metadata": {},
   "outputs": [
    {
     "name": "stderr",
     "output_type": "stream",
     "text": [
      "Version 1.0.3\n"
     ]
    }
   ],
   "source": [
    "%load_ext nb_mypy"
   ]
  },
  {
   "cell_type": "code",
   "execution_count": 62,
   "id": "aecadb2d-19a8-45ef-8f83-bed2290454ca",
   "metadata": {},
   "outputs": [
    {
     "name": "stderr",
     "output_type": "stream",
     "text": [
      "<cell>25: error: Argument 1 to \"map\" has incompatible type \"Callable[[Iterable[Union[T, Iterable[T]]]], List[T]]\"; expected \"Callable[[Tuple[int, Tuple[str, str]]], List[T]]\"\n"
     ]
    },
    {
     "name": "stdout",
     "output_type": "stream",
     "text": [
      "[[0, 'foo', 'bar'], [1, 'key', 'value']]\n"
     ]
    }
   ],
   "source": [
    "from typing import Iterable, TypeVar\n",
    "\n",
    "T = TypeVar('T')\n",
    "\n",
    "def flatten(item: Iterable[T|Iterable[T]]) -> list[T]:\n",
    "    \"\"\"\n",
    "    Transforme l’argument, qui est un ensemble d’éléments pouvant être\n",
    "    itérables, en un tuple de ces éléments.\n",
    "    \n",
    "    Examples:\n",
    "    \n",
    "        >>> flatten(['a', ['b', 'c']])\n",
    "        ('a', 'b', 'c')\n",
    "    \"\"\"\n",
    "    result = []\n",
    "    for i in item:\n",
    "        if isinstance(i, Iterable) and not isinstance(i, str):\n",
    "            for j in i:\n",
    "                result.append(j)\n",
    "        else:\n",
    "            result.append(i)\n",
    "    return result\n",
    "\n",
    "\n",
    "print(list(map(flatten, enum)))"
   ]
  },
  {
   "cell_type": "code",
   "execution_count": 48,
   "id": "51e37271-2903-4829-8e61-6864fac9e068",
   "metadata": {},
   "outputs": [
    {
     "name": "stdout",
     "output_type": "stream",
     "text": [
      "True\n"
     ]
    }
   ],
   "source": [
    "print(isinstance([], Iterable))"
   ]
  },
  {
   "cell_type": "code",
   "execution_count": 57,
   "id": "95656105-0462-416d-81a2-b4d3de1268d9",
   "metadata": {},
   "outputs": [
    {
     "name": "stderr",
     "output_type": "stream",
     "text": [
      "<cell>1: error: Argument 1 to \"flatten\" has incompatible type \"List[Sequence[str]]\"; expected \"Iterable[Iterable[<nothing>]]\"\n"
     ]
    },
    {
     "name": "stdout",
     "output_type": "stream",
     "text": [
      "['a2', 'b', 'c']\n"
     ]
    }
   ],
   "source": [
    "print(flatten(['a2', ['b', 'c']]))"
   ]
  },
  {
   "cell_type": "code",
   "execution_count": 63,
   "id": "11d99cca-082b-477a-828d-8b477fb2e67a",
   "metadata": {},
   "outputs": [],
   "source": [
    "s = {1, 2, 3}"
   ]
  },
  {
   "cell_type": "code",
   "execution_count": 65,
   "id": "1fc9e869-f4c9-45c6-944f-41b29e157047",
   "metadata": {},
   "outputs": [
    {
     "name": "stdout",
     "output_type": "stream",
     "text": [
      "True\n"
     ]
    }
   ],
   "source": [
    "print(1 in s)"
   ]
  },
  {
   "cell_type": "code",
   "execution_count": 66,
   "id": "decbde25-e8f7-4752-8898-c520c5adda3a",
   "metadata": {},
   "outputs": [
    {
     "name": "stdout",
     "output_type": "stream",
     "text": [
      "True\n"
     ]
    }
   ],
   "source": [
    "print(1.0 in s)"
   ]
  },
  {
   "cell_type": "code",
   "execution_count": 67,
   "id": "19af9ee7-fb97-4f2a-bf52-16377e530ccf",
   "metadata": {},
   "outputs": [
    {
     "name": "stdout",
     "output_type": "stream",
     "text": [
      "1\n",
      "1\n"
     ]
    }
   ],
   "source": [
    "print(hash(1))\n",
    "print(hash(1.0))"
   ]
  },
  {
   "cell_type": "code",
   "execution_count": 68,
   "id": "ab0fc8aa-37b4-4ab1-894f-1471a05525d7",
   "metadata": {},
   "outputs": [
    {
     "ename": "TypeError",
     "evalue": "unhashable type: 'list'",
     "output_type": "error",
     "traceback": [
      "\u001b[0;31m---------------------------------------------------------------------------\u001b[0m",
      "\u001b[0;31mTypeError\u001b[0m                                 Traceback (most recent call last)",
      "Input \u001b[0;32mIn [68]\u001b[0m, in \u001b[0;36m<cell line: 1>\u001b[0;34m()\u001b[0m\n\u001b[0;32m----> 1\u001b[0m \u001b[38;5;28mprint\u001b[39m(\u001b[38;5;28;43mhash\u001b[39;49m\u001b[43m(\u001b[49m\u001b[43m[\u001b[49m\u001b[38;5;124;43m'\u001b[39;49m\u001b[38;5;124;43mtest\u001b[39;49m\u001b[38;5;124;43m'\u001b[39;49m\u001b[43m]\u001b[49m\u001b[43m)\u001b[49m)\n",
      "\u001b[0;31mTypeError\u001b[0m: unhashable type: 'list'"
     ]
    }
   ],
   "source": [
    "print(hash(['test']))"
   ]
  },
  {
   "cell_type": "code",
   "execution_count": 69,
   "id": "a6f9223d-22f3-429f-ad62-cb4b7b1b86cf",
   "metadata": {},
   "outputs": [
    {
     "name": "stderr",
     "output_type": "stream",
     "text": [
      "<cell>1: error: Name \"obj\" is not defined\n"
     ]
    },
    {
     "name": "stdout",
     "output_type": "stream",
     "text": [
      "8727413094887\n"
     ]
    }
   ],
   "source": [
    "print(hash(obj))"
   ]
  },
  {
   "cell_type": "code",
   "execution_count": null,
   "id": "19e23f23-089c-4c78-812c-f29157e95f53",
   "metadata": {},
   "outputs": [
    {
     "name": "stderr",
     "output_type": "stream",
     "text": [
      "<cell>1: error: Name \"obj\" is not defined\n"
     ]
    }
   ],
   "source": [
    "s.add(obj)"
   ]
  },
  {
   "cell_type": "code",
   "execution_count": 71,
   "id": "e4832333-5370-4598-a034-5f1b342a598e",
   "metadata": {},
   "outputs": [],
   "source": [
    "class MySecondClass:\n",
    "    \n",
    "    attr: str\n",
    "    \n",
    "    def __init__(self, attr: str):\n",
    "        self.attr = attr\n",
    "        \n",
    "    def __str__(self) -> str:\n",
    "        return self.attr\n",
    "    \n",
    "    def __repr__(self) -> str:\n",
    "        return f'<{type(self).__name__} object: \"{self}\">'"
   ]
  },
  {
   "cell_type": "code",
   "execution_count": 72,
   "id": "7f3f46b2-c9cd-420a-997d-2f2f437379d2",
   "metadata": {},
   "outputs": [],
   "source": [
    "obj = MySecondClass('a')\n",
    "obj2 = MySecondClass('b')"
   ]
  },
  {
   "cell_type": "code",
   "execution_count": 73,
   "id": "24772867-99cd-43da-9d90-3992b684af29",
   "metadata": {},
   "outputs": [],
   "source": [
    "s = set()\n",
    "\n",
    "s.add(obj)"
   ]
  },
  {
   "cell_type": "code",
   "execution_count": 74,
   "id": "4fd7f462-cc44-4c23-9174-2d9d92a7fece",
   "metadata": {},
   "outputs": [
    {
     "name": "stdout",
     "output_type": "stream",
     "text": [
      "{<MySecondClass object: \"a\">}\n"
     ]
    }
   ],
   "source": [
    "print(s)"
   ]
  },
  {
   "cell_type": "code",
   "execution_count": 75,
   "id": "8576ecff-3adc-451b-b788-c4af9a80da22",
   "metadata": {},
   "outputs": [
    {
     "name": "stdout",
     "output_type": "stream",
     "text": [
      "{<MySecondClass object: \"b\">, <MySecondClass object: \"a\">}\n"
     ]
    }
   ],
   "source": [
    "s.add(obj2)\n",
    "print(s)"
   ]
  },
  {
   "cell_type": "code",
   "execution_count": 76,
   "id": "5a1f1345-9c6b-4189-ab79-305d5b8074ba",
   "metadata": {},
   "outputs": [
    {
     "name": "stdout",
     "output_type": "stream",
     "text": [
      "8727364354223\n",
      "8727413093160\n"
     ]
    }
   ],
   "source": [
    "print(hash(obj))\n",
    "print(hash(obj2))"
   ]
  },
  {
   "cell_type": "code",
   "execution_count": 78,
   "id": "671b82e8-a483-4f00-8555-c0684b6e9293",
   "metadata": {},
   "outputs": [],
   "source": [
    "class MySecondClass:\n",
    "    \n",
    "    attr: list[str]\n",
    "    \n",
    "    def __init__(self, attr: str):\n",
    "        self.attr = list(attr)\n",
    "        \n",
    "    def __str__(self) -> str:\n",
    "        return str(self.attr)\n",
    "    \n",
    "    def __repr__(self) -> str:\n",
    "        return f'<{type(self).__name__} object: \"{self}\">'"
   ]
  },
  {
   "cell_type": "code",
   "execution_count": 80,
   "id": "3b4f5f8b-a0af-4be0-9adf-6f2a412cc2b6",
   "metadata": {},
   "outputs": [
    {
     "name": "stdout",
     "output_type": "stream",
     "text": [
      "['t', 'e', 's', 't']\n"
     ]
    }
   ],
   "source": [
    "obj = MySecondClass('test')\n",
    "print(obj)"
   ]
  },
  {
   "cell_type": "code",
   "execution_count": 81,
   "id": "e4d2d645-954a-4474-8d55-4f6bd6a59033",
   "metadata": {},
   "outputs": [
    {
     "name": "stdout",
     "output_type": "stream",
     "text": [
      "8727359553512\n"
     ]
    }
   ],
   "source": [
    "print(hash(obj))"
   ]
  },
  {
   "cell_type": "code",
   "execution_count": 82,
   "id": "05ba3d9e-3e76-4025-b831-14d2e107ac07",
   "metadata": {},
   "outputs": [
    {
     "name": "stdout",
     "output_type": "stream",
     "text": [
      "['t', 'e', 's', 't']\n"
     ]
    }
   ],
   "source": [
    "obj2 = MySecondClass('test')\n",
    "print(obj)"
   ]
  },
  {
   "cell_type": "code",
   "execution_count": 83,
   "id": "db00c1ca-ca7a-4d41-917f-b224c6b9cc22",
   "metadata": {},
   "outputs": [
    {
     "name": "stdout",
     "output_type": "stream",
     "text": [
      "8727358793521\n"
     ]
    }
   ],
   "source": [
    "print(hash(obj2))"
   ]
  },
  {
   "cell_type": "code",
   "execution_count": 84,
   "id": "e8a058e7-b3cc-4ca4-95a0-1363207ed4e1",
   "metadata": {},
   "outputs": [
    {
     "name": "stdout",
     "output_type": "stream",
     "text": [
      "{<MySecondClass object: \"['t', 'e', 's', 't']\">, <MySecondClass object: \"['t', 'e', 's', 't']\">}\n"
     ]
    }
   ],
   "source": [
    "s = set()\n",
    "\n",
    "s.add(obj)\n",
    "s.add(obj2)\n",
    "\n",
    "print(s)"
   ]
  },
  {
   "cell_type": "code",
   "execution_count": 91,
   "id": "8965c240-7ca7-4176-9e8a-8332f5c1448b",
   "metadata": {},
   "outputs": [],
   "source": [
    "class MySecondClass:\n",
    "    \n",
    "    attr: list[str]\n",
    "    \n",
    "    def __init__(self, attr: str):\n",
    "        self.attr = list(attr)\n",
    "        \n",
    "    def __str__(self) -> str:\n",
    "        return str(self.attr)\n",
    "    \n",
    "    def __repr__(self) -> str:\n",
    "        return f'<{type(self).__name__} object: \"{self}\">'\n",
    "    \n",
    "    def __hash__(self) -> int:\n",
    "        return hash(str(self))\n",
    "    \n",
    "    def __eq__(self, other: object) -> bool:\n",
    "        return hash(self) == hash(other)"
   ]
  },
  {
   "cell_type": "code",
   "execution_count": 92,
   "id": "0312a54f-2f81-4733-a25d-0364081cc137",
   "metadata": {},
   "outputs": [
    {
     "name": "stdout",
     "output_type": "stream",
     "text": [
      "['t', 'e', 's', 't']\n"
     ]
    }
   ],
   "source": [
    "obj = MySecondClass('test')\n",
    "print(obj)"
   ]
  },
  {
   "cell_type": "code",
   "execution_count": 93,
   "id": "802c36e9-25e9-45e9-9e99-ab6f0a753c98",
   "metadata": {},
   "outputs": [
    {
     "name": "stdout",
     "output_type": "stream",
     "text": [
      "-3896762673777310050\n"
     ]
    }
   ],
   "source": [
    "print(hash(obj))"
   ]
  },
  {
   "cell_type": "code",
   "execution_count": 94,
   "id": "40da1f6b-9015-44a6-9448-7bdc67a7fca7",
   "metadata": {},
   "outputs": [
    {
     "name": "stdout",
     "output_type": "stream",
     "text": [
      "['t', 'e', 's', 't']\n"
     ]
    }
   ],
   "source": [
    "obj2 = MySecondClass('test')\n",
    "print(obj)"
   ]
  },
  {
   "cell_type": "code",
   "execution_count": 95,
   "id": "ab1cffb5-ecaa-4b8d-8fea-6a16d7d7f082",
   "metadata": {},
   "outputs": [
    {
     "name": "stdout",
     "output_type": "stream",
     "text": [
      "-3896762673777310050\n"
     ]
    }
   ],
   "source": [
    "print(hash(obj2))"
   ]
  },
  {
   "cell_type": "code",
   "execution_count": 96,
   "id": "1d790657-a849-47ba-aa13-645400c887b9",
   "metadata": {},
   "outputs": [
    {
     "name": "stdout",
     "output_type": "stream",
     "text": [
      "{<MySecondClass object: \"['t', 'e', 's', 't']\">}\n"
     ]
    }
   ],
   "source": [
    "s = set()\n",
    "\n",
    "s.add(obj)\n",
    "s.add(obj2)\n",
    "\n",
    "print(s)"
   ]
  },
  {
   "cell_type": "code",
   "execution_count": 103,
   "id": "2945100d-9c42-4eec-95b6-75f04f6121c7",
   "metadata": {},
   "outputs": [
    {
     "name": "stdout",
     "output_type": "stream",
     "text": [
      "False\n",
      "False\n"
     ]
    }
   ],
   "source": [
    "class Empty:\n",
    "    \n",
    "    pass\n",
    "\n",
    "a = Empty()\n",
    "b = Empty()\n",
    "\n",
    "print(a == b)\n",
    "print(a is b)"
   ]
  },
  {
   "cell_type": "code",
   "execution_count": 102,
   "id": "7aa8daac-9719-4079-9e7a-6c749988830e",
   "metadata": {},
   "outputs": [
    {
     "name": "stdout",
     "output_type": "stream",
     "text": [
      "True\n"
     ]
    }
   ],
   "source": [
    "print(1 == 1.0)"
   ]
  },
  {
   "cell_type": "code",
   "execution_count": 118,
   "id": "f804463f-9f56-47bc-8fd1-fdd821045e54",
   "metadata": {},
   "outputs": [],
   "source": [
    "class Thing:\n",
    "    \n",
    "    name: str\n",
    "    value: int\n",
    "    \n",
    "    def __init__(self, name: str, value: int):\n",
    "        self.name = name\n",
    "        self.value = value\n",
    "        \n",
    "    def __str__(self) -> str:\n",
    "        return f'{self.name} ({self.value})'\n",
    "    \n",
    "    def __repr__(self) -> str:\n",
    "        return f'<{type(self).__name__} object: \"{self}\">'\n",
    "    \n",
    "    def __hash__(self) -> int:\n",
    "        return hash(('Thing', self.name, self.value))\n",
    "    \n",
    "    def __eq__(self, other: object) -> bool:\n",
    "        if isinstance(other, Thing):\n",
    "            return self.value == other.value\n",
    "        return False"
   ]
  },
  {
   "cell_type": "code",
   "execution_count": 119,
   "id": "4bf38929-d056-4385-a975-f46ce9cb9744",
   "metadata": {},
   "outputs": [
    {
     "name": "stdout",
     "output_type": "stream",
     "text": [
      "False\n",
      "True\n"
     ]
    }
   ],
   "source": [
    "a = Thing('a', 1)\n",
    "b = Thing('b', 2)\n",
    "c = Thing('c', 1)\n",
    "\n",
    "print(a == b)\n",
    "print(a == c)"
   ]
  },
  {
   "cell_type": "code",
   "execution_count": 115,
   "id": "a3a47f2f-d1d0-458b-9ec2-2ce5538aa0ab",
   "metadata": {},
   "outputs": [
    {
     "name": "stdout",
     "output_type": "stream",
     "text": [
      "1724247776026963108\n",
      "3531935328983709531\n"
     ]
    }
   ],
   "source": [
    "print(hash(a))\n",
    "print(hash(c))"
   ]
  },
  {
   "cell_type": "code",
   "execution_count": 116,
   "id": "f3b28d12-9228-4c35-97d9-d59b33495ac0",
   "metadata": {},
   "outputs": [
    {
     "name": "stdout",
     "output_type": "stream",
     "text": [
      "{<Thing object: \"c (1)\">, <Thing object: \"a (1)\">, <Thing object: \"b (2)\">}\n"
     ]
    }
   ],
   "source": [
    "s = {a, b, c}\n",
    "\n",
    "print(s)"
   ]
  },
  {
   "cell_type": "code",
   "execution_count": 120,
   "id": "07400bb2-99a4-42b3-95d1-cfe4c8ee78d4",
   "metadata": {},
   "outputs": [
    {
     "ename": "ValueError",
     "evalue": "invalid literal for int() with base 10: 'a'",
     "output_type": "error",
     "traceback": [
      "\u001b[0;31m---------------------------------------------------------------------------\u001b[0m",
      "\u001b[0;31mValueError\u001b[0m                                Traceback (most recent call last)",
      "Input \u001b[0;32mIn [120]\u001b[0m, in \u001b[0;36m<cell line: 1>\u001b[0;34m()\u001b[0m\n\u001b[0;32m----> 1\u001b[0m \u001b[38;5;28mprint\u001b[39m(\u001b[38;5;28;43mint\u001b[39;49m\u001b[43m(\u001b[49m\u001b[38;5;124;43m'\u001b[39;49m\u001b[38;5;124;43ma\u001b[39;49m\u001b[38;5;124;43m'\u001b[39;49m\u001b[43m)\u001b[49m)\n",
      "\u001b[0;31mValueError\u001b[0m: invalid literal for int() with base 10: 'a'"
     ]
    }
   ],
   "source": [
    "print(int('a'))"
   ]
  },
  {
   "cell_type": "code",
   "execution_count": 121,
   "id": "2a2cf047-4ae6-4845-8c08-ef660013023c",
   "metadata": {},
   "outputs": [],
   "source": [
    "def a():\n",
    "    b()\n",
    "    \n",
    "def b():\n",
    "    c()\n",
    "    \n",
    "def c():\n",
    "    print(int('a'))"
   ]
  },
  {
   "cell_type": "code",
   "execution_count": 123,
   "id": "b4861b65-5e92-42c9-94ac-b1993aec4faf",
   "metadata": {},
   "outputs": [
    {
     "ename": "ValueError",
     "evalue": "invalid literal for int() with base 10: 'a'",
     "output_type": "error",
     "traceback": [
      "\u001b[0;31m---------------------------------------------------------------------------\u001b[0m",
      "\u001b[0;31mValueError\u001b[0m                                Traceback (most recent call last)",
      "Input \u001b[0;32mIn [123]\u001b[0m, in \u001b[0;36m<cell line: 1>\u001b[0;34m()\u001b[0m\n\u001b[0;32m----> 1\u001b[0m \u001b[43ma\u001b[49m\u001b[43m(\u001b[49m\u001b[43m)\u001b[49m\n\u001b[1;32m      2\u001b[0m \u001b[38;5;28mprint\u001b[39m(\u001b[38;5;124m'\u001b[39m\u001b[38;5;124mAprès exception\u001b[39m\u001b[38;5;124m'\u001b[39m)\n",
      "Input \u001b[0;32mIn [121]\u001b[0m, in \u001b[0;36ma\u001b[0;34m()\u001b[0m\n\u001b[1;32m      1\u001b[0m \u001b[38;5;28;01mdef\u001b[39;00m \u001b[38;5;21ma\u001b[39m():\n\u001b[0;32m----> 2\u001b[0m     \u001b[43mb\u001b[49m\u001b[43m(\u001b[49m\u001b[43m)\u001b[49m\n",
      "Input \u001b[0;32mIn [121]\u001b[0m, in \u001b[0;36mb\u001b[0;34m()\u001b[0m\n\u001b[1;32m      4\u001b[0m \u001b[38;5;28;01mdef\u001b[39;00m \u001b[38;5;21mb\u001b[39m():\n\u001b[0;32m----> 5\u001b[0m     \u001b[43mc\u001b[49m\u001b[43m(\u001b[49m\u001b[43m)\u001b[49m\n",
      "Input \u001b[0;32mIn [121]\u001b[0m, in \u001b[0;36mc\u001b[0;34m()\u001b[0m\n\u001b[1;32m      7\u001b[0m \u001b[38;5;28;01mdef\u001b[39;00m \u001b[38;5;21mc\u001b[39m():\n\u001b[0;32m----> 8\u001b[0m     \u001b[38;5;28mprint\u001b[39m(\u001b[38;5;28;43mint\u001b[39;49m\u001b[43m(\u001b[49m\u001b[38;5;124;43m'\u001b[39;49m\u001b[38;5;124;43ma\u001b[39;49m\u001b[38;5;124;43m'\u001b[39;49m\u001b[43m)\u001b[49m)\n",
      "\u001b[0;31mValueError\u001b[0m: invalid literal for int() with base 10: 'a'"
     ]
    }
   ],
   "source": [
    "a()\n",
    "print('Après exception')"
   ]
  },
  {
   "cell_type": "code",
   "execution_count": 128,
   "id": "164dba23-f44e-483d-bf76-f93a37bfbb6e",
   "metadata": {},
   "outputs": [
    {
     "name": "stdout",
     "output_type": "stream",
     "text": [
      "Après division\n",
      "Après bloc try/except\n"
     ]
    }
   ],
   "source": [
    "try:\n",
    "    1 / 1\n",
    "    print('Après division')\n",
    "except ZeroDivisionError as e:\n",
    "    print(f'On a trouvé une division par zéro : {e} ({type(e)})')\n",
    "\n",
    "print('Après bloc try/except')"
   ]
  },
  {
   "cell_type": "code",
   "execution_count": 129,
   "id": "0b5d03ac-bbc7-43da-a8c6-cb5cc86b03c7",
   "metadata": {},
   "outputs": [
    {
     "name": "stdout",
     "output_type": "stream",
     "text": [
      "On a trouvé une division par zéro : division by zero (<class 'ZeroDivisionError'>)\n",
      "Après bloc try/except\n"
     ]
    }
   ],
   "source": [
    "try:\n",
    "    1 / 0\n",
    "    print('Après division')\n",
    "except ZeroDivisionError as e:\n",
    "    print(f'On a trouvé une division par zéro : {e} ({type(e)})')\n",
    "\n",
    "print('Après bloc try/except')"
   ]
  },
  {
   "cell_type": "code",
   "execution_count": 131,
   "id": "accdde17-8b25-478d-92c1-2ef69db45ed8",
   "metadata": {},
   "outputs": [
    {
     "name": "stdout",
     "output_type": "stream",
     "text": [
      "Après division\n",
      "erreur de valeur : invalid literal for int() with base 10: 'a'\n",
      "Après bloc try/except\n"
     ]
    }
   ],
   "source": [
    "try:\n",
    "    1 / 1\n",
    "    print('Après division')\n",
    "    int('a')\n",
    "    print('après int(\"a\")')\n",
    "except ZeroDivisionError as e:\n",
    "    print(f'On a trouvé une division par zéro : {e} ({type(e)})')\n",
    "except ValueError as e:\n",
    "    print(f'erreur de valeur : {e}')\n",
    "\n",
    "print('Après bloc try/except')"
   ]
  },
  {
   "cell_type": "code",
   "execution_count": 132,
   "id": "8cbc158e-2a7f-4221-aeb3-64c0d00d4dd8",
   "metadata": {},
   "outputs": [
    {
     "ename": "Exception",
     "evalue": "bla",
     "output_type": "error",
     "traceback": [
      "\u001b[0;31m---------------------------------------------------------------------------\u001b[0m",
      "\u001b[0;31mException\u001b[0m                                 Traceback (most recent call last)",
      "Input \u001b[0;32mIn [132]\u001b[0m, in \u001b[0;36m<cell line: 1>\u001b[0;34m()\u001b[0m\n\u001b[0;32m----> 1\u001b[0m \u001b[38;5;28;01mraise\u001b[39;00m \u001b[38;5;167;01mException\u001b[39;00m(\u001b[38;5;124m'\u001b[39m\u001b[38;5;124mbla\u001b[39m\u001b[38;5;124m'\u001b[39m)\n",
      "\u001b[0;31mException\u001b[0m: bla"
     ]
    }
   ],
   "source": [
    "raise Exception('bla')"
   ]
  },
  {
   "cell_type": "code",
   "execution_count": 133,
   "id": "c40788da-4179-4494-bfde-d0b5b5ddd0ee",
   "metadata": {},
   "outputs": [
    {
     "name": "stdout",
     "output_type": "stream",
     "text": [
      "Exception rattrapée : test\n"
     ]
    }
   ],
   "source": [
    "try:\n",
    "    raise ValueError('test')\n",
    "except ValueError as e:\n",
    "    print(f'Exception rattrapée : {e}')"
   ]
  },
  {
   "cell_type": "code",
   "execution_count": 134,
   "id": "51b8572c-1e96-496f-aa4a-77fada1d5d9a",
   "metadata": {},
   "outputs": [
    {
     "name": "stdout",
     "output_type": "stream",
     "text": [
      "['ArithmeticError', 'AssertionError', 'AttributeError', 'BaseException', 'BlockingIOError', 'BrokenPipeError', 'BufferError', 'BytesWarning', 'ChildProcessError', 'ConnectionAbortedError', 'ConnectionError', 'ConnectionRefusedError', 'ConnectionResetError', 'DeprecationWarning', 'EOFError', 'Ellipsis', 'EncodingWarning', 'EnvironmentError', 'Exception', 'False', 'FileExistsError', 'FileNotFoundError', 'FloatingPointError', 'FutureWarning', 'GeneratorExit', 'IOError', 'ImportError', 'ImportWarning', 'IndentationError', 'IndexError', 'InterruptedError', 'IsADirectoryError', 'KeyError', 'KeyboardInterrupt', 'LookupError', 'MemoryError', 'ModuleNotFoundError', 'NameError', 'None', 'NotADirectoryError', 'NotImplemented', 'NotImplementedError', 'OSError', 'OverflowError', 'PendingDeprecationWarning', 'PermissionError', 'ProcessLookupError', 'RecursionError', 'ReferenceError', 'ResourceWarning', 'RuntimeError', 'RuntimeWarning', 'StopAsyncIteration', 'StopIteration', 'SyntaxError', 'SyntaxWarning', 'SystemError', 'SystemExit', 'TabError', 'TimeoutError', 'True', 'TypeError', 'UnboundLocalError', 'UnicodeDecodeError', 'UnicodeEncodeError', 'UnicodeError', 'UnicodeTranslateError', 'UnicodeWarning', 'UserWarning', 'ValueError', 'Warning', 'ZeroDivisionError', '__IPYTHON__', '__build_class__', '__debug__', '__doc__', '__import__', '__loader__', '__name__', '__package__', '__spec__', 'abs', 'aiter', 'all', 'anext', 'any', 'ascii', 'bin', 'bool', 'breakpoint', 'bytearray', 'bytes', 'callable', 'chr', 'classmethod', 'compile', 'complex', 'copyright', 'credits', 'delattr', 'dict', 'dir', 'display', 'divmod', 'enumerate', 'eval', 'exec', 'execfile', 'filter', 'float', 'format', 'frozenset', 'get_ipython', 'getattr', 'globals', 'hasattr', 'hash', 'help', 'hex', 'id', 'input', 'int', 'isinstance', 'issubclass', 'iter', 'len', 'license', 'list', 'locals', 'map', 'max', 'memoryview', 'min', 'next', 'object', 'oct', 'open', 'ord', 'pow', 'print', 'property', 'range', 'repr', 'reversed', 'round', 'runfile', 'set', 'setattr', 'slice', 'sorted', 'staticmethod', 'str', 'sum', 'super', 'tuple', 'type', 'vars', 'zip']\n"
     ]
    }
   ],
   "source": [
    "print(dir(__builtins__))"
   ]
  },
  {
   "cell_type": "code",
   "execution_count": 135,
   "id": "3721afa8-47b5-40c7-b839-bb1404f6cac8",
   "metadata": {},
   "outputs": [
    {
     "name": "stdout",
     "output_type": "stream",
     "text": [
      "<class 'str'>\n"
     ]
    }
   ],
   "source": [
    "print(getattr(__builtins__, 'str'))"
   ]
  },
  {
   "cell_type": "code",
   "execution_count": 138,
   "id": "e5355de6-4a29-4c8f-ad94-a668004cd3f0",
   "metadata": {},
   "outputs": [
    {
     "name": "stdout",
     "output_type": "stream",
     "text": [
      "ArithmeticError\n",
      "AssertionError\n",
      "AttributeError\n",
      "BlockingIOError\n",
      "BrokenPipeError\n",
      "BufferError\n",
      "BytesWarning\n",
      "ChildProcessError\n",
      "ConnectionAbortedError\n",
      "ConnectionError\n",
      "ConnectionRefusedError\n",
      "ConnectionResetError\n",
      "DeprecationWarning\n",
      "EOFError\n",
      "EncodingWarning\n",
      "EnvironmentError\n",
      "Exception\n",
      "FileExistsError\n",
      "FileNotFoundError\n",
      "FloatingPointError\n",
      "FutureWarning\n",
      "IOError\n",
      "ImportError\n",
      "ImportWarning\n",
      "IndentationError\n",
      "IndexError\n",
      "InterruptedError\n",
      "IsADirectoryError\n",
      "KeyError\n",
      "LookupError\n",
      "MemoryError\n",
      "ModuleNotFoundError\n",
      "NameError\n",
      "NotADirectoryError\n",
      "NotImplementedError\n",
      "OSError\n",
      "OverflowError\n",
      "PendingDeprecationWarning\n",
      "PermissionError\n",
      "ProcessLookupError\n",
      "RecursionError\n",
      "ReferenceError\n",
      "ResourceWarning\n",
      "RuntimeError\n",
      "RuntimeWarning\n",
      "StopAsyncIteration\n",
      "StopIteration\n",
      "SyntaxError\n",
      "SyntaxWarning\n",
      "SystemError\n",
      "TabError\n",
      "TimeoutError\n",
      "TypeError\n",
      "UnboundLocalError\n",
      "UnicodeDecodeError\n",
      "UnicodeEncodeError\n",
      "UnicodeError\n",
      "UnicodeTranslateError\n",
      "UnicodeWarning\n",
      "UserWarning\n",
      "ValueError\n",
      "Warning\n",
      "ZeroDivisionError\n"
     ]
    }
   ],
   "source": [
    "def is_exception_name(attr_name: str) -> bool:\n",
    "    \"\"\"\n",
    "    Définit si le nom passé en argument correspond à une classe\n",
    "    d’exception dans les builtins de Python\n",
    "    \n",
    "    Examples:\n",
    "    \n",
    "        >>> is_exception_name('ValueError')\n",
    "        True\n",
    "        >>> is_exception_name('Exception')\n",
    "        True\n",
    "        >>> is_exception_name('test')\n",
    "        False\n",
    "        >>> is_exception_name('None')\n",
    "        False\n",
    "    \"\"\"\n",
    "    attr = getattr(__builtins__, attr_name)\n",
    "    if not isinstance(attr, type):\n",
    "        return False  # ce n’est pas une classe\n",
    "    return issubclass(attr, Exception)\n",
    "    \n",
    "\n",
    "print('\\n'.join(filter(is_exception_name, dir(__builtins__))))"
   ]
  },
  {
   "cell_type": "code",
   "execution_count": 141,
   "id": "81c55cdd-b339-4642-a1bf-803d4520430c",
   "metadata": {},
   "outputs": [
    {
     "data": {
      "text/plain": [
       "[ZeroDivisionError, ArithmeticError, Exception, BaseException, object]"
      ]
     },
     "execution_count": 141,
     "metadata": {},
     "output_type": "execute_result"
    }
   ],
   "source": [
    "ZeroDivisionError.mro()"
   ]
  },
  {
   "cell_type": "code",
   "execution_count": 142,
   "id": "08007c44-9fec-43c8-840d-a430c893d6f2",
   "metadata": {},
   "outputs": [],
   "source": [
    "class MyException(Exception):\n",
    "    pass"
   ]
  },
  {
   "cell_type": "code",
   "execution_count": 143,
   "id": "2c422d54-51e0-452a-ad9d-1ea5f98e2ea3",
   "metadata": {},
   "outputs": [
    {
     "name": "stdout",
     "output_type": "stream",
     "text": [
      "[<class '__main__.MyException'>, <class 'Exception'>, <class 'BaseException'>, <class 'object'>]\n"
     ]
    }
   ],
   "source": [
    "print(MyException.mro())"
   ]
  },
  {
   "cell_type": "code",
   "execution_count": 144,
   "id": "2f3f4cb6-d5a3-4380-a078-f3297e38e876",
   "metadata": {},
   "outputs": [],
   "source": [
    "class MyValueError(MyException, ValueError):\n",
    "    pass"
   ]
  },
  {
   "cell_type": "code",
   "execution_count": 145,
   "id": "3006dcb0-3aa4-4c19-bb03-b6594379e22a",
   "metadata": {},
   "outputs": [
    {
     "name": "stdout",
     "output_type": "stream",
     "text": [
      "[<class '__main__.MyValueError'>, <class '__main__.MyException'>, <class 'ValueError'>, <class 'Exception'>, <class 'BaseException'>, <class 'object'>]\n"
     ]
    }
   ],
   "source": [
    "print(MyValueError.mro())"
   ]
  },
  {
   "cell_type": "code",
   "execution_count": 148,
   "id": "01022835-e116-40c3-bf4a-350d4c404597",
   "metadata": {},
   "outputs": [],
   "source": [
    "class MyFileNotFoundError(FileNotFoundError, MyException):\n",
    "    pass"
   ]
  },
  {
   "cell_type": "code",
   "execution_count": 149,
   "id": "41416333-3089-4216-9481-898fe000f763",
   "metadata": {},
   "outputs": [
    {
     "name": "stdout",
     "output_type": "stream",
     "text": [
      "[<class '__main__.MyFileNotFoundError'>, <class 'FileNotFoundError'>, <class 'OSError'>, <class '__main__.MyException'>, <class 'Exception'>, <class 'BaseException'>, <class 'object'>]\n"
     ]
    }
   ],
   "source": [
    "print(MyFileNotFoundError.mro())"
   ]
  },
  {
   "cell_type": "code",
   "execution_count": 154,
   "id": "b536f953-afa6-49bc-b62b-88094ccea8f3",
   "metadata": {},
   "outputs": [],
   "source": [
    "class Vehicule:\n",
    "    \n",
    "    vitesse: int\n",
    "    \n",
    "    def __init__(self):\n",
    "        self.vitesse = 0\n",
    "        print('init de Vehicule')\n",
    "    \n",
    "    def accelerer(self):\n",
    "        self.vitesse += 1\n",
    "\n",
    "\n",
    "class Voiture(Vehicule):\n",
    "    \n",
    "    marque: str\n",
    "    modele: str\n",
    "    \n",
    "    def __init__(self, marque: str, modele: str):\n",
    "        super().__init__()\n",
    "        self.marque = marque\n",
    "        self.modele = modele\n",
    "        print('init de Voiture')\n",
    "    "
   ]
  },
  {
   "cell_type": "code",
   "execution_count": 155,
   "id": "3539becd-3ef1-435e-a5bd-274ac852a586",
   "metadata": {},
   "outputs": [
    {
     "name": "stdout",
     "output_type": "stream",
     "text": [
      "init de Vehicule\n",
      "init de Voiture\n"
     ]
    }
   ],
   "source": [
    "v = Voiture('Porsche', '911')"
   ]
  },
  {
   "cell_type": "code",
   "execution_count": 152,
   "id": "d49bc749-4864-4e9c-88f6-88eba613e7eb",
   "metadata": {},
   "outputs": [
    {
     "name": "stdout",
     "output_type": "stream",
     "text": [
      "911\n"
     ]
    }
   ],
   "source": [
    "print(v.modele)"
   ]
  },
  {
   "cell_type": "code",
   "execution_count": 153,
   "id": "6b92adb8-1839-430d-ac72-25fa1f779165",
   "metadata": {},
   "outputs": [
    {
     "ename": "AttributeError",
     "evalue": "'Voiture' object has no attribute 'vitesse'",
     "output_type": "error",
     "traceback": [
      "\u001b[0;31m---------------------------------------------------------------------------\u001b[0m",
      "\u001b[0;31mAttributeError\u001b[0m                            Traceback (most recent call last)",
      "Input \u001b[0;32mIn [153]\u001b[0m, in \u001b[0;36m<cell line: 1>\u001b[0;34m()\u001b[0m\n\u001b[0;32m----> 1\u001b[0m \u001b[43mv\u001b[49m\u001b[38;5;241;43m.\u001b[39;49m\u001b[43maccelerer\u001b[49m\u001b[43m(\u001b[49m\u001b[43m)\u001b[49m\n\u001b[1;32m      3\u001b[0m \u001b[38;5;28mprint\u001b[39m(v\u001b[38;5;241m.\u001b[39mvitesse)\n",
      "Input \u001b[0;32mIn [150]\u001b[0m, in \u001b[0;36mVehicule.accelerer\u001b[0;34m(self)\u001b[0m\n\u001b[1;32m      8\u001b[0m \u001b[38;5;28;01mdef\u001b[39;00m \u001b[38;5;21maccelerer\u001b[39m(\u001b[38;5;28mself\u001b[39m):\n\u001b[0;32m----> 9\u001b[0m     \u001b[38;5;28mself\u001b[39m\u001b[38;5;241m.\u001b[39mvitesse \u001b[38;5;241m+\u001b[39m\u001b[38;5;241m=\u001b[39m \u001b[38;5;241m1\u001b[39m\n",
      "\u001b[0;31mAttributeError\u001b[0m: 'Voiture' object has no attribute 'vitesse'"
     ]
    }
   ],
   "source": [
    "v.accelerer()\n",
    "\n",
    "print(v.vitesse)"
   ]
  },
  {
   "cell_type": "code",
   "execution_count": 156,
   "id": "70464c95-f856-42b2-9791-fa8f85ee3938",
   "metadata": {},
   "outputs": [],
   "source": [
    "class SuperVoiture(Voiture):\n",
    "    \n",
    "    def __init__(self, *args, **kwargs):\n",
    "        super().__init__(*args, **kwargs)\n",
    "        print('init de SuperVoiture')"
   ]
  },
  {
   "cell_type": "code",
   "execution_count": 158,
   "id": "005014bc-0a7f-45ca-b6ae-cbc96af3a545",
   "metadata": {},
   "outputs": [
    {
     "name": "stdout",
     "output_type": "stream",
     "text": [
      "init de Vehicule\n",
      "init de Voiture\n",
      "init de SuperVoiture\n"
     ]
    }
   ],
   "source": [
    "twingo = SuperVoiture('Renault', 'Twingo')"
   ]
  },
  {
   "cell_type": "code",
   "execution_count": 171,
   "id": "ec90a822-3a2f-4658-ba14-f705cc82ae7a",
   "metadata": {},
   "outputs": [],
   "source": [
    "class A:\n",
    "    \n",
    "    def method(self) -> str:\n",
    "        return 'A'\n",
    "    \n",
    "    \n",
    "class B:\n",
    "    \n",
    "    def method(self) -> str:\n",
    "        return 'B'\n",
    "    \n",
    "    \n",
    "class C(A, B):\n",
    "    \n",
    "    def method(self) -> str:\n",
    "        return B.method(self)"
   ]
  },
  {
   "cell_type": "code",
   "execution_count": 172,
   "id": "ac578d34-dcad-49e9-a09a-f2ffeda00da3",
   "metadata": {},
   "outputs": [
    {
     "name": "stdout",
     "output_type": "stream",
     "text": [
      "B\n"
     ]
    }
   ],
   "source": [
    "c = C()\n",
    "\n",
    "print(c.method())"
   ]
  },
  {
   "cell_type": "code",
   "execution_count": 173,
   "id": "08417c37-ec85-4c06-84af-a44ebb1bc030",
   "metadata": {},
   "outputs": [
    {
     "data": {
      "text/plain": [
       "2"
      ]
     },
     "execution_count": 173,
     "metadata": {},
     "output_type": "execute_result"
    }
   ],
   "source": [
    "1 + 1"
   ]
  },
  {
   "cell_type": "code",
   "execution_count": 174,
   "id": "376a075a-f0f2-40a7-a055-68aa776c0e79",
   "metadata": {},
   "outputs": [],
   "source": [
    "class Container:\n",
    "    \n",
    "    contents: list = []"
   ]
  },
  {
   "cell_type": "code",
   "execution_count": 175,
   "id": "41ed886d-dec6-4ed5-aada-90edc5774162",
   "metadata": {},
   "outputs": [],
   "source": [
    "c1 = Container()\n",
    "\n",
    "c1.contents.append('foo')"
   ]
  },
  {
   "cell_type": "code",
   "execution_count": 176,
   "id": "ff5bc8d3-80fb-40f2-85be-bceb8b258d10",
   "metadata": {},
   "outputs": [
    {
     "name": "stdout",
     "output_type": "stream",
     "text": [
      "['foo']\n"
     ]
    }
   ],
   "source": [
    "c2 = Container()\n",
    "\n",
    "print(c2.contents)"
   ]
  },
  {
   "cell_type": "code",
   "execution_count": 177,
   "id": "b2a36a02-be36-4e44-83de-21947f86a2e8",
   "metadata": {},
   "outputs": [],
   "source": [
    "class Container:\n",
    "    \n",
    "    contents: list\n",
    "    \n",
    "    def __init__(self):\n",
    "        self.contents = []"
   ]
  },
  {
   "cell_type": "code",
   "execution_count": 178,
   "id": "0a6b7bd5-a510-4e16-8ae4-564ce0373f06",
   "metadata": {},
   "outputs": [],
   "source": [
    "c1 = Container()\n",
    "\n",
    "c1.contents.append('foo')"
   ]
  },
  {
   "cell_type": "code",
   "execution_count": 179,
   "id": "f4f3efa3-f772-45d2-9b4d-3a36910bb233",
   "metadata": {},
   "outputs": [
    {
     "name": "stdout",
     "output_type": "stream",
     "text": [
      "[]\n"
     ]
    }
   ],
   "source": [
    "c2 = Container()\n",
    "\n",
    "print(c2.contents)"
   ]
  },
  {
   "cell_type": "code",
   "execution_count": 181,
   "id": "fea018d5-03aa-47a5-bd96-0bc7b02eee60",
   "metadata": {},
   "outputs": [
    {
     "name": "stderr",
     "output_type": "stream",
     "text": [
      "<cell>1: error: Need type annotation for \"l\" (hint: \"l: List[<type>] = ...\")\n"
     ]
    },
    {
     "ename": "ValueError",
     "evalue": "list.remove(x): x not in list",
     "output_type": "error",
     "traceback": [
      "\u001b[0;31m---------------------------------------------------------------------------\u001b[0m",
      "\u001b[0;31mValueError\u001b[0m                                Traceback (most recent call last)",
      "Input \u001b[0;32mIn [181]\u001b[0m, in \u001b[0;36m<cell line: 3>\u001b[0;34m()\u001b[0m\n\u001b[1;32m      1\u001b[0m l \u001b[38;5;241m=\u001b[39m []\n\u001b[0;32m----> 3\u001b[0m \u001b[43ml\u001b[49m\u001b[38;5;241;43m.\u001b[39;49m\u001b[43mremove\u001b[49m\u001b[43m(\u001b[49m\u001b[38;5;124;43m'\u001b[39;49m\u001b[38;5;124;43mtest\u001b[39;49m\u001b[38;5;124;43m'\u001b[39;49m\u001b[43m)\u001b[49m\n",
      "\u001b[0;31mValueError\u001b[0m: list.remove(x): x not in list"
     ]
    }
   ],
   "source": [
    "l = []\n",
    "\n",
    "l.remove('test')"
   ]
  }
 ],
 "metadata": {
  "kernelspec": {
   "display_name": "Python 3 (ipykernel)",
   "language": "python",
   "name": "python3"
  },
  "language_info": {
   "codemirror_mode": {
    "name": "ipython",
    "version": 3
   },
   "file_extension": ".py",
   "mimetype": "text/x-python",
   "name": "python",
   "nbconvert_exporter": "python",
   "pygments_lexer": "ipython3",
   "version": "3.10.4"
  }
 },
 "nbformat": 4,
 "nbformat_minor": 5
}
